{
 "cells": [
  {
   "cell_type": "markdown",
   "id": "950f9c56",
   "metadata": {
    "slideshow": {
     "slide_type": "slide"
    }
   },
   "source": [
    "<img src = 'imagens/Logo do Projeto 3 .png' >"
   ]
  },
  {
   "cell_type": "markdown",
   "id": "0c864d9b",
   "metadata": {
    "slideshow": {
     "slide_type": "slide"
    }
   },
   "source": [
    "#  <span style = \"font-family:Times New Roman\"> <font color = #045cbc> Objetivo \n",
    "    \n",
    "<br>\n",
    "    \n",
    "- Apresentar algumas informações referentes à Data Science e Análise de Dados\n",
    "<br>\n",
    "    \n",
    "- Comentários algumas ferramentas como Excel, R, Power BI     \n",
    "<br>\n",
    "    \n",
    "- Quais são as possibilidades da ferramenta \n",
    "   <br>\n",
    "    \n",
    "- Fazer uma análise do câmbio do Rublo e Grívnia e da pauta de exportações da Ucrânia\n",
    "   <br>\n",
    "- Fazer Processo Seletivo     "
   ]
  },
  {
   "cell_type": "markdown",
   "id": "e815a05b",
   "metadata": {
    "slideshow": {
     "slide_type": "slide"
    }
   },
   "source": [
    "## <span style = \"font-family:Times New Roman\"> <font color = #045cbc> Análise de Dados "
   ]
  },
  {
   "cell_type": "markdown",
   "id": "4f2c9e5e",
   "metadata": {
    "slideshow": {
     "slide_type": "fragment"
    }
   },
   "source": [
    "De acordo com o [**Wikipedia**](https://pt.wikipedia.org/wiki/An%C3%A1lise_de_dados) a análise de dados \"é um processo de inspeção, limpeza, transformação e modelagem de dados **com o objetivo de descobrir informações úteis**, informar conclusões e apoiar a tomada de decisões\".\n",
    "\n",
    "Este processo de analise de dados é bastante comum em diversas áreas dentre elas temos a área da saúde, mercado financeiro, empresas de consultoria, a própria academia  entre várias outras.\n",
    "\n",
    "Mas o que é um <font color = #045cbc>**\"dado\"** <font color = black>?\n",
    "    \n",
    "De acordo com [Valdemar Setzer](https://www.ime.usp.br/~vwsetzer/datagrama.html#Autor), professor do departamento de ciência da computação da USP, dado é <i>**\"uma seqüência de símbolos quantificados ou quantificáveis\"**</i>. Isso pode incluir uma vasta gama de conteúdos, que podem ser de ordem geográfica, temporal, sonora, tabular, textual, visual etc. "
   ]
  },
  {
   "cell_type": "markdown",
   "id": "fbdf51ec",
   "metadata": {
    "slideshow": {
     "slide_type": "subslide"
    }
   },
   "source": [
    "<img src = 'imagens/tipos de dados/geograficos.png' > <br> Fonte : [**Geopandas**](https://geopandas.org/en/stable/docs/user_guide/data_structures.html)"
   ]
  },
  {
   "cell_type": "markdown",
   "id": "d8a20f3a",
   "metadata": {
    "slideshow": {
     "slide_type": "subslide"
    }
   },
   "source": [
    "<img src = 'imagens/tipos de dados/série de tempo.png' >"
   ]
  },
  {
   "cell_type": "markdown",
   "id": "3f27c2fe",
   "metadata": {
    "slideshow": {
     "slide_type": "slide"
    }
   },
   "source": [
    "### <span style = \"font-family:Times New Roman\"> <font color = #045cbc> Algumas Ferramentas Disponíveis "
   ]
  },
  {
   "cell_type": "markdown",
   "id": "bac9fd9b",
   "metadata": {
    "slideshow": {
     "slide_type": "fragment"
    }
   },
   "source": [
    "<img src = 'imagens/Algumas Ferramentas para Análise.png' width = 720 >"
   ]
  },
  {
   "cell_type": "markdown",
   "id": "a2ca9287",
   "metadata": {
    "slideshow": {
     "slide_type": "fragment"
    }
   },
   "source": [
    "Existem uma série de ferramentas disponíveis para análise de dados. Nesta apresentação vamos comentar algumas famosas. "
   ]
  },
  {
   "cell_type": "markdown",
   "id": "6f504e8f",
   "metadata": {
    "slideshow": {
     "slide_type": "subslide"
    }
   },
   "source": [
    "<img src = 'imagens/ferramentas/2.png' >"
   ]
  },
  {
   "cell_type": "markdown",
   "id": "a36bdadc",
   "metadata": {
    "slideshow": {
     "slide_type": "subslide"
    }
   },
   "source": [
    "<img src = 'imagens/ferramentas/3.png' >\n",
    "\n",
    "Fonte: [**Microsoft**](https://docs.microsoft.com/pt-br/power-bi/admin/service-admin-manage-your-data-storage-in-power-bi)"
   ]
  },
  {
   "cell_type": "markdown",
   "id": "229135fc",
   "metadata": {
    "slideshow": {
     "slide_type": "subslide"
    }
   },
   "source": [
    "<img src = 'imagens/ferramentas/4.png' >"
   ]
  },
  {
   "cell_type": "markdown",
   "id": "54c02610",
   "metadata": {
    "slideshow": {
     "slide_type": "subslide"
    }
   },
   "source": [
    "<img src = 'imagens/ferramentas/5.png' >"
   ]
  },
  {
   "cell_type": "markdown",
   "id": "053d7208",
   "metadata": {},
   "source": [
    "<br>\n",
    "\n",
    "# <span style = \"font-family:Times New Roman\"> <font color = #045cbc> Guerra da Ucrânia \n",
    "    \n",
    "<br>"
   ]
  },
  {
   "cell_type": "markdown",
   "id": "dbcbee67",
   "metadata": {},
   "source": [
    "- Contextualizar o que é, como começou, impactos sociais e econômicos "
   ]
  },
  {
   "cell_type": "markdown",
   "id": "1da260d3",
   "metadata": {},
   "source": [
    "<br>\n",
    "\n",
    "# <span style = \"font-family:Times New Roman\"> <font color = #045cbc> Análise Cambial\n",
    "    \n",
    "<br>"
   ]
  },
  {
   "cell_type": "markdown",
   "id": "55f3caa4",
   "metadata": {},
   "source": [
    "\n",
    "\n",
    "<br>\n",
    "\n",
    "- Buscar referências de autores/artigos que escreveram sobre este tema ; \n",
    "- Tratar uma análise breve do câmbio \n"
   ]
  },
  {
   "cell_type": "markdown",
   "id": "05227f71",
   "metadata": {},
   "source": [
    "\n",
    "<br>\n",
    "\n",
    "## <span style = \"font-family:Times New Roman\"> <font color = #045cbc>Rublo Russo \n",
    "    \n",
    "<br>\n"
   ]
  },
  {
   "cell_type": "markdown",
   "id": "04745ae0",
   "metadata": {},
   "source": [
    "Para começarmos, irei importar as bibliotecas necessárias para a analise lê-las"
   ]
  },
  {
   "cell_type": "code",
   "execution_count": 1,
   "id": "3ab6539e",
   "metadata": {},
   "outputs": [],
   "source": [
    "import pandas as pd\n",
    "import seaborn as sb\n",
    "import matplotlib.pyplot as plt\n",
    "from dateutil.relativedelta import relativedelta\n",
    "import datetime\n",
    "import plotly.express as px"
   ]
  },
  {
   "cell_type": "code",
   "execution_count": 2,
   "id": "5678538f",
   "metadata": {},
   "outputs": [],
   "source": [
    "rublo_e_dolar = pd.read_csv('./dados/USD_RUB.csv') "
   ]
  },
  {
   "cell_type": "markdown",
   "id": "6046d34a",
   "metadata": {},
   "source": [
    "Agora, para mais fácil entendimento alterei os nomes das variáveis para que o código rode, e verificar se estão corretos\n",
    "e traduzir as variáveis para português."
   ]
  },
  {
   "cell_type": "code",
   "execution_count": 3,
   "id": "503ec4a9",
   "metadata": {},
   "outputs": [],
   "source": [
    "rublo_e_dolar.rename(columns={'Price': 'Último', 'Date': 'Data','High': 'Máxima',\n",
    "                            'Low': 'Miníma', 'Change%': 'Var%', 'Open': 'Abertura',}, inplace=True)"
   ]
  },
  {
   "cell_type": "code",
   "execution_count": 4,
   "id": "56d7c30d",
   "metadata": {},
   "outputs": [
    {
     "data": {
      "text/html": [
       "<div>\n",
       "<style scoped>\n",
       "    .dataframe tbody tr th:only-of-type {\n",
       "        vertical-align: middle;\n",
       "    }\n",
       "\n",
       "    .dataframe tbody tr th {\n",
       "        vertical-align: top;\n",
       "    }\n",
       "\n",
       "    .dataframe thead th {\n",
       "        text-align: right;\n",
       "    }\n",
       "</style>\n",
       "<table border=\"1\" class=\"dataframe\">\n",
       "  <thead>\n",
       "    <tr style=\"text-align: right;\">\n",
       "      <th></th>\n",
       "      <th>Data</th>\n",
       "      <th>Último</th>\n",
       "      <th>Abertura</th>\n",
       "      <th>Máxima</th>\n",
       "      <th>Mínima</th>\n",
       "      <th>Var%</th>\n",
       "    </tr>\n",
       "  </thead>\n",
       "  <tbody>\n",
       "    <tr>\n",
       "      <th>0</th>\n",
       "      <td>Jul 22</td>\n",
       "      <td>55,0200</td>\n",
       "      <td>51,4500</td>\n",
       "      <td>64,5988</td>\n",
       "      <td>51,3998</td>\n",
       "      <td>6,94%</td>\n",
       "    </tr>\n",
       "    <tr>\n",
       "      <th>1</th>\n",
       "      <td>Jun 22</td>\n",
       "      <td>51,4500</td>\n",
       "      <td>61,5000</td>\n",
       "      <td>62,4923</td>\n",
       "      <td>50,1006</td>\n",
       "      <td>-16,34%</td>\n",
       "    </tr>\n",
       "    <tr>\n",
       "      <th>2</th>\n",
       "      <td>Mai 22</td>\n",
       "      <td>61,5000</td>\n",
       "      <td>70,9600</td>\n",
       "      <td>70,9600</td>\n",
       "      <td>55,8383</td>\n",
       "      <td>-13,33%</td>\n",
       "    </tr>\n",
       "    <tr>\n",
       "      <th>3</th>\n",
       "      <td>Abr 22</td>\n",
       "      <td>70,9600</td>\n",
       "      <td>83,2000</td>\n",
       "      <td>84,9917</td>\n",
       "      <td>70,3221</td>\n",
       "      <td>-14,71%</td>\n",
       "    </tr>\n",
       "    <tr>\n",
       "      <th>4</th>\n",
       "      <td>Mar 22</td>\n",
       "      <td>83,2000</td>\n",
       "      <td>94,6025</td>\n",
       "      <td>121,2100</td>\n",
       "      <td>82,9525</td>\n",
       "      <td>-12,05%</td>\n",
       "    </tr>\n",
       "    <tr>\n",
       "      <th>...</th>\n",
       "      <td>...</td>\n",
       "      <td>...</td>\n",
       "      <td>...</td>\n",
       "      <td>...</td>\n",
       "      <td>...</td>\n",
       "      <td>...</td>\n",
       "    </tr>\n",
       "    <tr>\n",
       "      <th>86</th>\n",
       "      <td>Mai 15</td>\n",
       "      <td>52,3212</td>\n",
       "      <td>51,6513</td>\n",
       "      <td>52,1965</td>\n",
       "      <td>50,3630</td>\n",
       "      <td>1,30%</td>\n",
       "    </tr>\n",
       "    <tr>\n",
       "      <th>87</th>\n",
       "      <td>Abr 15</td>\n",
       "      <td>51,6513</td>\n",
       "      <td>58,1993</td>\n",
       "      <td>58,4863</td>\n",
       "      <td>49,4550</td>\n",
       "      <td>-11,25%</td>\n",
       "    </tr>\n",
       "    <tr>\n",
       "      <th>88</th>\n",
       "      <td>Mar 15</td>\n",
       "      <td>58,1993</td>\n",
       "      <td>61,6207</td>\n",
       "      <td>63,0344</td>\n",
       "      <td>56,2019</td>\n",
       "      <td>-5,55%</td>\n",
       "    </tr>\n",
       "    <tr>\n",
       "      <th>89</th>\n",
       "      <td>Fev 15</td>\n",
       "      <td>61,6207</td>\n",
       "      <td>68,8629</td>\n",
       "      <td>70,4525</td>\n",
       "      <td>59,8819</td>\n",
       "      <td>-10,52%</td>\n",
       "    </tr>\n",
       "    <tr>\n",
       "      <th>90</th>\n",
       "      <td>Jan 15</td>\n",
       "      <td>68,8629</td>\n",
       "      <td>55,9077</td>\n",
       "      <td>71,7575</td>\n",
       "      <td>55,9077</td>\n",
       "      <td>23,17%</td>\n",
       "    </tr>\n",
       "  </tbody>\n",
       "</table>\n",
       "<p>91 rows × 6 columns</p>\n",
       "</div>"
      ],
      "text/plain": [
       "      Data   Último Abertura    Máxima   Mínima     Var%\n",
       "0   Jul 22  55,0200  51,4500   64,5988  51,3998    6,94%\n",
       "1   Jun 22  51,4500  61,5000   62,4923  50,1006  -16,34%\n",
       "2   Mai 22  61,5000  70,9600   70,9600  55,8383  -13,33%\n",
       "3   Abr 22  70,9600  83,2000   84,9917  70,3221  -14,71%\n",
       "4   Mar 22  83,2000  94,6025  121,2100  82,9525  -12,05%\n",
       "..     ...      ...      ...       ...      ...      ...\n",
       "86  Mai 15  52,3212  51,6513   52,1965  50,3630    1,30%\n",
       "87  Abr 15  51,6513  58,1993   58,4863  49,4550  -11,25%\n",
       "88  Mar 15  58,1993  61,6207   63,0344  56,2019   -5,55%\n",
       "89  Fev 15  61,6207  68,8629   70,4525  59,8819  -10,52%\n",
       "90  Jan 15  68,8629  55,9077   71,7575  55,9077   23,17%\n",
       "\n",
       "[91 rows x 6 columns]"
      ]
     },
     "execution_count": 4,
     "metadata": {},
     "output_type": "execute_result"
    }
   ],
   "source": [
    "rublo_e_dolar"
   ]
  },
  {
   "cell_type": "markdown",
   "id": "26f986d4",
   "metadata": {},
   "source": [
    "Para esta análise, só utilizei as variáveis 'Data' e 'Último' (Preço de fechamento), e agora usarei um comando que faça essas variáveis serem lidas, e após isso irei retirar todos os dados em branco que possam existir. "
   ]
  },
  {
   "cell_type": "code",
   "execution_count": 5,
   "id": "d1b53357",
   "metadata": {},
   "outputs": [],
   "source": [
    "rublo_e_dolar = rublo_e_dolar[['Data', 'Último']]"
   ]
  },
  {
   "cell_type": "code",
   "execution_count": 6,
   "id": "bd5438eb",
   "metadata": {},
   "outputs": [],
   "source": [
    "rublo_e_dolar = rublo_e_dolar.dropna()"
   ]
  },
  {
   "cell_type": "markdown",
   "id": "d2220d9c",
   "metadata": {},
   "source": [
    "Agora, irei ajustar a data em ordem crescente pois o arquivo está com as datas ao contrário e também ajustar o índex."
   ]
  },
  {
   "cell_type": "code",
   "execution_count": 7,
   "id": "a86b2705",
   "metadata": {},
   "outputs": [],
   "source": [
    "data_correta = rublo_e_dolar.iloc[::-1]"
   ]
  },
  {
   "cell_type": "code",
   "execution_count": 8,
   "id": "c65a958b",
   "metadata": {},
   "outputs": [],
   "source": [
    "data_correta.reset_index(drop = True, inplace = True)"
   ]
  },
  {
   "cell_type": "code",
   "execution_count": 19,
   "id": "60f3cbe6",
   "metadata": {},
   "outputs": [
    {
     "data": {
      "text/html": [
       "<div>\n",
       "<style scoped>\n",
       "    .dataframe tbody tr th:only-of-type {\n",
       "        vertical-align: middle;\n",
       "    }\n",
       "\n",
       "    .dataframe tbody tr th {\n",
       "        vertical-align: top;\n",
       "    }\n",
       "\n",
       "    .dataframe thead th {\n",
       "        text-align: right;\n",
       "    }\n",
       "</style>\n",
       "<table border=\"1\" class=\"dataframe\">\n",
       "  <thead>\n",
       "    <tr style=\"text-align: right;\">\n",
       "      <th></th>\n",
       "      <th>Data</th>\n",
       "      <th>Último</th>\n",
       "      <th>datetime</th>\n",
       "    </tr>\n",
       "  </thead>\n",
       "  <tbody>\n",
       "    <tr>\n",
       "      <th>0</th>\n",
       "      <td>Jan 15</td>\n",
       "      <td>68,8629</td>\n",
       "      <td>2015-01-01</td>\n",
       "    </tr>\n",
       "    <tr>\n",
       "      <th>1</th>\n",
       "      <td>Fev 15</td>\n",
       "      <td>61,6207</td>\n",
       "      <td>2015-02-01</td>\n",
       "    </tr>\n",
       "    <tr>\n",
       "      <th>2</th>\n",
       "      <td>Mar 15</td>\n",
       "      <td>58,1993</td>\n",
       "      <td>2015-03-01</td>\n",
       "    </tr>\n",
       "    <tr>\n",
       "      <th>3</th>\n",
       "      <td>Abr 15</td>\n",
       "      <td>51,6513</td>\n",
       "      <td>2015-04-01</td>\n",
       "    </tr>\n",
       "    <tr>\n",
       "      <th>4</th>\n",
       "      <td>Mai 15</td>\n",
       "      <td>52,3212</td>\n",
       "      <td>2015-05-01</td>\n",
       "    </tr>\n",
       "    <tr>\n",
       "      <th>...</th>\n",
       "      <td>...</td>\n",
       "      <td>...</td>\n",
       "      <td>...</td>\n",
       "    </tr>\n",
       "    <tr>\n",
       "      <th>86</th>\n",
       "      <td>Mar 22</td>\n",
       "      <td>83,2000</td>\n",
       "      <td>2022-03-01</td>\n",
       "    </tr>\n",
       "    <tr>\n",
       "      <th>87</th>\n",
       "      <td>Abr 22</td>\n",
       "      <td>70,9600</td>\n",
       "      <td>2022-04-01</td>\n",
       "    </tr>\n",
       "    <tr>\n",
       "      <th>88</th>\n",
       "      <td>Mai 22</td>\n",
       "      <td>61,5000</td>\n",
       "      <td>2022-05-01</td>\n",
       "    </tr>\n",
       "    <tr>\n",
       "      <th>89</th>\n",
       "      <td>Jun 22</td>\n",
       "      <td>51,4500</td>\n",
       "      <td>2022-06-01</td>\n",
       "    </tr>\n",
       "    <tr>\n",
       "      <th>90</th>\n",
       "      <td>Jul 22</td>\n",
       "      <td>55,0200</td>\n",
       "      <td>2022-07-01</td>\n",
       "    </tr>\n",
       "  </tbody>\n",
       "</table>\n",
       "<p>91 rows × 3 columns</p>\n",
       "</div>"
      ],
      "text/plain": [
       "      Data   Último    datetime\n",
       "0   Jan 15  68,8629  2015-01-01\n",
       "1   Fev 15  61,6207  2015-02-01\n",
       "2   Mar 15  58,1993  2015-03-01\n",
       "3   Abr 15  51,6513  2015-04-01\n",
       "4   Mai 15  52,3212  2015-05-01\n",
       "..     ...      ...         ...\n",
       "86  Mar 22  83,2000  2022-03-01\n",
       "87  Abr 22  70,9600  2022-04-01\n",
       "88  Mai 22  61,5000  2022-05-01\n",
       "89  Jun 22  51,4500  2022-06-01\n",
       "90  Jul 22  55,0200  2022-07-01\n",
       "\n",
       "[91 rows x 3 columns]"
      ]
     },
     "execution_count": 19,
     "metadata": {},
     "output_type": "execute_result"
    }
   ],
   "source": [
    "data_correta"
   ]
  },
  {
   "cell_type": "markdown",
   "id": "afa5ad8b",
   "metadata": {},
   "source": [
    "Precisarei transformar a variável ''Data'' em datetime, sendo o módulo datetime responsável por fornecer as classes para manipulação de datas e horas. Assim sendo possivél organizar pela data correta. Também irei colocar a data como índice. "
   ]
  },
  {
   "cell_type": "code",
   "execution_count": 9,
   "id": "dd9d2e25",
   "metadata": {},
   "outputs": [
    {
     "name": "stderr",
     "output_type": "stream",
     "text": [
      "C:\\ProgramData\\Anaconda3\\lib\\site-packages\\pandas\\core\\indexing.py:1599: SettingWithCopyWarning: \n",
      "A value is trying to be set on a copy of a slice from a DataFrame.\n",
      "Try using .loc[row_indexer,col_indexer] = value instead\n",
      "\n",
      "See the caveats in the documentation: https://pandas.pydata.org/pandas-docs/stable/user_guide/indexing.html#returning-a-view-versus-a-copy\n",
      "  self.obj[key] = infer_fill_value(value)\n",
      "C:\\ProgramData\\Anaconda3\\lib\\site-packages\\pandas\\core\\indexing.py:1720: SettingWithCopyWarning: \n",
      "A value is trying to be set on a copy of a slice from a DataFrame.\n",
      "Try using .loc[row_indexer,col_indexer] = value instead\n",
      "\n",
      "See the caveats in the documentation: https://pandas.pydata.org/pandas-docs/stable/user_guide/indexing.html#returning-a-view-versus-a-copy\n",
      "  self._setitem_single_column(loc, value, pi)\n"
     ]
    }
   ],
   "source": [
    "inicio_date = datetime.date(2015, 1, 1)\n",
    "fim_date = datetime.date(2022, 7, 1)\n",
    "delta = relativedelta(months=1)\n",
    "datas = []\n",
    "while (inicio_date <= fim_date):\n",
    "    datas.append(inicio_date)\n",
    "    inicio_date += delta\n",
    "for registro in range(len(data_correta)):\n",
    "    data_correta.loc[registro, 'datetime'] = datas[registro]"
   ]
  },
  {
   "cell_type": "code",
   "execution_count": 10,
   "id": "ddaebcc0",
   "metadata": {},
   "outputs": [],
   "source": [
    "rublo3 = data_correta.set_index('datetime')"
   ]
  },
  {
   "cell_type": "code",
   "execution_count": 11,
   "id": "52988271",
   "metadata": {},
   "outputs": [],
   "source": [
    "rublo3 = data_correta.drop(columns=['Data'])"
   ]
  },
  {
   "cell_type": "code",
   "execution_count": 12,
   "id": "3c9edeee",
   "metadata": {},
   "outputs": [],
   "source": [
    "rublo3.set_index('datetime', inplace=True)"
   ]
  },
  {
   "cell_type": "code",
   "execution_count": 13,
   "id": "70d3c027",
   "metadata": {},
   "outputs": [],
   "source": [
    "rublo3['Último'] = rublo3['Último'].str.replace(',','.').astype(float)"
   ]
  },
  {
   "cell_type": "markdown",
   "id": "9f9df025",
   "metadata": {},
   "source": [
    "Colocando a Data como índice, assim podemos manipular o preço através dos anos escolhidos."
   ]
  },
  {
   "cell_type": "code",
   "execution_count": 21,
   "id": "a352e78f",
   "metadata": {},
   "outputs": [
    {
     "data": {
      "application/vnd.plotly.v1+json": {
       "config": {
        "plotlyServerURL": "https://plot.ly"
       },
       "data": [
        {
         "hovertemplate": "datetime=%{x}<br>Último=%{y}<extra></extra>",
         "legendgroup": "",
         "line": {
          "color": "#636efa",
          "dash": "solid"
         },
         "marker": {
          "symbol": "circle"
         },
         "mode": "lines",
         "name": "",
         "orientation": "v",
         "showlegend": false,
         "type": "scatter",
         "x": [
          "2015-01-01",
          "2015-02-01",
          "2015-03-01",
          "2015-04-01",
          "2015-05-01",
          "2015-06-01",
          "2015-07-01",
          "2015-08-01",
          "2015-09-01",
          "2015-10-01",
          "2015-11-01",
          "2015-12-01",
          "2016-01-01",
          "2016-02-01",
          "2016-03-01",
          "2016-04-01",
          "2016-05-01",
          "2016-06-01",
          "2016-07-01",
          "2016-08-01",
          "2016-09-01",
          "2016-10-01",
          "2016-11-01",
          "2016-12-01",
          "2017-01-01",
          "2017-02-01",
          "2017-03-01",
          "2017-04-01",
          "2017-05-01",
          "2017-06-01",
          "2017-07-01",
          "2017-08-01",
          "2017-09-01",
          "2017-10-01",
          "2017-11-01",
          "2017-12-01",
          "2018-01-01",
          "2018-02-01",
          "2018-03-01",
          "2018-04-01",
          "2018-05-01",
          "2018-06-01",
          "2018-07-01",
          "2018-08-01",
          "2018-09-01",
          "2018-10-01",
          "2018-11-01",
          "2018-12-01",
          "2019-01-01",
          "2019-02-01",
          "2019-03-01",
          "2019-04-01",
          "2019-05-01",
          "2019-06-01",
          "2019-07-01",
          "2019-08-01",
          "2019-09-01",
          "2019-10-01",
          "2019-11-01",
          "2019-12-01",
          "2020-01-01",
          "2020-02-01",
          "2020-03-01",
          "2020-04-01",
          "2020-05-01",
          "2020-06-01",
          "2020-07-01",
          "2020-08-01",
          "2020-09-01",
          "2020-10-01",
          "2020-11-01",
          "2020-12-01",
          "2021-01-01",
          "2021-02-01",
          "2021-03-01",
          "2021-04-01",
          "2021-05-01",
          "2021-06-01",
          "2021-07-01",
          "2021-08-01",
          "2021-09-01",
          "2021-10-01",
          "2021-11-01",
          "2021-12-01",
          "2022-01-01",
          "2022-02-01",
          "2022-03-01",
          "2022-04-01",
          "2022-05-01",
          "2022-06-01",
          "2022-07-01"
         ],
         "xaxis": "x",
         "y": [
          "68,8629",
          "61,6207",
          "58,1993",
          "51,6513",
          "52,3212",
          "55,2806",
          "61,7417",
          "64,2768",
          "65,4532",
          "63,9454",
          "66,4888",
          "73,5963",
          "75,4644",
          "75,1682",
          "67,0288",
          "64,6542",
          "66,6968",
          "63,9731",
          "66,0429",
          "65,3317",
          "62,8343",
          "63,3823",
          "64,1420",
          "61,2730",
          "60,1589",
          "58,3058",
          "56,2665",
          "56,9311",
          "56,5617",
          "58,9401",
          "59,7719",
          "58,0060",
          "57,4898",
          "58,3289",
          "58,4380",
          "57,6114",
          "56,2075",
          "56,3291",
          "57,1444",
          "62,9408",
          "62,4030",
          "62,7338",
          "62,5078",
          "67,5458",
          "65,5503",
          "65,8789",
          "66,9510",
          "69,8319",
          "65,4103",
          "65,9151",
          "65,6340",
          "64,6373",
          "65,4306",
          "63,2305",
          "63,6284",
          "66,7657",
          "64,8569",
          "64,1328",
          "64,3195",
          "61,9863",
          "63,9203",
          "66,8806",
          "78,4426",
          "74,3813",
          "70,1445",
          "71,1734",
          "74,4114",
          "74,0718",
          "77,6319",
          "79,5257",
          "76,4033",
          "74,4121",
          "75,7404",
          "74,6196",
          "75,6987",
          "75,2073",
          "73,4341",
          "73,1522",
          "73,1409",
          "73,2274",
          "72,7514",
          "70,9464",
          "74,0838",
          "74,6539",
          "77,3792",
          "94,6025",
          "83,2000",
          "70,9600",
          "61,5000",
          "51,4500",
          "55,0200"
         ],
         "yaxis": "y"
        }
       ],
       "layout": {
        "legend": {
         "tracegroupgap": 0
        },
        "template": {
         "data": {
          "bar": [
           {
            "error_x": {
             "color": "#2a3f5f"
            },
            "error_y": {
             "color": "#2a3f5f"
            },
            "marker": {
             "line": {
              "color": "#E5ECF6",
              "width": 0.5
             },
             "pattern": {
              "fillmode": "overlay",
              "size": 10,
              "solidity": 0.2
             }
            },
            "type": "bar"
           }
          ],
          "barpolar": [
           {
            "marker": {
             "line": {
              "color": "#E5ECF6",
              "width": 0.5
             },
             "pattern": {
              "fillmode": "overlay",
              "size": 10,
              "solidity": 0.2
             }
            },
            "type": "barpolar"
           }
          ],
          "carpet": [
           {
            "aaxis": {
             "endlinecolor": "#2a3f5f",
             "gridcolor": "white",
             "linecolor": "white",
             "minorgridcolor": "white",
             "startlinecolor": "#2a3f5f"
            },
            "baxis": {
             "endlinecolor": "#2a3f5f",
             "gridcolor": "white",
             "linecolor": "white",
             "minorgridcolor": "white",
             "startlinecolor": "#2a3f5f"
            },
            "type": "carpet"
           }
          ],
          "choropleth": [
           {
            "colorbar": {
             "outlinewidth": 0,
             "ticks": ""
            },
            "type": "choropleth"
           }
          ],
          "contour": [
           {
            "colorbar": {
             "outlinewidth": 0,
             "ticks": ""
            },
            "colorscale": [
             [
              0,
              "#0d0887"
             ],
             [
              0.1111111111111111,
              "#46039f"
             ],
             [
              0.2222222222222222,
              "#7201a8"
             ],
             [
              0.3333333333333333,
              "#9c179e"
             ],
             [
              0.4444444444444444,
              "#bd3786"
             ],
             [
              0.5555555555555556,
              "#d8576b"
             ],
             [
              0.6666666666666666,
              "#ed7953"
             ],
             [
              0.7777777777777778,
              "#fb9f3a"
             ],
             [
              0.8888888888888888,
              "#fdca26"
             ],
             [
              1,
              "#f0f921"
             ]
            ],
            "type": "contour"
           }
          ],
          "contourcarpet": [
           {
            "colorbar": {
             "outlinewidth": 0,
             "ticks": ""
            },
            "type": "contourcarpet"
           }
          ],
          "heatmap": [
           {
            "colorbar": {
             "outlinewidth": 0,
             "ticks": ""
            },
            "colorscale": [
             [
              0,
              "#0d0887"
             ],
             [
              0.1111111111111111,
              "#46039f"
             ],
             [
              0.2222222222222222,
              "#7201a8"
             ],
             [
              0.3333333333333333,
              "#9c179e"
             ],
             [
              0.4444444444444444,
              "#bd3786"
             ],
             [
              0.5555555555555556,
              "#d8576b"
             ],
             [
              0.6666666666666666,
              "#ed7953"
             ],
             [
              0.7777777777777778,
              "#fb9f3a"
             ],
             [
              0.8888888888888888,
              "#fdca26"
             ],
             [
              1,
              "#f0f921"
             ]
            ],
            "type": "heatmap"
           }
          ],
          "heatmapgl": [
           {
            "colorbar": {
             "outlinewidth": 0,
             "ticks": ""
            },
            "colorscale": [
             [
              0,
              "#0d0887"
             ],
             [
              0.1111111111111111,
              "#46039f"
             ],
             [
              0.2222222222222222,
              "#7201a8"
             ],
             [
              0.3333333333333333,
              "#9c179e"
             ],
             [
              0.4444444444444444,
              "#bd3786"
             ],
             [
              0.5555555555555556,
              "#d8576b"
             ],
             [
              0.6666666666666666,
              "#ed7953"
             ],
             [
              0.7777777777777778,
              "#fb9f3a"
             ],
             [
              0.8888888888888888,
              "#fdca26"
             ],
             [
              1,
              "#f0f921"
             ]
            ],
            "type": "heatmapgl"
           }
          ],
          "histogram": [
           {
            "marker": {
             "pattern": {
              "fillmode": "overlay",
              "size": 10,
              "solidity": 0.2
             }
            },
            "type": "histogram"
           }
          ],
          "histogram2d": [
           {
            "colorbar": {
             "outlinewidth": 0,
             "ticks": ""
            },
            "colorscale": [
             [
              0,
              "#0d0887"
             ],
             [
              0.1111111111111111,
              "#46039f"
             ],
             [
              0.2222222222222222,
              "#7201a8"
             ],
             [
              0.3333333333333333,
              "#9c179e"
             ],
             [
              0.4444444444444444,
              "#bd3786"
             ],
             [
              0.5555555555555556,
              "#d8576b"
             ],
             [
              0.6666666666666666,
              "#ed7953"
             ],
             [
              0.7777777777777778,
              "#fb9f3a"
             ],
             [
              0.8888888888888888,
              "#fdca26"
             ],
             [
              1,
              "#f0f921"
             ]
            ],
            "type": "histogram2d"
           }
          ],
          "histogram2dcontour": [
           {
            "colorbar": {
             "outlinewidth": 0,
             "ticks": ""
            },
            "colorscale": [
             [
              0,
              "#0d0887"
             ],
             [
              0.1111111111111111,
              "#46039f"
             ],
             [
              0.2222222222222222,
              "#7201a8"
             ],
             [
              0.3333333333333333,
              "#9c179e"
             ],
             [
              0.4444444444444444,
              "#bd3786"
             ],
             [
              0.5555555555555556,
              "#d8576b"
             ],
             [
              0.6666666666666666,
              "#ed7953"
             ],
             [
              0.7777777777777778,
              "#fb9f3a"
             ],
             [
              0.8888888888888888,
              "#fdca26"
             ],
             [
              1,
              "#f0f921"
             ]
            ],
            "type": "histogram2dcontour"
           }
          ],
          "mesh3d": [
           {
            "colorbar": {
             "outlinewidth": 0,
             "ticks": ""
            },
            "type": "mesh3d"
           }
          ],
          "parcoords": [
           {
            "line": {
             "colorbar": {
              "outlinewidth": 0,
              "ticks": ""
             }
            },
            "type": "parcoords"
           }
          ],
          "pie": [
           {
            "automargin": true,
            "type": "pie"
           }
          ],
          "scatter": [
           {
            "fillpattern": {
             "fillmode": "overlay",
             "size": 10,
             "solidity": 0.2
            },
            "type": "scatter"
           }
          ],
          "scatter3d": [
           {
            "line": {
             "colorbar": {
              "outlinewidth": 0,
              "ticks": ""
             }
            },
            "marker": {
             "colorbar": {
              "outlinewidth": 0,
              "ticks": ""
             }
            },
            "type": "scatter3d"
           }
          ],
          "scattercarpet": [
           {
            "marker": {
             "colorbar": {
              "outlinewidth": 0,
              "ticks": ""
             }
            },
            "type": "scattercarpet"
           }
          ],
          "scattergeo": [
           {
            "marker": {
             "colorbar": {
              "outlinewidth": 0,
              "ticks": ""
             }
            },
            "type": "scattergeo"
           }
          ],
          "scattergl": [
           {
            "marker": {
             "colorbar": {
              "outlinewidth": 0,
              "ticks": ""
             }
            },
            "type": "scattergl"
           }
          ],
          "scattermapbox": [
           {
            "marker": {
             "colorbar": {
              "outlinewidth": 0,
              "ticks": ""
             }
            },
            "type": "scattermapbox"
           }
          ],
          "scatterpolar": [
           {
            "marker": {
             "colorbar": {
              "outlinewidth": 0,
              "ticks": ""
             }
            },
            "type": "scatterpolar"
           }
          ],
          "scatterpolargl": [
           {
            "marker": {
             "colorbar": {
              "outlinewidth": 0,
              "ticks": ""
             }
            },
            "type": "scatterpolargl"
           }
          ],
          "scatterternary": [
           {
            "marker": {
             "colorbar": {
              "outlinewidth": 0,
              "ticks": ""
             }
            },
            "type": "scatterternary"
           }
          ],
          "surface": [
           {
            "colorbar": {
             "outlinewidth": 0,
             "ticks": ""
            },
            "colorscale": [
             [
              0,
              "#0d0887"
             ],
             [
              0.1111111111111111,
              "#46039f"
             ],
             [
              0.2222222222222222,
              "#7201a8"
             ],
             [
              0.3333333333333333,
              "#9c179e"
             ],
             [
              0.4444444444444444,
              "#bd3786"
             ],
             [
              0.5555555555555556,
              "#d8576b"
             ],
             [
              0.6666666666666666,
              "#ed7953"
             ],
             [
              0.7777777777777778,
              "#fb9f3a"
             ],
             [
              0.8888888888888888,
              "#fdca26"
             ],
             [
              1,
              "#f0f921"
             ]
            ],
            "type": "surface"
           }
          ],
          "table": [
           {
            "cells": {
             "fill": {
              "color": "#EBF0F8"
             },
             "line": {
              "color": "white"
             }
            },
            "header": {
             "fill": {
              "color": "#C8D4E3"
             },
             "line": {
              "color": "white"
             }
            },
            "type": "table"
           }
          ]
         },
         "layout": {
          "annotationdefaults": {
           "arrowcolor": "#2a3f5f",
           "arrowhead": 0,
           "arrowwidth": 1
          },
          "autotypenumbers": "strict",
          "coloraxis": {
           "colorbar": {
            "outlinewidth": 0,
            "ticks": ""
           }
          },
          "colorscale": {
           "diverging": [
            [
             0,
             "#8e0152"
            ],
            [
             0.1,
             "#c51b7d"
            ],
            [
             0.2,
             "#de77ae"
            ],
            [
             0.3,
             "#f1b6da"
            ],
            [
             0.4,
             "#fde0ef"
            ],
            [
             0.5,
             "#f7f7f7"
            ],
            [
             0.6,
             "#e6f5d0"
            ],
            [
             0.7,
             "#b8e186"
            ],
            [
             0.8,
             "#7fbc41"
            ],
            [
             0.9,
             "#4d9221"
            ],
            [
             1,
             "#276419"
            ]
           ],
           "sequential": [
            [
             0,
             "#0d0887"
            ],
            [
             0.1111111111111111,
             "#46039f"
            ],
            [
             0.2222222222222222,
             "#7201a8"
            ],
            [
             0.3333333333333333,
             "#9c179e"
            ],
            [
             0.4444444444444444,
             "#bd3786"
            ],
            [
             0.5555555555555556,
             "#d8576b"
            ],
            [
             0.6666666666666666,
             "#ed7953"
            ],
            [
             0.7777777777777778,
             "#fb9f3a"
            ],
            [
             0.8888888888888888,
             "#fdca26"
            ],
            [
             1,
             "#f0f921"
            ]
           ],
           "sequentialminus": [
            [
             0,
             "#0d0887"
            ],
            [
             0.1111111111111111,
             "#46039f"
            ],
            [
             0.2222222222222222,
             "#7201a8"
            ],
            [
             0.3333333333333333,
             "#9c179e"
            ],
            [
             0.4444444444444444,
             "#bd3786"
            ],
            [
             0.5555555555555556,
             "#d8576b"
            ],
            [
             0.6666666666666666,
             "#ed7953"
            ],
            [
             0.7777777777777778,
             "#fb9f3a"
            ],
            [
             0.8888888888888888,
             "#fdca26"
            ],
            [
             1,
             "#f0f921"
            ]
           ]
          },
          "colorway": [
           "#636efa",
           "#EF553B",
           "#00cc96",
           "#ab63fa",
           "#FFA15A",
           "#19d3f3",
           "#FF6692",
           "#B6E880",
           "#FF97FF",
           "#FECB52"
          ],
          "font": {
           "color": "#2a3f5f"
          },
          "geo": {
           "bgcolor": "white",
           "lakecolor": "white",
           "landcolor": "#E5ECF6",
           "showlakes": true,
           "showland": true,
           "subunitcolor": "white"
          },
          "hoverlabel": {
           "align": "left"
          },
          "hovermode": "closest",
          "mapbox": {
           "style": "light"
          },
          "paper_bgcolor": "white",
          "plot_bgcolor": "#E5ECF6",
          "polar": {
           "angularaxis": {
            "gridcolor": "white",
            "linecolor": "white",
            "ticks": ""
           },
           "bgcolor": "#E5ECF6",
           "radialaxis": {
            "gridcolor": "white",
            "linecolor": "white",
            "ticks": ""
           }
          },
          "scene": {
           "xaxis": {
            "backgroundcolor": "#E5ECF6",
            "gridcolor": "white",
            "gridwidth": 2,
            "linecolor": "white",
            "showbackground": true,
            "ticks": "",
            "zerolinecolor": "white"
           },
           "yaxis": {
            "backgroundcolor": "#E5ECF6",
            "gridcolor": "white",
            "gridwidth": 2,
            "linecolor": "white",
            "showbackground": true,
            "ticks": "",
            "zerolinecolor": "white"
           },
           "zaxis": {
            "backgroundcolor": "#E5ECF6",
            "gridcolor": "white",
            "gridwidth": 2,
            "linecolor": "white",
            "showbackground": true,
            "ticks": "",
            "zerolinecolor": "white"
           }
          },
          "shapedefaults": {
           "line": {
            "color": "#2a3f5f"
           }
          },
          "ternary": {
           "aaxis": {
            "gridcolor": "white",
            "linecolor": "white",
            "ticks": ""
           },
           "baxis": {
            "gridcolor": "white",
            "linecolor": "white",
            "ticks": ""
           },
           "bgcolor": "#E5ECF6",
           "caxis": {
            "gridcolor": "white",
            "linecolor": "white",
            "ticks": ""
           }
          },
          "title": {
           "x": 0.05
          },
          "xaxis": {
           "automargin": true,
           "gridcolor": "white",
           "linecolor": "white",
           "ticks": "",
           "title": {
            "standoff": 15
           },
           "zerolinecolor": "white",
           "zerolinewidth": 2
          },
          "yaxis": {
           "automargin": true,
           "gridcolor": "white",
           "linecolor": "white",
           "ticks": "",
           "title": {
            "standoff": 15
           },
           "zerolinecolor": "white",
           "zerolinewidth": 2
          }
         }
        },
        "title": {
         "text": "Quanto 1 Dólar Americano compra do Rublo Russo"
        },
        "xaxis": {
         "anchor": "y",
         "domain": [
          0,
          1
         ],
         "title": {
          "text": "datetime"
         }
        },
        "yaxis": {
         "anchor": "x",
         "domain": [
          0,
          1
         ],
         "title": {
          "text": "Último"
         }
        }
       }
      },
      "text/html": [
       "<div>                            <div id=\"7158078d-9a01-438a-b2b2-24dfeb19e929\" class=\"plotly-graph-div\" style=\"height:525px; width:100%;\"></div>            <script type=\"text/javascript\">                require([\"plotly\"], function(Plotly) {                    window.PLOTLYENV=window.PLOTLYENV || {};                                    if (document.getElementById(\"7158078d-9a01-438a-b2b2-24dfeb19e929\")) {                    Plotly.newPlot(                        \"7158078d-9a01-438a-b2b2-24dfeb19e929\",                        [{\"hovertemplate\":\"datetime=%{x}<br>\\u00daltimo=%{y}<extra></extra>\",\"legendgroup\":\"\",\"line\":{\"color\":\"#636efa\",\"dash\":\"solid\"},\"marker\":{\"symbol\":\"circle\"},\"mode\":\"lines\",\"name\":\"\",\"orientation\":\"v\",\"showlegend\":false,\"x\":[\"2015-01-01\",\"2015-02-01\",\"2015-03-01\",\"2015-04-01\",\"2015-05-01\",\"2015-06-01\",\"2015-07-01\",\"2015-08-01\",\"2015-09-01\",\"2015-10-01\",\"2015-11-01\",\"2015-12-01\",\"2016-01-01\",\"2016-02-01\",\"2016-03-01\",\"2016-04-01\",\"2016-05-01\",\"2016-06-01\",\"2016-07-01\",\"2016-08-01\",\"2016-09-01\",\"2016-10-01\",\"2016-11-01\",\"2016-12-01\",\"2017-01-01\",\"2017-02-01\",\"2017-03-01\",\"2017-04-01\",\"2017-05-01\",\"2017-06-01\",\"2017-07-01\",\"2017-08-01\",\"2017-09-01\",\"2017-10-01\",\"2017-11-01\",\"2017-12-01\",\"2018-01-01\",\"2018-02-01\",\"2018-03-01\",\"2018-04-01\",\"2018-05-01\",\"2018-06-01\",\"2018-07-01\",\"2018-08-01\",\"2018-09-01\",\"2018-10-01\",\"2018-11-01\",\"2018-12-01\",\"2019-01-01\",\"2019-02-01\",\"2019-03-01\",\"2019-04-01\",\"2019-05-01\",\"2019-06-01\",\"2019-07-01\",\"2019-08-01\",\"2019-09-01\",\"2019-10-01\",\"2019-11-01\",\"2019-12-01\",\"2020-01-01\",\"2020-02-01\",\"2020-03-01\",\"2020-04-01\",\"2020-05-01\",\"2020-06-01\",\"2020-07-01\",\"2020-08-01\",\"2020-09-01\",\"2020-10-01\",\"2020-11-01\",\"2020-12-01\",\"2021-01-01\",\"2021-02-01\",\"2021-03-01\",\"2021-04-01\",\"2021-05-01\",\"2021-06-01\",\"2021-07-01\",\"2021-08-01\",\"2021-09-01\",\"2021-10-01\",\"2021-11-01\",\"2021-12-01\",\"2022-01-01\",\"2022-02-01\",\"2022-03-01\",\"2022-04-01\",\"2022-05-01\",\"2022-06-01\",\"2022-07-01\"],\"xaxis\":\"x\",\"y\":[\"68,8629\",\"61,6207\",\"58,1993\",\"51,6513\",\"52,3212\",\"55,2806\",\"61,7417\",\"64,2768\",\"65,4532\",\"63,9454\",\"66,4888\",\"73,5963\",\"75,4644\",\"75,1682\",\"67,0288\",\"64,6542\",\"66,6968\",\"63,9731\",\"66,0429\",\"65,3317\",\"62,8343\",\"63,3823\",\"64,1420\",\"61,2730\",\"60,1589\",\"58,3058\",\"56,2665\",\"56,9311\",\"56,5617\",\"58,9401\",\"59,7719\",\"58,0060\",\"57,4898\",\"58,3289\",\"58,4380\",\"57,6114\",\"56,2075\",\"56,3291\",\"57,1444\",\"62,9408\",\"62,4030\",\"62,7338\",\"62,5078\",\"67,5458\",\"65,5503\",\"65,8789\",\"66,9510\",\"69,8319\",\"65,4103\",\"65,9151\",\"65,6340\",\"64,6373\",\"65,4306\",\"63,2305\",\"63,6284\",\"66,7657\",\"64,8569\",\"64,1328\",\"64,3195\",\"61,9863\",\"63,9203\",\"66,8806\",\"78,4426\",\"74,3813\",\"70,1445\",\"71,1734\",\"74,4114\",\"74,0718\",\"77,6319\",\"79,5257\",\"76,4033\",\"74,4121\",\"75,7404\",\"74,6196\",\"75,6987\",\"75,2073\",\"73,4341\",\"73,1522\",\"73,1409\",\"73,2274\",\"72,7514\",\"70,9464\",\"74,0838\",\"74,6539\",\"77,3792\",\"94,6025\",\"83,2000\",\"70,9600\",\"61,5000\",\"51,4500\",\"55,0200\"],\"yaxis\":\"y\",\"type\":\"scatter\"}],                        {\"template\":{\"data\":{\"histogram2dcontour\":[{\"type\":\"histogram2dcontour\",\"colorbar\":{\"outlinewidth\":0,\"ticks\":\"\"},\"colorscale\":[[0.0,\"#0d0887\"],[0.1111111111111111,\"#46039f\"],[0.2222222222222222,\"#7201a8\"],[0.3333333333333333,\"#9c179e\"],[0.4444444444444444,\"#bd3786\"],[0.5555555555555556,\"#d8576b\"],[0.6666666666666666,\"#ed7953\"],[0.7777777777777778,\"#fb9f3a\"],[0.8888888888888888,\"#fdca26\"],[1.0,\"#f0f921\"]]}],\"choropleth\":[{\"type\":\"choropleth\",\"colorbar\":{\"outlinewidth\":0,\"ticks\":\"\"}}],\"histogram2d\":[{\"type\":\"histogram2d\",\"colorbar\":{\"outlinewidth\":0,\"ticks\":\"\"},\"colorscale\":[[0.0,\"#0d0887\"],[0.1111111111111111,\"#46039f\"],[0.2222222222222222,\"#7201a8\"],[0.3333333333333333,\"#9c179e\"],[0.4444444444444444,\"#bd3786\"],[0.5555555555555556,\"#d8576b\"],[0.6666666666666666,\"#ed7953\"],[0.7777777777777778,\"#fb9f3a\"],[0.8888888888888888,\"#fdca26\"],[1.0,\"#f0f921\"]]}],\"heatmap\":[{\"type\":\"heatmap\",\"colorbar\":{\"outlinewidth\":0,\"ticks\":\"\"},\"colorscale\":[[0.0,\"#0d0887\"],[0.1111111111111111,\"#46039f\"],[0.2222222222222222,\"#7201a8\"],[0.3333333333333333,\"#9c179e\"],[0.4444444444444444,\"#bd3786\"],[0.5555555555555556,\"#d8576b\"],[0.6666666666666666,\"#ed7953\"],[0.7777777777777778,\"#fb9f3a\"],[0.8888888888888888,\"#fdca26\"],[1.0,\"#f0f921\"]]}],\"heatmapgl\":[{\"type\":\"heatmapgl\",\"colorbar\":{\"outlinewidth\":0,\"ticks\":\"\"},\"colorscale\":[[0.0,\"#0d0887\"],[0.1111111111111111,\"#46039f\"],[0.2222222222222222,\"#7201a8\"],[0.3333333333333333,\"#9c179e\"],[0.4444444444444444,\"#bd3786\"],[0.5555555555555556,\"#d8576b\"],[0.6666666666666666,\"#ed7953\"],[0.7777777777777778,\"#fb9f3a\"],[0.8888888888888888,\"#fdca26\"],[1.0,\"#f0f921\"]]}],\"contourcarpet\":[{\"type\":\"contourcarpet\",\"colorbar\":{\"outlinewidth\":0,\"ticks\":\"\"}}],\"contour\":[{\"type\":\"contour\",\"colorbar\":{\"outlinewidth\":0,\"ticks\":\"\"},\"colorscale\":[[0.0,\"#0d0887\"],[0.1111111111111111,\"#46039f\"],[0.2222222222222222,\"#7201a8\"],[0.3333333333333333,\"#9c179e\"],[0.4444444444444444,\"#bd3786\"],[0.5555555555555556,\"#d8576b\"],[0.6666666666666666,\"#ed7953\"],[0.7777777777777778,\"#fb9f3a\"],[0.8888888888888888,\"#fdca26\"],[1.0,\"#f0f921\"]]}],\"surface\":[{\"type\":\"surface\",\"colorbar\":{\"outlinewidth\":0,\"ticks\":\"\"},\"colorscale\":[[0.0,\"#0d0887\"],[0.1111111111111111,\"#46039f\"],[0.2222222222222222,\"#7201a8\"],[0.3333333333333333,\"#9c179e\"],[0.4444444444444444,\"#bd3786\"],[0.5555555555555556,\"#d8576b\"],[0.6666666666666666,\"#ed7953\"],[0.7777777777777778,\"#fb9f3a\"],[0.8888888888888888,\"#fdca26\"],[1.0,\"#f0f921\"]]}],\"mesh3d\":[{\"type\":\"mesh3d\",\"colorbar\":{\"outlinewidth\":0,\"ticks\":\"\"}}],\"scatter\":[{\"fillpattern\":{\"fillmode\":\"overlay\",\"size\":10,\"solidity\":0.2},\"type\":\"scatter\"}],\"parcoords\":[{\"type\":\"parcoords\",\"line\":{\"colorbar\":{\"outlinewidth\":0,\"ticks\":\"\"}}}],\"scatterpolargl\":[{\"type\":\"scatterpolargl\",\"marker\":{\"colorbar\":{\"outlinewidth\":0,\"ticks\":\"\"}}}],\"bar\":[{\"error_x\":{\"color\":\"#2a3f5f\"},\"error_y\":{\"color\":\"#2a3f5f\"},\"marker\":{\"line\":{\"color\":\"#E5ECF6\",\"width\":0.5},\"pattern\":{\"fillmode\":\"overlay\",\"size\":10,\"solidity\":0.2}},\"type\":\"bar\"}],\"scattergeo\":[{\"type\":\"scattergeo\",\"marker\":{\"colorbar\":{\"outlinewidth\":0,\"ticks\":\"\"}}}],\"scatterpolar\":[{\"type\":\"scatterpolar\",\"marker\":{\"colorbar\":{\"outlinewidth\":0,\"ticks\":\"\"}}}],\"histogram\":[{\"marker\":{\"pattern\":{\"fillmode\":\"overlay\",\"size\":10,\"solidity\":0.2}},\"type\":\"histogram\"}],\"scattergl\":[{\"type\":\"scattergl\",\"marker\":{\"colorbar\":{\"outlinewidth\":0,\"ticks\":\"\"}}}],\"scatter3d\":[{\"type\":\"scatter3d\",\"line\":{\"colorbar\":{\"outlinewidth\":0,\"ticks\":\"\"}},\"marker\":{\"colorbar\":{\"outlinewidth\":0,\"ticks\":\"\"}}}],\"scattermapbox\":[{\"type\":\"scattermapbox\",\"marker\":{\"colorbar\":{\"outlinewidth\":0,\"ticks\":\"\"}}}],\"scatterternary\":[{\"type\":\"scatterternary\",\"marker\":{\"colorbar\":{\"outlinewidth\":0,\"ticks\":\"\"}}}],\"scattercarpet\":[{\"type\":\"scattercarpet\",\"marker\":{\"colorbar\":{\"outlinewidth\":0,\"ticks\":\"\"}}}],\"carpet\":[{\"aaxis\":{\"endlinecolor\":\"#2a3f5f\",\"gridcolor\":\"white\",\"linecolor\":\"white\",\"minorgridcolor\":\"white\",\"startlinecolor\":\"#2a3f5f\"},\"baxis\":{\"endlinecolor\":\"#2a3f5f\",\"gridcolor\":\"white\",\"linecolor\":\"white\",\"minorgridcolor\":\"white\",\"startlinecolor\":\"#2a3f5f\"},\"type\":\"carpet\"}],\"table\":[{\"cells\":{\"fill\":{\"color\":\"#EBF0F8\"},\"line\":{\"color\":\"white\"}},\"header\":{\"fill\":{\"color\":\"#C8D4E3\"},\"line\":{\"color\":\"white\"}},\"type\":\"table\"}],\"barpolar\":[{\"marker\":{\"line\":{\"color\":\"#E5ECF6\",\"width\":0.5},\"pattern\":{\"fillmode\":\"overlay\",\"size\":10,\"solidity\":0.2}},\"type\":\"barpolar\"}],\"pie\":[{\"automargin\":true,\"type\":\"pie\"}]},\"layout\":{\"autotypenumbers\":\"strict\",\"colorway\":[\"#636efa\",\"#EF553B\",\"#00cc96\",\"#ab63fa\",\"#FFA15A\",\"#19d3f3\",\"#FF6692\",\"#B6E880\",\"#FF97FF\",\"#FECB52\"],\"font\":{\"color\":\"#2a3f5f\"},\"hovermode\":\"closest\",\"hoverlabel\":{\"align\":\"left\"},\"paper_bgcolor\":\"white\",\"plot_bgcolor\":\"#E5ECF6\",\"polar\":{\"bgcolor\":\"#E5ECF6\",\"angularaxis\":{\"gridcolor\":\"white\",\"linecolor\":\"white\",\"ticks\":\"\"},\"radialaxis\":{\"gridcolor\":\"white\",\"linecolor\":\"white\",\"ticks\":\"\"}},\"ternary\":{\"bgcolor\":\"#E5ECF6\",\"aaxis\":{\"gridcolor\":\"white\",\"linecolor\":\"white\",\"ticks\":\"\"},\"baxis\":{\"gridcolor\":\"white\",\"linecolor\":\"white\",\"ticks\":\"\"},\"caxis\":{\"gridcolor\":\"white\",\"linecolor\":\"white\",\"ticks\":\"\"}},\"coloraxis\":{\"colorbar\":{\"outlinewidth\":0,\"ticks\":\"\"}},\"colorscale\":{\"sequential\":[[0.0,\"#0d0887\"],[0.1111111111111111,\"#46039f\"],[0.2222222222222222,\"#7201a8\"],[0.3333333333333333,\"#9c179e\"],[0.4444444444444444,\"#bd3786\"],[0.5555555555555556,\"#d8576b\"],[0.6666666666666666,\"#ed7953\"],[0.7777777777777778,\"#fb9f3a\"],[0.8888888888888888,\"#fdca26\"],[1.0,\"#f0f921\"]],\"sequentialminus\":[[0.0,\"#0d0887\"],[0.1111111111111111,\"#46039f\"],[0.2222222222222222,\"#7201a8\"],[0.3333333333333333,\"#9c179e\"],[0.4444444444444444,\"#bd3786\"],[0.5555555555555556,\"#d8576b\"],[0.6666666666666666,\"#ed7953\"],[0.7777777777777778,\"#fb9f3a\"],[0.8888888888888888,\"#fdca26\"],[1.0,\"#f0f921\"]],\"diverging\":[[0,\"#8e0152\"],[0.1,\"#c51b7d\"],[0.2,\"#de77ae\"],[0.3,\"#f1b6da\"],[0.4,\"#fde0ef\"],[0.5,\"#f7f7f7\"],[0.6,\"#e6f5d0\"],[0.7,\"#b8e186\"],[0.8,\"#7fbc41\"],[0.9,\"#4d9221\"],[1,\"#276419\"]]},\"xaxis\":{\"gridcolor\":\"white\",\"linecolor\":\"white\",\"ticks\":\"\",\"title\":{\"standoff\":15},\"zerolinecolor\":\"white\",\"automargin\":true,\"zerolinewidth\":2},\"yaxis\":{\"gridcolor\":\"white\",\"linecolor\":\"white\",\"ticks\":\"\",\"title\":{\"standoff\":15},\"zerolinecolor\":\"white\",\"automargin\":true,\"zerolinewidth\":2},\"scene\":{\"xaxis\":{\"backgroundcolor\":\"#E5ECF6\",\"gridcolor\":\"white\",\"linecolor\":\"white\",\"showbackground\":true,\"ticks\":\"\",\"zerolinecolor\":\"white\",\"gridwidth\":2},\"yaxis\":{\"backgroundcolor\":\"#E5ECF6\",\"gridcolor\":\"white\",\"linecolor\":\"white\",\"showbackground\":true,\"ticks\":\"\",\"zerolinecolor\":\"white\",\"gridwidth\":2},\"zaxis\":{\"backgroundcolor\":\"#E5ECF6\",\"gridcolor\":\"white\",\"linecolor\":\"white\",\"showbackground\":true,\"ticks\":\"\",\"zerolinecolor\":\"white\",\"gridwidth\":2}},\"shapedefaults\":{\"line\":{\"color\":\"#2a3f5f\"}},\"annotationdefaults\":{\"arrowcolor\":\"#2a3f5f\",\"arrowhead\":0,\"arrowwidth\":1},\"geo\":{\"bgcolor\":\"white\",\"landcolor\":\"#E5ECF6\",\"subunitcolor\":\"white\",\"showland\":true,\"showlakes\":true,\"lakecolor\":\"white\"},\"title\":{\"x\":0.05},\"mapbox\":{\"style\":\"light\"}}},\"xaxis\":{\"anchor\":\"y\",\"domain\":[0.0,1.0],\"title\":{\"text\":\"datetime\"}},\"yaxis\":{\"anchor\":\"x\",\"domain\":[0.0,1.0],\"title\":{\"text\":\"\\u00daltimo\"}},\"legend\":{\"tracegroupgap\":0},\"title\":{\"text\":\"Quanto 1 D\\u00f3lar Americano compra do Rublo Russo\"}},                        {\"responsive\": true}                    ).then(function(){\n",
       "                            \n",
       "var gd = document.getElementById('7158078d-9a01-438a-b2b2-24dfeb19e929');\n",
       "var x = new MutationObserver(function (mutations, observer) {{\n",
       "        var display = window.getComputedStyle(gd).display;\n",
       "        if (!display || display === 'none') {{\n",
       "            console.log([gd, 'removed!']);\n",
       "            Plotly.purge(gd);\n",
       "            observer.disconnect();\n",
       "        }}\n",
       "}});\n",
       "\n",
       "// Listen for the removal of the full notebook cells\n",
       "var notebookContainer = gd.closest('#notebook-container');\n",
       "if (notebookContainer) {{\n",
       "    x.observe(notebookContainer, {childList: true});\n",
       "}}\n",
       "\n",
       "// Listen for the clearing of the current output cell\n",
       "var outputEl = gd.closest('.output');\n",
       "if (outputEl) {{\n",
       "    x.observe(outputEl, {childList: true});\n",
       "}}\n",
       "\n",
       "                        })                };                });            </script>        </div>"
      ]
     },
     "metadata": {},
     "output_type": "display_data"
    }
   ],
   "source": [
    "fig = px.line(data_correta, x = 'datetime', y = 'Último', title='Quanto 1 Dólar Americano compra do Rublo Russo')\n",
    "fig.show()"
   ]
  },
  {
   "cell_type": "code",
   "execution_count": 24,
   "id": "91683c26",
   "metadata": {},
   "outputs": [
    {
     "data": {
      "image/png": "[encoded data removed]",
      "text/plain": [
       "<Figure size 1296x576 with 1 Axes>"
      ]
     },
     "metadata": {
      "needs_background": "light"
     },
     "output_type": "display_data"
    }
   ],
   "source": [
    "plt.figure(figsize=(18, 8)) \n",
    "  \n",
    "plt.plot(rublo3) \n",
    "\n",
    "\n",
    "plt.title('Quanto 1 Rublo Russo compra 1 Dólar Americano ', fontsize=25)\n",
    "plt.ylabel('Preço de fechamento do RUB em USD', fontsize=18)\n",
    "\n",
    "\n",
    "\n",
    "for pos in ['right', 'top', 'bottom', 'left']: \n",
    "    plt.gca().spines[pos].set_visible(False) \n",
    "plt.show()"
   ]
  },
  {
   "cell_type": "markdown",
   "id": "72b73d37",
   "metadata": {},
   "source": [
    "\n",
    "<br>\n",
    "\n",
    "## <span style = \"font-family:Times New Roman\"> <font color = #045cbc> Grynia Ucraniana\n",
    "    \n",
    "<br>"
   ]
  },
  {
   "cell_type": "markdown",
   "id": "5784a4a7",
   "metadata": {},
   "source": [
    "Na analise da ucrânia, irei utilizar os mesmos passos da Rússia, ler os dados e importar as bibliotecas necessárias"
   ]
  },
  {
   "cell_type": "code",
   "execution_count": null,
   "id": "ea773611",
   "metadata": {},
   "outputs": [],
   "source": [
    "import pandas as pd\n",
    "import seaborn as sb\n",
    "import matplotlib.pyplot as plt\n",
    "from dateutil.relativedelta import relativedelta\n",
    "import datetime"
   ]
  },
  {
   "cell_type": "code",
   "execution_count": null,
   "id": "29d4732e",
   "metadata": {},
   "outputs": [],
   "source": [
    "grynia_e_dolar = pd.read_csv(r'dados/ukr.csv')"
   ]
  },
  {
   "cell_type": "markdown",
   "id": "09dd2b95",
   "metadata": {},
   "source": [
    "Neste arquivo também foi preciso traduzir as variáveis e igualmente acima, irei checar os dados como de costume,"
   ]
  },
  {
   "cell_type": "code",
   "execution_count": null,
   "id": "a96ba58c",
   "metadata": {},
   "outputs": [],
   "source": [
    "grynia_e_dolar.rename(columns={'Price': 'Último', 'Date': 'Data','High': 'Máxima',\n",
    "                            'Low': 'Miníma', 'Change%': 'Var%', 'Open': 'Abertura',}, \n",
    "                    \n",
    "                    inplace=True)"
   ]
  },
  {
   "cell_type": "code",
   "execution_count": null,
   "id": "7b98a436",
   "metadata": {},
   "outputs": [],
   "source": [
    "grynia_e_dolar"
   ]
  },
  {
   "cell_type": "markdown",
   "id": "60d87c87",
   "metadata": {},
   "source": [
    "Por fins lógicos, usarei as mesmas váriaveis \"Data\" e \"Ùltimo\" para poder fazer a analíse igualmente e retirar todos os dados em branco que o arquivo possa conter."
   ]
  },
  {
   "cell_type": "code",
   "execution_count": null,
   "id": "8cdce880",
   "metadata": {},
   "outputs": [],
   "source": [
    "grynia_e_dolar = grynia_e_dolar[['Data', 'Último']]"
   ]
  },
  {
   "cell_type": "code",
   "execution_count": null,
   "id": "0ad2f633",
   "metadata": {},
   "outputs": [],
   "source": [
    "grynia_e_dolar = grynia_e_dolar.dropna()"
   ]
  },
  {
   "cell_type": "markdown",
   "id": "dcd78282",
   "metadata": {},
   "source": [
    "Feito isto, o index será ajustado e a data vai ser colocada em ordem crescente, pois os dois arquivos vieram do mesmo site."
   ]
  },
  {
   "cell_type": "code",
   "execution_count": null,
   "id": "71159452",
   "metadata": {},
   "outputs": [],
   "source": [
    "analise_correta_df = grynia_e_dolar.iloc[::-1]"
   ]
  },
  {
   "cell_type": "code",
   "execution_count": null,
   "id": "359dbf82",
   "metadata": {},
   "outputs": [],
   "source": [
    "analise_correta_df.reset_index(drop = True, inplace = True)"
   ]
  },
  {
   "cell_type": "markdown",
   "id": "016e8ec6",
   "metadata": {},
   "source": [
    "Transformando os dados em Datetime assim possível organizar as datas pela data correta."
   ]
  },
  {
   "cell_type": "code",
   "execution_count": null,
   "id": "6f1ac1fd",
   "metadata": {},
   "outputs": [],
   "source": [
    "inicio_date = datetime.date(2015, 1, 1)\n",
    "fim_date = datetime.date(2022, 7, 1)\n",
    "\n",
    "delta = relativedelta(months=1)\n",
    "datas = []\n",
    "\n",
    "while (inicio_date <= fim_date):\n",
    "    datas.append(inicio_date)\n",
    "    inicio_date += delta"
   ]
  },
  {
   "cell_type": "code",
   "execution_count": null,
   "id": "e05de1db",
   "metadata": {},
   "outputs": [],
   "source": [
    "for registro in range(len(analise_correta_df)):\n",
    "    analise_correta_df.loc[registro, 'datetime'] = datas[registro]"
   ]
  },
  {
   "cell_type": "markdown",
   "id": "4ad4c570",
   "metadata": {},
   "source": [
    "Colocarei a Data como índice, assim podemos manipular o preço através dos anos escolhidos e após todo o tratamento, podemos ver\n",
    "o resultado graficamente"
   ]
  },
  {
   "cell_type": "code",
   "execution_count": null,
   "id": "0ef0de46",
   "metadata": {},
   "outputs": [],
   "source": [
    "grynia3 = analise_correta_df.set_index('datetime')\n"
   ]
  },
  {
   "cell_type": "code",
   "execution_count": null,
   "id": "bd8b4fd7",
   "metadata": {},
   "outputs": [],
   "source": [
    "grynia3 = analise_correta_df.drop(columns=['Data'])"
   ]
  },
  {
   "cell_type": "code",
   "execution_count": null,
   "id": "a0013599",
   "metadata": {
    "scrolled": false
   },
   "outputs": [],
   "source": [
    "grynia3.set_index('datetime', inplace=True)"
   ]
  },
  {
   "cell_type": "code",
   "execution_count": null,
   "id": "25fd6095",
   "metadata": {},
   "outputs": [],
   "source": [
    "grynia3['Último'] = grynia3['Último'].str.replace(',','.').astype(float)"
   ]
  },
  {
   "cell_type": "code",
   "execution_count": null,
   "id": "c6d6dd01",
   "metadata": {},
   "outputs": [],
   "source": [
    "plt.figure(figsize=(18, 8)) \n",
    "  \n",
    "plt.plot(grynia3) \n",
    "\n",
    "plt.title('Quanto 1 Dólar Americano compra da Hryvinia Ucraniana ', fontsize=25)\n",
    "\n",
    "for eixo in ['right', 'top', 'bottom', 'left']: \n",
    "    plt.gca().spines[eixo].set_visible(False) \n",
    "plt.show()"
   ]
  },
  {
   "cell_type": "markdown",
   "id": "34efbffa",
   "metadata": {},
   "source": [
    "\n",
    "<br>\n",
    "\n",
    "<br>\n",
    "\n",
    "# <span style = \"font-family:Times New Roman\"> <font color = #045cbc> Análise de Exportações \n",
    "    \n",
    "<br>\n",
    " \n",
    "<br>\n",
    "    "
   ]
  },
  {
   "cell_type": "markdown",
   "id": "4ea74d4a",
   "metadata": {},
   "source": [
    "<br>\n",
    "\n",
    "- Buscar referências de autores/artigos que escreveram sobre este tema ; \n",
    "- Tratar uma análise breve das exportações ; \n",
    "- Perguntar para o Fernando sobre a biblioteca que realiza animação de mudança de variáveis ao longo do tempo. \n",
    "\n",
    "<br>\n"
   ]
  },
  {
   "cell_type": "markdown",
   "id": "7499fe12",
   "metadata": {},
   "source": [
    "O projeto procura comparar a correlação de Taxa de Câmbio com as Exportações da Russia no seu período de Guerra (Janeiro de 2022) e também olhar esse comportamento durante o tempo. "
   ]
  },
  {
   "cell_type": "markdown",
   "id": "dd251e3a",
   "metadata": {},
   "source": [
    "<br>\n",
    "\n",
    "### <span style = \"font-family:Times New Roman\"> <font color = #045cbc> Fonte dos Dados\n",
    "    \n",
    "<br>\n",
    "\n",
    "The [**Observatory of Economic Complexity**](<https://oec.world/en/profile/country/rus#:~:text=Yearly%20Exports,-%23permalink%20to%20section&text=In%202020%2C%20Russia%20exported%20a,to%20%24330B%20in%202020>) (OEC) - Plataforma Especializada em dados de trocas comerciais (importações, exportações e taxas de câmbio).  Também possuem blogs e pesquisas todas voltadas para a área da Economia.\n",
    "\n",
    "<br>\n",
    "    \n",
    "    "
   ]
  },
  {
   "cell_type": "code",
   "execution_count": null,
   "id": "f576617e",
   "metadata": {},
   "outputs": [],
   "source": [
    "import pandas as pd"
   ]
  },
  {
   "cell_type": "code",
   "execution_count": null,
   "id": "466757b7",
   "metadata": {},
   "outputs": [],
   "source": [
    "export = pd.read_csv('dados/Products-Exports-Jan-2022----Click-to-Select-a-Product.csv')"
   ]
  },
  {
   "cell_type": "code",
   "execution_count": null,
   "id": "a28de6a5",
   "metadata": {},
   "outputs": [],
   "source": [
    "export.columns"
   ]
  },
  {
   "cell_type": "code",
   "execution_count": null,
   "id": "63fcd6f9",
   "metadata": {},
   "outputs": [],
   "source": [
    "export.head()"
   ]
  },
  {
   "cell_type": "markdown",
   "id": "9684e2ff",
   "metadata": {},
   "source": [
    "\n",
    "<br>\n",
    "\n",
    "Harmonized Sistem (HS) - são códigos de produtos os quais podem ser lidos em qualquer parte do mundo, para identificação de produtos.\n",
    "\n",
    "<br>\n"
   ]
  },
  {
   "cell_type": "code",
   "execution_count": null,
   "id": "58316c83",
   "metadata": {},
   "outputs": [],
   "source": [
    "# Calculando o valor negociado total das seções\n",
    "\n",
    "sections_tv = export.groupby('Section')[['Trade Value']].sum()\n",
    "sections_tv.sort_values(by = 'Trade Value' , ascending = False)"
   ]
  },
  {
   "cell_type": "markdown",
   "id": "2a175132",
   "metadata": {},
   "source": [
    "## <font color = red > Fazer Bar Plot com as Exportações por Seção"
   ]
  },
  {
   "cell_type": "code",
   "execution_count": null,
   "id": "da6ee010",
   "metadata": {
    "scrolled": false
   },
   "outputs": [],
   "source": [
    "[export['Section'] == \"Mineral Products\" ] "
   ]
  },
  {
   "cell_type": "code",
   "execution_count": null,
   "id": "28ecb55f",
   "metadata": {
    "scrolled": false
   },
   "outputs": [],
   "source": [
    "# Verificando o produto com a maior taxa de exportação na seção de Produtos Minerais \n",
    "\n",
    "mineral_products_filter = export['Section'] == \"Mineral Products\" \n",
    "mineral_products = export[mineral_products_filter]"
   ]
  },
  {
   "cell_type": "code",
   "execution_count": null,
   "id": "dd2b82cd",
   "metadata": {
    "scrolled": false
   },
   "outputs": [],
   "source": [
    "# Selecionando o produto com maior valor de troca da seção \n",
    "\n",
    "product = mineral_products[mineral_products['Trade Value'] == mineral_products['Trade Value'].max()]['HS4']\n",
    "product.values[0]"
   ]
  },
  {
   "cell_type": "markdown",
   "id": "a71629c1",
   "metadata": {},
   "source": [
    "\n",
    "<br>\n",
    "\n",
    "## <span style = \"font-family:Times New Roman\"> <font color = #045cbc> Processo Seletivo \n",
    "    \n",
    "<br>\n"
   ]
  },
  {
   "cell_type": "code",
   "execution_count": null,
   "id": "f698ba43",
   "metadata": {},
   "outputs": [],
   "source": []
  },
  {
   "cell_type": "code",
   "execution_count": null,
   "id": "5e6e5577",
   "metadata": {},
   "outputs": [],
   "source": []
  },
  {
   "cell_type": "code",
   "execution_count": null,
   "id": "dfccfd3c",
   "metadata": {},
   "outputs": [],
   "source": []
  },
  {
   "cell_type": "code",
   "execution_count": null,
   "id": "f130f576",
   "metadata": {},
   "outputs": [],
   "source": []
  },
  {
   "cell_type": "code",
   "execution_count": null,
   "id": "aedd7c6e",
   "metadata": {},
   "outputs": [],
   "source": []
  },
  {
   "cell_type": "markdown",
   "id": "eee96d57",
   "metadata": {},
   "source": [
    "\n",
    "<br>\n",
    "\n",
    "## <span style = \"font-family:Times New Roman\"> <font color = #045cbc> Referências \n",
    "    \n",
    "<br>\n",
    "    \n",
    "    "
   ]
  },
  {
   "cell_type": "code",
   "execution_count": null,
   "id": "fe51aa39",
   "metadata": {},
   "outputs": [],
   "source": []
  },
  {
   "cell_type": "markdown",
   "id": "bdfeaff4",
   "metadata": {},
   "source": [
    "\n",
    "<br>\n",
    "\n",
    "## <span style = \"font-family:Times New Roman\"> <font color = #045cbc> Desenvolvedores do Projeto \n",
    "    \n",
    "<br>"
   ]
  },
  {
   "cell_type": "code",
   "execution_count": null,
   "id": "2a8bbb50",
   "metadata": {},
   "outputs": [],
   "source": []
  }
 ],
 "metadata": {
  "celltoolbar": "Slideshow",
  "kernelspec": {
   "display_name": "Python 3",
   "language": "python",
   "name": "python3"
  },
  "language_info": {
   "codemirror_mode": {
    "name": "ipython",
    "version": 3
   },
   "file_extension": ".py",
   "mimetype": "text/x-python",
   "name": "python",
   "nbconvert_exporter": "python",
   "pygments_lexer": "ipython3",
   "version": "3.8.8"
  }
 },
 "nbformat": 4,
 "nbformat_minor": 5
}
