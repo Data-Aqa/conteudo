{
 "cells": [
  {
   "cell_type": "code",
   "execution_count": 1,
   "id": "ea773611",
   "metadata": {},
   "outputs": [],
   "source": [
    "#Importando as bibliotecas necessárias para a visualização# \n",
    "import pandas as pd\n",
    "import seaborn as sb\n",
    "import matplotlib.pyplot as plt\n",
    "from dateutil.relativedelta import relativedelta\n",
    "import datetime"
   ]
  },
  {
   "cell_type": "code",
   "execution_count": 4,
   "id": "bfc5ab32",
   "metadata": {},
   "outputs": [],
   "source": [
    "# lendo os dados##\n",
    "rubloxdolar = pd.read_csv(r'dados\\USD_RUB Dados Históricos.csv')\n",
    "rubloxdolar.rename(columns={'Último': 'Price', 'Data': 'Date','Máxima': 'High','Mínima': 'Low', 'Var%': 'Change%', 'Abertura': 'Open',}, inplace=True)"
   ]
  },
  {
   "cell_type": "code",
   "execution_count": null,
   "id": "7b98a436",
   "metadata": {},
   "outputs": [],
   "source": [
    "rubloxdolar"
   ]
  },
  {
   "cell_type": "code",
   "execution_count": null,
   "id": "8cdce880",
   "metadata": {},
   "outputs": [],
   "source": [
    "rubloxdolar = rubloxdolar[['Date', 'Price']]"
   ]
  },
  {
   "cell_type": "code",
   "execution_count": null,
   "id": "0ad2f633",
   "metadata": {},
   "outputs": [],
   "source": [
    "rubloxdolar = rubloxdolar.dropna()"
   ]
  },
  {
   "cell_type": "code",
   "execution_count": null,
   "id": "ee0de259",
   "metadata": {
    "scrolled": false
   },
   "outputs": [],
   "source": [
    "rubloxdolar.info()"
   ]
  },
  {
   "cell_type": "code",
   "execution_count": null,
   "id": "71159452",
   "metadata": {},
   "outputs": [],
   "source": [
    "reversed_df = rubloxdolar.iloc[::-1]"
   ]
  },
  {
   "cell_type": "code",
   "execution_count": null,
   "id": "359dbf82",
   "metadata": {},
   "outputs": [],
   "source": [
    "reversed_df"
   ]
  },
  {
   "cell_type": "code",
   "execution_count": null,
   "id": "6f1ac1fd",
   "metadata": {},
   "outputs": [],
   "source": [
    "## transformando a variavel ''Date'' em datetime (explicar o que é datetime) #\n",
    "inicio_date = datetime.date(2015, 1, 1)\n",
    "fim_date = datetime.date(2022, 7, 1)\n",
    "delta = relativedelta(months=1)\n",
    "datas = []\n",
    "while (inicio_date <= fim_date):\n",
    "    datas.append(inicio_date)\n",
    "    inicio_date += delta\n",
    "for registro in range(len(reversed_df)):\n",
    "    reversed_df.loc[registro, 'datetime'] = datas[registro]\n",
    "\n"
   ]
  },
  {
   "cell_type": "code",
   "execution_count": null,
   "id": "0ef0de46",
   "metadata": {},
   "outputs": [],
   "source": [
    "# colocando a Data como índice\n",
    "rublo3 = reversed_df.set_index('datetime')\n"
   ]
  },
  {
   "cell_type": "code",
   "execution_count": null,
   "id": "f27cf9e2",
   "metadata": {},
   "outputs": [],
   "source": [
    "rublo3 = reversed_df.drop(columns=['Date'])"
   ]
  },
  {
   "cell_type": "code",
   "execution_count": null,
   "id": "073bc2cc",
   "metadata": {},
   "outputs": [],
   "source": [
    "reversed_df"
   ]
  },
  {
   "cell_type": "code",
   "execution_count": null,
   "id": "a0013599",
   "metadata": {
    "scrolled": true
   },
   "outputs": [],
   "source": [
    "rublo3.set_index('datetime', inplace=True)"
   ]
  },
  {
   "cell_type": "code",
   "execution_count": null,
   "id": "25fd6095",
   "metadata": {},
   "outputs": [],
   "source": [
    "rublo3['Price'] = rublo3['Price'].str.replace(',','.').astype(float)"
   ]
  },
  {
   "cell_type": "code",
   "execution_count": null,
   "id": "c6d6dd01",
   "metadata": {},
   "outputs": [],
   "source": [
    "plt.figure(figsize=(18, 8)) \n",
    "  \n",
    "plt.plot(rublo3) \n",
    "\n",
    "\n",
    "plt.title('Rublo Russo Em Relação ao Dólar', fontsize=25)\n",
    "plt.ylabel('Preço de fechamento do RUB em USD', fontsize=18)\n",
    "\n",
    "\n",
    "\n",
    "for pos in ['right', 'top', 'bottom', 'left']: \n",
    "    plt.gca().spines[pos].set_visible(False) \n",
    "plt.show()"
   ]
  },
  {
   "cell_type": "code",
   "execution_count": null,
   "id": "76fab001",
   "metadata": {},
   "outputs": [],
   "source": []
  }
 ],
 "metadata": {
  "kernelspec": {
   "display_name": "Python 3 (ipykernel)",
   "language": "python",
   "name": "python3"
  },
  "language_info": {
   "codemirror_mode": {
    "name": "ipython",
    "version": 3
   },
   "file_extension": ".py",
   "mimetype": "text/x-python",
   "name": "python",
   "nbconvert_exporter": "python",
   "pygments_lexer": "ipython3",
   "version": "3.9.12"
  }
 },
 "nbformat": 4,
 "nbformat_minor": 5
}
