{
 "cells": [
  {
   "cell_type": "code",
   "execution_count": 1,
   "id": "ea773611",
   "metadata": {},
   "outputs": [],
   "source": [
    "#Importando as bibliotecas necessárias para a visualização# \n",
    "import pandas as pd\n",
    "import seaborn as sb\n",
    "import matplotlib.pyplot as plt\n",
    "from dateutil.relativedelta import relativedelta\n",
    "import datetime"
   ]
  },
  {
   "cell_type": "code",
   "execution_count": 2,
   "id": "bfc5ab32",
   "metadata": {},
   "outputs": [],
   "source": [
    "# lendo os dados##\n",
    "rubloxdolar = pd.read_csv(r'C:\\Users\\ahcar\\Documents\\conteudo\\analise ucrania\\dados\\USD_RUB Dados Históricos.csv')\n",
    "rubloxdolar.rename(columns={'Último': 'Price', 'Data': 'Date','Máxima': 'High','Mínima': 'Low', 'Var%': 'Change%', 'Abertura': 'Open',}, inplace=True)"
   ]
  },
  {
   "cell_type": "code",
   "execution_count": 3,
   "id": "7b98a436",
   "metadata": {},
   "outputs": [
    {
     "data": {
      "text/html": [
       "<div>\n",
       "<style scoped>\n",
       "    .dataframe tbody tr th:only-of-type {\n",
       "        vertical-align: middle;\n",
       "    }\n",
       "\n",
       "    .dataframe tbody tr th {\n",
       "        vertical-align: top;\n",
       "    }\n",
       "\n",
       "    .dataframe thead th {\n",
       "        text-align: right;\n",
       "    }\n",
       "</style>\n",
       "<table border=\"1\" class=\"dataframe\">\n",
       "  <thead>\n",
       "    <tr style=\"text-align: right;\">\n",
       "      <th></th>\n",
       "      <th>Date</th>\n",
       "      <th>Price</th>\n",
       "      <th>Open</th>\n",
       "      <th>High</th>\n",
       "      <th>Low</th>\n",
       "      <th>Change%</th>\n",
       "    </tr>\n",
       "  </thead>\n",
       "  <tbody>\n",
       "    <tr>\n",
       "      <th>0</th>\n",
       "      <td>Jul 22</td>\n",
       "      <td>55,0200</td>\n",
       "      <td>51,4500</td>\n",
       "      <td>64,5988</td>\n",
       "      <td>51,3998</td>\n",
       "      <td>6,94%</td>\n",
       "    </tr>\n",
       "    <tr>\n",
       "      <th>1</th>\n",
       "      <td>Jun 22</td>\n",
       "      <td>51,4500</td>\n",
       "      <td>61,5000</td>\n",
       "      <td>62,4923</td>\n",
       "      <td>50,1006</td>\n",
       "      <td>-16,34%</td>\n",
       "    </tr>\n",
       "    <tr>\n",
       "      <th>2</th>\n",
       "      <td>Mai 22</td>\n",
       "      <td>61,5000</td>\n",
       "      <td>70,9600</td>\n",
       "      <td>70,9600</td>\n",
       "      <td>55,8383</td>\n",
       "      <td>-13,33%</td>\n",
       "    </tr>\n",
       "    <tr>\n",
       "      <th>3</th>\n",
       "      <td>Abr 22</td>\n",
       "      <td>70,9600</td>\n",
       "      <td>83,2000</td>\n",
       "      <td>84,9917</td>\n",
       "      <td>70,3221</td>\n",
       "      <td>-14,71%</td>\n",
       "    </tr>\n",
       "    <tr>\n",
       "      <th>4</th>\n",
       "      <td>Mar 22</td>\n",
       "      <td>83,2000</td>\n",
       "      <td>94,6025</td>\n",
       "      <td>121,2100</td>\n",
       "      <td>82,9525</td>\n",
       "      <td>-12,05%</td>\n",
       "    </tr>\n",
       "    <tr>\n",
       "      <th>...</th>\n",
       "      <td>...</td>\n",
       "      <td>...</td>\n",
       "      <td>...</td>\n",
       "      <td>...</td>\n",
       "      <td>...</td>\n",
       "      <td>...</td>\n",
       "    </tr>\n",
       "    <tr>\n",
       "      <th>86</th>\n",
       "      <td>Mai 15</td>\n",
       "      <td>52,3212</td>\n",
       "      <td>51,6513</td>\n",
       "      <td>52,1965</td>\n",
       "      <td>50,3630</td>\n",
       "      <td>1,30%</td>\n",
       "    </tr>\n",
       "    <tr>\n",
       "      <th>87</th>\n",
       "      <td>Abr 15</td>\n",
       "      <td>51,6513</td>\n",
       "      <td>58,1993</td>\n",
       "      <td>58,4863</td>\n",
       "      <td>49,4550</td>\n",
       "      <td>-11,25%</td>\n",
       "    </tr>\n",
       "    <tr>\n",
       "      <th>88</th>\n",
       "      <td>Mar 15</td>\n",
       "      <td>58,1993</td>\n",
       "      <td>61,6207</td>\n",
       "      <td>63,0344</td>\n",
       "      <td>56,2019</td>\n",
       "      <td>-5,55%</td>\n",
       "    </tr>\n",
       "    <tr>\n",
       "      <th>89</th>\n",
       "      <td>Fev 15</td>\n",
       "      <td>61,6207</td>\n",
       "      <td>68,8629</td>\n",
       "      <td>70,4525</td>\n",
       "      <td>59,8819</td>\n",
       "      <td>-10,52%</td>\n",
       "    </tr>\n",
       "    <tr>\n",
       "      <th>90</th>\n",
       "      <td>Jan 15</td>\n",
       "      <td>68,8629</td>\n",
       "      <td>55,9077</td>\n",
       "      <td>71,7575</td>\n",
       "      <td>55,9077</td>\n",
       "      <td>23,17%</td>\n",
       "    </tr>\n",
       "  </tbody>\n",
       "</table>\n",
       "<p>91 rows × 6 columns</p>\n",
       "</div>"
      ],
      "text/plain": [
       "      Date    Price     Open      High      Low  Change%\n",
       "0   Jul 22  55,0200  51,4500   64,5988  51,3998    6,94%\n",
       "1   Jun 22  51,4500  61,5000   62,4923  50,1006  -16,34%\n",
       "2   Mai 22  61,5000  70,9600   70,9600  55,8383  -13,33%\n",
       "3   Abr 22  70,9600  83,2000   84,9917  70,3221  -14,71%\n",
       "4   Mar 22  83,2000  94,6025  121,2100  82,9525  -12,05%\n",
       "..     ...      ...      ...       ...      ...      ...\n",
       "86  Mai 15  52,3212  51,6513   52,1965  50,3630    1,30%\n",
       "87  Abr 15  51,6513  58,1993   58,4863  49,4550  -11,25%\n",
       "88  Mar 15  58,1993  61,6207   63,0344  56,2019   -5,55%\n",
       "89  Fev 15  61,6207  68,8629   70,4525  59,8819  -10,52%\n",
       "90  Jan 15  68,8629  55,9077   71,7575  55,9077   23,17%\n",
       "\n",
       "[91 rows x 6 columns]"
      ]
     },
     "execution_count": 3,
     "metadata": {},
     "output_type": "execute_result"
    }
   ],
   "source": [
    "rubloxdolar"
   ]
  },
  {
   "cell_type": "code",
   "execution_count": 4,
   "id": "8cdce880",
   "metadata": {},
   "outputs": [],
   "source": [
    "rubloxdolar = rubloxdolar[['Date', 'Price']]"
   ]
  },
  {
   "cell_type": "code",
   "execution_count": 5,
   "id": "0ad2f633",
   "metadata": {},
   "outputs": [],
   "source": [
    "rubloxdolar = rubloxdolar.dropna()"
   ]
  },
  {
   "cell_type": "code",
   "execution_count": 6,
   "id": "ee0de259",
   "metadata": {
    "scrolled": false
   },
   "outputs": [
    {
     "name": "stdout",
     "output_type": "stream",
     "text": [
      "<class 'pandas.core.frame.DataFrame'>\n",
      "Int64Index: 91 entries, 0 to 90\n",
      "Data columns (total 2 columns):\n",
      " #   Column  Non-Null Count  Dtype \n",
      "---  ------  --------------  ----- \n",
      " 0   Date    91 non-null     object\n",
      " 1   Price   91 non-null     object\n",
      "dtypes: object(2)\n",
      "memory usage: 2.1+ KB\n"
     ]
    }
   ],
   "source": [
    "rubloxdolar.info()"
   ]
  },
  {
   "cell_type": "code",
   "execution_count": 7,
   "id": "71159452",
   "metadata": {},
   "outputs": [],
   "source": [
    "reversed_df = rubloxdolar.iloc[::-1]"
   ]
  },
  {
   "cell_type": "code",
   "execution_count": 8,
   "id": "359dbf82",
   "metadata": {},
   "outputs": [
    {
     "data": {
      "text/html": [
       "<div>\n",
       "<style scoped>\n",
       "    .dataframe tbody tr th:only-of-type {\n",
       "        vertical-align: middle;\n",
       "    }\n",
       "\n",
       "    .dataframe tbody tr th {\n",
       "        vertical-align: top;\n",
       "    }\n",
       "\n",
       "    .dataframe thead th {\n",
       "        text-align: right;\n",
       "    }\n",
       "</style>\n",
       "<table border=\"1\" class=\"dataframe\">\n",
       "  <thead>\n",
       "    <tr style=\"text-align: right;\">\n",
       "      <th></th>\n",
       "      <th>Date</th>\n",
       "      <th>Price</th>\n",
       "    </tr>\n",
       "  </thead>\n",
       "  <tbody>\n",
       "    <tr>\n",
       "      <th>90</th>\n",
       "      <td>Jan 15</td>\n",
       "      <td>68,8629</td>\n",
       "    </tr>\n",
       "    <tr>\n",
       "      <th>89</th>\n",
       "      <td>Fev 15</td>\n",
       "      <td>61,6207</td>\n",
       "    </tr>\n",
       "    <tr>\n",
       "      <th>88</th>\n",
       "      <td>Mar 15</td>\n",
       "      <td>58,1993</td>\n",
       "    </tr>\n",
       "    <tr>\n",
       "      <th>87</th>\n",
       "      <td>Abr 15</td>\n",
       "      <td>51,6513</td>\n",
       "    </tr>\n",
       "    <tr>\n",
       "      <th>86</th>\n",
       "      <td>Mai 15</td>\n",
       "      <td>52,3212</td>\n",
       "    </tr>\n",
       "    <tr>\n",
       "      <th>...</th>\n",
       "      <td>...</td>\n",
       "      <td>...</td>\n",
       "    </tr>\n",
       "    <tr>\n",
       "      <th>4</th>\n",
       "      <td>Mar 22</td>\n",
       "      <td>83,2000</td>\n",
       "    </tr>\n",
       "    <tr>\n",
       "      <th>3</th>\n",
       "      <td>Abr 22</td>\n",
       "      <td>70,9600</td>\n",
       "    </tr>\n",
       "    <tr>\n",
       "      <th>2</th>\n",
       "      <td>Mai 22</td>\n",
       "      <td>61,5000</td>\n",
       "    </tr>\n",
       "    <tr>\n",
       "      <th>1</th>\n",
       "      <td>Jun 22</td>\n",
       "      <td>51,4500</td>\n",
       "    </tr>\n",
       "    <tr>\n",
       "      <th>0</th>\n",
       "      <td>Jul 22</td>\n",
       "      <td>55,0200</td>\n",
       "    </tr>\n",
       "  </tbody>\n",
       "</table>\n",
       "<p>91 rows × 2 columns</p>\n",
       "</div>"
      ],
      "text/plain": [
       "      Date    Price\n",
       "90  Jan 15  68,8629\n",
       "89  Fev 15  61,6207\n",
       "88  Mar 15  58,1993\n",
       "87  Abr 15  51,6513\n",
       "86  Mai 15  52,3212\n",
       "..     ...      ...\n",
       "4   Mar 22  83,2000\n",
       "3   Abr 22  70,9600\n",
       "2   Mai 22  61,5000\n",
       "1   Jun 22  51,4500\n",
       "0   Jul 22  55,0200\n",
       "\n",
       "[91 rows x 2 columns]"
      ]
     },
     "execution_count": 8,
     "metadata": {},
     "output_type": "execute_result"
    }
   ],
   "source": [
    "reversed_df"
   ]
  },
  {
   "cell_type": "code",
   "execution_count": 9,
   "id": "6f1ac1fd",
   "metadata": {},
   "outputs": [
    {
     "name": "stderr",
     "output_type": "stream",
     "text": [
      "C:\\ProgramData\\Anaconda3\\lib\\site-packages\\pandas\\core\\indexing.py:1599: SettingWithCopyWarning: \n",
      "A value is trying to be set on a copy of a slice from a DataFrame.\n",
      "Try using .loc[row_indexer,col_indexer] = value instead\n",
      "\n",
      "See the caveats in the documentation: https://pandas.pydata.org/pandas-docs/stable/user_guide/indexing.html#returning-a-view-versus-a-copy\n",
      "  self.obj[key] = infer_fill_value(value)\n",
      "C:\\ProgramData\\Anaconda3\\lib\\site-packages\\pandas\\core\\indexing.py:1720: SettingWithCopyWarning: \n",
      "A value is trying to be set on a copy of a slice from a DataFrame.\n",
      "Try using .loc[row_indexer,col_indexer] = value instead\n",
      "\n",
      "See the caveats in the documentation: https://pandas.pydata.org/pandas-docs/stable/user_guide/indexing.html#returning-a-view-versus-a-copy\n",
      "  self._setitem_single_column(loc, value, pi)\n"
     ]
    }
   ],
   "source": [
    "## transformando a variavel ''Date'' em datetime (explicar o que é datetime) #\n",
    "inicio_date = datetime.date(2015, 1, 1)\n",
    "fim_date = datetime.date(2022, 7, 1)\n",
    "delta = relativedelta(months=1)\n",
    "datas = []\n",
    "while (inicio_date <= fim_date):\n",
    "    datas.append(inicio_date)\n",
    "    inicio_date += delta\n",
    "for registro in range(len(reversed_df)):\n",
    "    reversed_df.loc[registro, 'datetime'] = datas[registro]\n",
    "\n"
   ]
  },
  {
   "cell_type": "code",
   "execution_count": 10,
   "id": "0ef0de46",
   "metadata": {},
   "outputs": [],
   "source": [
    "# colocando a Data como índice\n",
    "rublo3 = reversed_df.set_index('datetime')\n"
   ]
  },
  {
   "cell_type": "code",
   "execution_count": 11,
   "id": "f27cf9e2",
   "metadata": {},
   "outputs": [],
   "source": [
    "rublo3 = reversed_df.drop(columns=['Date'])"
   ]
  },
  {
   "cell_type": "code",
   "execution_count": 12,
   "id": "073bc2cc",
   "metadata": {},
   "outputs": [
    {
     "data": {
      "text/html": [
       "<div>\n",
       "<style scoped>\n",
       "    .dataframe tbody tr th:only-of-type {\n",
       "        vertical-align: middle;\n",
       "    }\n",
       "\n",
       "    .dataframe tbody tr th {\n",
       "        vertical-align: top;\n",
       "    }\n",
       "\n",
       "    .dataframe thead th {\n",
       "        text-align: right;\n",
       "    }\n",
       "</style>\n",
       "<table border=\"1\" class=\"dataframe\">\n",
       "  <thead>\n",
       "    <tr style=\"text-align: right;\">\n",
       "      <th></th>\n",
       "      <th>Date</th>\n",
       "      <th>Price</th>\n",
       "      <th>datetime</th>\n",
       "    </tr>\n",
       "  </thead>\n",
       "  <tbody>\n",
       "    <tr>\n",
       "      <th>90</th>\n",
       "      <td>Jan 15</td>\n",
       "      <td>68,8629</td>\n",
       "      <td>2022-07-01</td>\n",
       "    </tr>\n",
       "    <tr>\n",
       "      <th>89</th>\n",
       "      <td>Fev 15</td>\n",
       "      <td>61,6207</td>\n",
       "      <td>2022-06-01</td>\n",
       "    </tr>\n",
       "    <tr>\n",
       "      <th>88</th>\n",
       "      <td>Mar 15</td>\n",
       "      <td>58,1993</td>\n",
       "      <td>2022-05-01</td>\n",
       "    </tr>\n",
       "    <tr>\n",
       "      <th>87</th>\n",
       "      <td>Abr 15</td>\n",
       "      <td>51,6513</td>\n",
       "      <td>2022-04-01</td>\n",
       "    </tr>\n",
       "    <tr>\n",
       "      <th>86</th>\n",
       "      <td>Mai 15</td>\n",
       "      <td>52,3212</td>\n",
       "      <td>2022-03-01</td>\n",
       "    </tr>\n",
       "    <tr>\n",
       "      <th>...</th>\n",
       "      <td>...</td>\n",
       "      <td>...</td>\n",
       "      <td>...</td>\n",
       "    </tr>\n",
       "    <tr>\n",
       "      <th>4</th>\n",
       "      <td>Mar 22</td>\n",
       "      <td>83,2000</td>\n",
       "      <td>2015-05-01</td>\n",
       "    </tr>\n",
       "    <tr>\n",
       "      <th>3</th>\n",
       "      <td>Abr 22</td>\n",
       "      <td>70,9600</td>\n",
       "      <td>2015-04-01</td>\n",
       "    </tr>\n",
       "    <tr>\n",
       "      <th>2</th>\n",
       "      <td>Mai 22</td>\n",
       "      <td>61,5000</td>\n",
       "      <td>2015-03-01</td>\n",
       "    </tr>\n",
       "    <tr>\n",
       "      <th>1</th>\n",
       "      <td>Jun 22</td>\n",
       "      <td>51,4500</td>\n",
       "      <td>2015-02-01</td>\n",
       "    </tr>\n",
       "    <tr>\n",
       "      <th>0</th>\n",
       "      <td>Jul 22</td>\n",
       "      <td>55,0200</td>\n",
       "      <td>2015-01-01</td>\n",
       "    </tr>\n",
       "  </tbody>\n",
       "</table>\n",
       "<p>91 rows × 3 columns</p>\n",
       "</div>"
      ],
      "text/plain": [
       "      Date    Price    datetime\n",
       "90  Jan 15  68,8629  2022-07-01\n",
       "89  Fev 15  61,6207  2022-06-01\n",
       "88  Mar 15  58,1993  2022-05-01\n",
       "87  Abr 15  51,6513  2022-04-01\n",
       "86  Mai 15  52,3212  2022-03-01\n",
       "..     ...      ...         ...\n",
       "4   Mar 22  83,2000  2015-05-01\n",
       "3   Abr 22  70,9600  2015-04-01\n",
       "2   Mai 22  61,5000  2015-03-01\n",
       "1   Jun 22  51,4500  2015-02-01\n",
       "0   Jul 22  55,0200  2015-01-01\n",
       "\n",
       "[91 rows x 3 columns]"
      ]
     },
     "execution_count": 12,
     "metadata": {},
     "output_type": "execute_result"
    }
   ],
   "source": [
    "reversed_df"
   ]
  },
  {
   "cell_type": "code",
   "execution_count": 13,
   "id": "a0013599",
   "metadata": {
    "scrolled": true
   },
   "outputs": [],
   "source": [
    "rublo3.set_index('datetime', inplace=True)"
   ]
  },
  {
   "cell_type": "code",
   "execution_count": 14,
   "id": "25fd6095",
   "metadata": {},
   "outputs": [],
   "source": [
    "rublo3['Price'] = rublo3['Price'].str.replace(',','.').astype(float)"
   ]
  },
  {
   "cell_type": "code",
   "execution_count": 15,
   "id": "c6d6dd01",
   "metadata": {},
   "outputs": [
    {
     "data": {
      "image/png": "[encoded data removed]",
      "text/plain": [
       "<Figure size 1296x576 with 1 Axes>"
      ]
     },
     "metadata": {
      "needs_background": "light"
     },
     "output_type": "display_data"
    }
   ],
   "source": [
    "plt.figure(figsize=(18, 8)) \n",
    "  \n",
    "plt.plot(rublo3) \n",
    "\n",
    "\n",
    "plt.title('Rublo Russo Em Relação ao Dólar', fontsize=25)\n",
    "plt.ylabel('Preço de fechamento do RUB em USD', fontsize=18)\n",
    "\n",
    "\n",
    "\n",
    "for pos in ['right', 'top', 'bottom', 'left']: \n",
    "    plt.gca().spines[pos].set_visible(False) \n",
    "plt.show()"
   ]
  },
  {
   "cell_type": "code",
   "execution_count": null,
   "id": "76fab001",
   "metadata": {},
   "outputs": [],
   "source": []
  }
 ],
 "metadata": {
  "kernelspec": {
   "display_name": "Python 3",
   "language": "python",
   "name": "python3"
  },
  "language_info": {
   "codemirror_mode": {
    "name": "ipython",
    "version": 3
   },
   "file_extension": ".py",
   "mimetype": "text/x-python",
   "name": "python",
   "nbconvert_exporter": "python",
   "pygments_lexer": "ipython3",
   "version": "3.8.8"
  }
 },
 "nbformat": 4,
 "nbformat_minor": 5
}
