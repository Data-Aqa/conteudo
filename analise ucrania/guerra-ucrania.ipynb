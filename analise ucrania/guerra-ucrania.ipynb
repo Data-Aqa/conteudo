{
 "cells": [
  {
   "cell_type": "code",
   "execution_count": 1,
   "id": "60c2be0d",
   "metadata": {},
   "outputs": [],
   "source": [
    "import pandas as pd "
   ]
  },
  {
   "cell_type": "code",
   "execution_count": 2,
   "id": "2bcad153",
   "metadata": {},
   "outputs": [],
   "source": [
    "niveis_adm = pd.read_excel('dados/ukr_adminboundaries_tabulardata_20220913.xlsx')"
   ]
  },
  {
   "cell_type": "code",
   "execution_count": 4,
   "id": "ce6c8870",
   "metadata": {},
   "outputs": [
    {
     "data": {
      "text/plain": [
       "Index(['OBJECTID *', 'Shape *', 'admin4Name_en', 'admin4Name_ua',\n",
       "       'admin4Name_ru', 'admin4Pcode', 'admin4RefName', 'admin4AltName1_en',\n",
       "       'admin4AltName2_en', 'admin4AltName1_ua', 'admin4AltName2_ua',\n",
       "       'admin4AltName1_ru', 'admin4AltName2_ru', 'admin3Name_en',\n",
       "       'admin3Name_ua', 'admin3Name_ru', 'admin3Pcode', 'admin2Name_en',\n",
       "       'admin2Name_ua', 'admin2Name_ru', 'admin2Pcode', 'admin1Name_en',\n",
       "       'admin1_English', 'admin1Name_ua', 'admin1Name_ru', 'admin1Pcode',\n",
       "       'admin0Name_en', 'admin0Name_ua', 'admin0Name_ru', 'admin0Pcode',\n",
       "       'date', 'validOn', 'validTo', 'Shape_Length', 'Shape_Area'],\n",
       "      dtype='object')"
      ]
     },
     "execution_count": 4,
     "metadata": {},
     "output_type": "execute_result"
    }
   ],
   "source": [
    "niveis_adm.columns"
   ]
  },
  {
   "cell_type": "code",
   "execution_count": 5,
   "id": "fde7eac7",
   "metadata": {},
   "outputs": [
    {
     "data": {
      "text/plain": [
       "0        UA0116033\n",
       "1        UA0116003\n",
       "2        UA0116003\n",
       "3        UA0116003\n",
       "4        UA0116003\n",
       "           ...    \n",
       "29709    UA1212013\n",
       "29710    UA1414001\n",
       "29711    UA2110009\n",
       "29712    UA2604039\n",
       "29713    UA4412005\n",
       "Name: admin3Pcode, Length: 29714, dtype: object"
      ]
     },
     "execution_count": 5,
     "metadata": {},
     "output_type": "execute_result"
    }
   ],
   "source": [
    "niveis_adm.admin3Pcode"
   ]
  },
  {
   "cell_type": "code",
   "execution_count": null,
   "id": "ec5562a4",
   "metadata": {},
   "outputs": [],
   "source": []
  }
 ],
 "metadata": {
  "kernelspec": {
   "display_name": "Python 3 (ipykernel)",
   "language": "python",
   "name": "python3"
  },
  "language_info": {
   "codemirror_mode": {
    "name": "ipython",
    "version": 3
   },
   "file_extension": ".py",
   "mimetype": "text/x-python",
   "name": "python",
   "nbconvert_exporter": "python",
   "pygments_lexer": "ipython3",
   "version": "3.9.12"
  }
 },
 "nbformat": 4,
 "nbformat_minor": 5
}
