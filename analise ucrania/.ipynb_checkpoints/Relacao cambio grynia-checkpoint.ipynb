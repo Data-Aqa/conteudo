{
 "cells": [
  {
   "cell_type": "code",
   "execution_count": 1,
   "id": "1fde0813",
   "metadata": {},
   "outputs": [],
   "source": [
    "#Importando as bibliotecas necessárias para a visualização# \n",
    "import pandas as pd\n",
    "import seaborn as sb\n",
    "import matplotlib.pyplot as plt"
   ]
  },
  {
   "cell_type": "code",
   "execution_count": 2,
   "id": "ad528103",
   "metadata": {},
   "outputs": [],
   "source": [
    "## lendo os dados##\n",
    "gryniaxdolar = pd.read_csv(r'C:\\Users\\ahcar\\Downloads\\odio.csv')\n",
    "gryniaxdolar.rename(columns={'Último': 'Price', 'Data': 'Date','Máxima': 'High','Mínima': 'Low', 'Var%': 'Change%', 'Abertura': 'Open',}, inplace=True)\n",
    "\n"
   ]
  },
  {
   "cell_type": "code",
   "execution_count": 3,
   "id": "84e583aa",
   "metadata": {},
   "outputs": [
    {
     "name": "stdout",
     "output_type": "stream",
     "text": [
      "<class 'pandas.core.frame.DataFrame'>\n",
      "RangeIndex: 392 entries, 0 to 391\n",
      "Data columns (total 6 columns):\n",
      " #   Column   Non-Null Count  Dtype \n",
      "---  ------   --------------  ----- \n",
      " 0   Date     392 non-null    object\n",
      " 1   Price    392 non-null    object\n",
      " 2   Open     392 non-null    object\n",
      " 3   High     392 non-null    object\n",
      " 4   Low      392 non-null    object\n",
      " 5   Change%  392 non-null    object\n",
      "dtypes: object(6)\n",
      "memory usage: 18.5+ KB\n"
     ]
    }
   ],
   "source": [
    "grynia = gryniaxdolar.replace({',': '.'}, regex=True)\n",
    "grynia.info()"
   ]
  },
  {
   "cell_type": "code",
   "execution_count": 4,
   "id": "0bdf1ca9",
   "metadata": {},
   "outputs": [],
   "source": [
    "grynia = grynia.astype({'Price':'float'})"
   ]
  },
  {
   "cell_type": "code",
   "execution_count": 5,
   "id": "50275e29",
   "metadata": {},
   "outputs": [
    {
     "data": {
      "text/html": [
       "<div>\n",
       "<style scoped>\n",
       "    .dataframe tbody tr th:only-of-type {\n",
       "        vertical-align: middle;\n",
       "    }\n",
       "\n",
       "    .dataframe tbody tr th {\n",
       "        vertical-align: top;\n",
       "    }\n",
       "\n",
       "    .dataframe thead th {\n",
       "        text-align: right;\n",
       "    }\n",
       "</style>\n",
       "<table border=\"1\" class=\"dataframe\">\n",
       "  <thead>\n",
       "    <tr style=\"text-align: right;\">\n",
       "      <th></th>\n",
       "      <th>Date</th>\n",
       "      <th>Price</th>\n",
       "    </tr>\n",
       "  </thead>\n",
       "  <tbody>\n",
       "    <tr>\n",
       "      <th>0</th>\n",
       "      <td>03.07.2022</td>\n",
       "      <td>29,5437</td>\n",
       "    </tr>\n",
       "    <tr>\n",
       "      <th>1</th>\n",
       "      <td>26.06.2022</td>\n",
       "      <td>29,2500</td>\n",
       "    </tr>\n",
       "    <tr>\n",
       "      <th>2</th>\n",
       "      <td>19.06.2022</td>\n",
       "      <td>29,5400</td>\n",
       "    </tr>\n",
       "    <tr>\n",
       "      <th>3</th>\n",
       "      <td>12.06.2022</td>\n",
       "      <td>29,5400</td>\n",
       "    </tr>\n",
       "    <tr>\n",
       "      <th>4</th>\n",
       "      <td>05.06.2022</td>\n",
       "      <td>29,5450</td>\n",
       "    </tr>\n",
       "    <tr>\n",
       "      <th>...</th>\n",
       "      <td>...</td>\n",
       "      <td>...</td>\n",
       "    </tr>\n",
       "    <tr>\n",
       "      <th>387</th>\n",
       "      <td>01.02.2015</td>\n",
       "      <td>25,2500</td>\n",
       "    </tr>\n",
       "    <tr>\n",
       "      <th>388</th>\n",
       "      <td>25.01.2015</td>\n",
       "      <td>16,2075</td>\n",
       "    </tr>\n",
       "    <tr>\n",
       "      <th>389</th>\n",
       "      <td>18.01.2015</td>\n",
       "      <td>15,8175</td>\n",
       "    </tr>\n",
       "    <tr>\n",
       "      <th>390</th>\n",
       "      <td>11.01.2015</td>\n",
       "      <td>15,8475</td>\n",
       "    </tr>\n",
       "    <tr>\n",
       "      <th>391</th>\n",
       "      <td>04.01.2015</td>\n",
       "      <td>15,7990</td>\n",
       "    </tr>\n",
       "  </tbody>\n",
       "</table>\n",
       "<p>392 rows × 2 columns</p>\n",
       "</div>"
      ],
      "text/plain": [
       "           Date    Price\n",
       "0    03.07.2022  29,5437\n",
       "1    26.06.2022  29,2500\n",
       "2    19.06.2022  29,5400\n",
       "3    12.06.2022  29,5400\n",
       "4    05.06.2022  29,5450\n",
       "..          ...      ...\n",
       "387  01.02.2015  25,2500\n",
       "388  25.01.2015  16,2075\n",
       "389  18.01.2015  15,8175\n",
       "390  11.01.2015  15,8475\n",
       "391  04.01.2015  15,7990\n",
       "\n",
       "[392 rows x 2 columns]"
      ]
     },
     "execution_count": 5,
     "metadata": {},
     "output_type": "execute_result"
    }
   ],
   "source": [
    "grynia = gryniaxdolar.reindex(columns = ['Date','Price'])\n",
    "grynia"
   ]
  },
  {
   "cell_type": "code",
   "execution_count": 6,
   "id": "69bacec4",
   "metadata": {},
   "outputs": [
    {
     "name": "stdout",
     "output_type": "stream",
     "text": [
      "<class 'pandas.core.frame.DataFrame'>\n",
      "RangeIndex: 392 entries, 0 to 391\n",
      "Data columns (total 6 columns):\n",
      " #   Column   Non-Null Count  Dtype \n",
      "---  ------   --------------  ----- \n",
      " 0   Date     392 non-null    object\n",
      " 1   Price    392 non-null    object\n",
      " 2   Open     392 non-null    object\n",
      " 3   High     392 non-null    object\n",
      " 4   Low      392 non-null    object\n",
      " 5   Change%  392 non-null    object\n",
      "dtypes: object(6)\n",
      "memory usage: 18.5+ KB\n"
     ]
    }
   ],
   "source": [
    "grynia = gryniaxdolar.replace({',': '.'}, regex=True)\n",
    "grynia.info()"
   ]
  },
  {
   "cell_type": "code",
   "execution_count": 7,
   "id": "d689c442",
   "metadata": {},
   "outputs": [],
   "source": [
    "grynia = grynia.astype({'Price':'float'})\n"
   ]
  },
  {
   "cell_type": "code",
   "execution_count": 8,
   "id": "f81d3af6",
   "metadata": {},
   "outputs": [],
   "source": [
    "grynia2 = grynia.reindex(columns = ['Date','Price'])\n"
   ]
  },
  {
   "cell_type": "code",
   "execution_count": 13,
   "id": "8c69c07d",
   "metadata": {},
   "outputs": [],
   "source": [
    "## transformando a variavel ''Date'' em datetime (explicar o que é datetime) #\n",
    "grynia.date= pd.to_datetime(grynia2.Date)"
   ]
  },
  {
   "cell_type": "code",
   "execution_count": 10,
   "id": "4217a08d",
   "metadata": {},
   "outputs": [],
   "source": [
    "## transformando a variavel ''Date'' em datetime ##\n",
    "grynia3 = grynia2[grynia2['Date' ] > '2015-01-1']"
   ]
  },
  {
   "cell_type": "code",
   "execution_count": 11,
   "id": "bd503719",
   "metadata": {},
   "outputs": [],
   "source": [
    "## e em seguida transformarei a coluna Date como uma coluna indexadora dos demais ultilizando o comando Data.frame.set_index(). ##\n",
    "grynia3.set_index('Date', inplace=True)"
   ]
  },
  {
   "cell_type": "code",
   "execution_count": 14,
   "id": "9b6f412b",
   "metadata": {},
   "outputs": [
    {
     "data": {
      "image/png": "[encoded data removed]",
      "text/plain": [
       "<Figure size 1296x576 with 1 Axes>"
      ]
     },
     "metadata": {
      "needs_background": "light"
     },
     "output_type": "display_data"
    }
   ],
   "source": [
    "plt.figure(figsize=(18, 8)) \n",
    "  \n",
    "plt.plot(grynia3) \n",
    "\n",
    "plt.tick_params(axis='y', which='both', right=False, \n",
    "                left=False, labelleft=False) \n",
    "plt.title('Grynia Ucraniana Em Relação ao Dolar', fontsize=25)\n",
    "\n",
    "for pos in ['right', 'top', 'bottom', 'left']: \n",
    "    plt.gca().spines[pos].set_visible(False) \n",
    "plt.show()"
   ]
  },
  {
   "cell_type": "code",
   "execution_count": null,
   "id": "7c0bbd7e",
   "metadata": {},
   "outputs": [],
   "source": []
  },
  {
   "cell_type": "code",
   "execution_count": null,
   "id": "cc6cc014",
   "metadata": {},
   "outputs": [],
   "source": []
  }
 ],
 "metadata": {
  "kernelspec": {
   "display_name": "Python 3",
   "language": "python",
   "name": "python3"
  },
  "language_info": {
   "codemirror_mode": {
    "name": "ipython",
    "version": 3
   },
   "file_extension": ".py",
   "mimetype": "text/x-python",
   "name": "python",
   "nbconvert_exporter": "python",
   "pygments_lexer": "ipython3",
   "version": "3.8.8"
  }
 },
 "nbformat": 4,
 "nbformat_minor": 5
}
