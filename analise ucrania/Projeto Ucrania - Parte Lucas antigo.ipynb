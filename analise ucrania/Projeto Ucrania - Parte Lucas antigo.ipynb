{
 "cells": [
  {
   "cell_type": "markdown",
   "id": "950f9c56",
   "metadata": {
    "slideshow": {
     "slide_type": "slide"
    }
   },
   "source": [
    "<img src = 'imagens/Logo do Projeto 3 .png' >"
   ]
  },
  {
   "cell_type": "markdown",
   "id": "0c864d9b",
   "metadata": {
    "slideshow": {
     "slide_type": "slide"
    }
   },
   "source": [
    "#  <span style = \"font-family:Times New Roman\"> <font color = #045cbc> Objetivo \n",
    "    \n",
    "<br>\n",
    "    \n",
    "- Apresentar algumas informações referentes à Data Science e Análise de Dados\n",
    "<br>\n",
    "    \n",
    "- Comentários algumas ferramentas como Excel, R, Power BI     \n",
    "<br>\n",
    "    \n",
    "- Quais são as possibilidades da ferramenta \n",
    "   <br>\n",
    "    \n",
    "- Fazer uma análise do câmbio do Rublo e Grívnia e da pauta de exportações da Ucrânia\n",
    "   <br>\n",
    "- Fazer Processo Seletivo     "
   ]
  },
  {
   "cell_type": "markdown",
   "id": "e815a05b",
   "metadata": {
    "slideshow": {
     "slide_type": "slide"
    }
   },
   "source": [
    "## <span style = \"font-family:Times New Roman\"> <font color = #045cbc> Análise de Dados "
   ]
  },
  {
   "cell_type": "markdown",
   "id": "4f2c9e5e",
   "metadata": {
    "slideshow": {
     "slide_type": "fragment"
    }
   },
   "source": [
    "De acordo com o [**Wikipedia**](https://pt.wikipedia.org/wiki/An%C3%A1lise_de_dados) a análise de dados \"é um processo de inspeção, limpeza, transformação e modelagem de dados **com o objetivo de descobrir informações úteis**, informar conclusões e apoiar a tomada de decisões\".\n",
    "\n",
    "Este processo de analise de dados é bastante comum em diversas áreas dentre elas temos a área da saúde, mercado financeiro, empresas de consultoria, a própria academia  entre várias outras.\n",
    "\n",
    "Mas o que é um <font color = #045cbc>**\"dado\"** <font color = black>?\n",
    "    \n",
    "De acordo com [Valdemar Setzer](https://www.ime.usp.br/~vwsetzer/datagrama.html#Autor), professor do departamento de ciência da computação da USP, dado é <i>**\"uma seqüência de símbolos quantificados ou quantificáveis\"**</i>. Isso pode incluir uma vasta gama de conteúdos, que podem ser de ordem geográfica, temporal, sonora, tabular, textual, visual etc. "
   ]
  },
  {
   "cell_type": "markdown",
   "id": "fbdf51ec",
   "metadata": {
    "slideshow": {
     "slide_type": "subslide"
    }
   },
   "source": [
    "<img src = 'imagens/tipos de dados/geograficos.png' > <br> Fonte : [**Geopandas**](https://geopandas.org/en/stable/docs/user_guide/data_structures.html)"
   ]
  },
  {
   "cell_type": "markdown",
   "id": "d8a20f3a",
   "metadata": {
    "slideshow": {
     "slide_type": "subslide"
    }
   },
   "source": [
    "<img src = 'imagens/tipos de dados/série de tempo.png' >"
   ]
  },
  {
   "cell_type": "markdown",
   "id": "3f27c2fe",
   "metadata": {
    "slideshow": {
     "slide_type": "slide"
    }
   },
   "source": [
    "### <span style = \"font-family:Times New Roman\"> <font color = #045cbc> Algumas Ferramentas Disponíveis "
   ]
  },
  {
   "cell_type": "markdown",
   "id": "bac9fd9b",
   "metadata": {
    "slideshow": {
     "slide_type": "fragment"
    }
   },
   "source": [
    "<img src = 'imagens/Algumas Ferramentas para Análise.png' width = 720 >"
   ]
  },
  {
   "cell_type": "markdown",
   "id": "a2ca9287",
   "metadata": {
    "slideshow": {
     "slide_type": "fragment"
    }
   },
   "source": [
    "Existem uma série de ferramentas disponíveis para análise de dados. Nesta apresentação vamos comentar algumas famosas. "
   ]
  },
  {
   "cell_type": "markdown",
   "id": "6f504e8f",
   "metadata": {
    "slideshow": {
     "slide_type": "subslide"
    }
   },
   "source": [
    "<img src = 'imagens/ferramentas/2.png' >"
   ]
  },
  {
   "cell_type": "markdown",
   "id": "a36bdadc",
   "metadata": {
    "slideshow": {
     "slide_type": "subslide"
    }
   },
   "source": [
    "<img src = 'imagens/ferramentas/3.png' >\n",
    "\n",
    "Fonte: [**Microsoft**](https://docs.microsoft.com/pt-br/power-bi/admin/service-admin-manage-your-data-storage-in-power-bi)"
   ]
  },
  {
   "cell_type": "markdown",
   "id": "229135fc",
   "metadata": {
    "slideshow": {
     "slide_type": "subslide"
    }
   },
   "source": [
    "<img src = 'imagens/ferramentas/4.png' >"
   ]
  },
  {
   "cell_type": "markdown",
   "id": "54c02610",
   "metadata": {
    "slideshow": {
     "slide_type": "subslide"
    }
   },
   "source": [
    "<img src = 'imagens/ferramentas/5.png' >"
   ]
  },
  {
   "cell_type": "markdown",
   "id": "053d7208",
   "metadata": {},
   "source": [
    "<br>\n",
    "\n",
    "# <span style = \"font-family:Times New Roman\"> <font color = #045cbc> Guerra da Ucrânia \n",
    "    \n",
    "<br>"
   ]
  },
  {
   "cell_type": "markdown",
   "id": "dbcbee67",
   "metadata": {},
   "source": [
    "- Contextualizar o que é, como começou, impactos sociais e econômicos "
   ]
  },
  {
   "cell_type": "markdown",
   "id": "1da260d3",
   "metadata": {},
   "source": [
    "<br>\n",
    "\n",
    "# <span style = \"font-family:Times New Roman\"> <font color = #045cbc> Análise Cambial\n",
    "    \n",
    "<br>"
   ]
  },
  {
   "cell_type": "markdown",
   "id": "55f3caa4",
   "metadata": {},
   "source": [
    "\n",
    "\n",
    "<br>\n",
    "\n",
    "- Buscar referências de autores/artigos que escreveram sobre este tema ; \n",
    "- Tratar uma análise breve do câmbio \n"
   ]
  },
  {
   "cell_type": "markdown",
   "id": "05227f71",
   "metadata": {},
   "source": [
    "\n",
    "<br>\n",
    "\n",
    "## <span style = \"font-family:Times New Roman\"> <font color = #045cbc>Rublo Russo \n",
    "    \n",
    "<br>\n"
   ]
  },
  {
   "cell_type": "markdown",
   "id": "04745ae0",
   "metadata": {},
   "source": [
    "Para começarmos, irei importar as bibliotecas necessárias para a analise lê-las"
   ]
  },
  {
   "cell_type": "code",
   "execution_count": 1,
   "id": "3ab6539e",
   "metadata": {},
   "outputs": [],
   "source": [
    "import pandas as pd\n",
    "import seaborn as sb\n",
    "import matplotlib.pyplot as plt\n",
    "from dateutil.relativedelta import relativedelta\n",
    "import datetime\n",
    "import plotly.express as px\n",
    "import numpy as np"
   ]
  },
  {
   "cell_type": "code",
   "execution_count": 2,
   "id": "5678538f",
   "metadata": {},
   "outputs": [],
   "source": [
    "rublo_e_dolar = pd.read_csv(r'C:\\Users\\ahcar\\Documents\\conteudo\\analise ucrania\\dados\\Rub.csv') "
   ]
  },
  {
   "cell_type": "code",
   "execution_count": 3,
   "id": "f9097a90",
   "metadata": {},
   "outputs": [
    {
     "data": {
      "text/html": [
       "<div>\n",
       "<style scoped>\n",
       "    .dataframe tbody tr th:only-of-type {\n",
       "        vertical-align: middle;\n",
       "    }\n",
       "\n",
       "    .dataframe tbody tr th {\n",
       "        vertical-align: top;\n",
       "    }\n",
       "\n",
       "    .dataframe thead th {\n",
       "        text-align: right;\n",
       "    }\n",
       "</style>\n",
       "<table border=\"1\" class=\"dataframe\">\n",
       "  <thead>\n",
       "    <tr style=\"text-align: right;\">\n",
       "      <th></th>\n",
       "      <th>Data</th>\n",
       "      <th>Último</th>\n",
       "      <th>Abertura</th>\n",
       "      <th>Máxima</th>\n",
       "      <th>Mínima</th>\n",
       "      <th>Vol.</th>\n",
       "      <th>Var%</th>\n",
       "    </tr>\n",
       "  </thead>\n",
       "  <tbody>\n",
       "    <tr>\n",
       "      <th>0</th>\n",
       "      <td>01.10.2022</td>\n",
       "      <td>61,2900</td>\n",
       "      <td>58,4500</td>\n",
       "      <td>64,9150</td>\n",
       "      <td>56,9074</td>\n",
       "      <td>NaN</td>\n",
       "      <td>4,86%</td>\n",
       "    </tr>\n",
       "    <tr>\n",
       "      <th>1</th>\n",
       "      <td>01.09.2022</td>\n",
       "      <td>58,4500</td>\n",
       "      <td>60,2300</td>\n",
       "      <td>62,5799</td>\n",
       "      <td>53,2875</td>\n",
       "      <td>NaN</td>\n",
       "      <td>-2,96%</td>\n",
       "    </tr>\n",
       "    <tr>\n",
       "      <th>2</th>\n",
       "      <td>01.08.2022</td>\n",
       "      <td>60,2300</td>\n",
       "      <td>61,6200</td>\n",
       "      <td>62,6401</td>\n",
       "      <td>58,2493</td>\n",
       "      <td>NaN</td>\n",
       "      <td>-2,26%</td>\n",
       "    </tr>\n",
       "    <tr>\n",
       "      <th>3</th>\n",
       "      <td>01.07.2022</td>\n",
       "      <td>61,6200</td>\n",
       "      <td>51,4500</td>\n",
       "      <td>64,5988</td>\n",
       "      <td>51,3998</td>\n",
       "      <td>NaN</td>\n",
       "      <td>19,77%</td>\n",
       "    </tr>\n",
       "    <tr>\n",
       "      <th>4</th>\n",
       "      <td>01.06.2022</td>\n",
       "      <td>51,4500</td>\n",
       "      <td>61,5000</td>\n",
       "      <td>62,4923</td>\n",
       "      <td>50,1006</td>\n",
       "      <td>NaN</td>\n",
       "      <td>-16,34%</td>\n",
       "    </tr>\n",
       "    <tr>\n",
       "      <th>...</th>\n",
       "      <td>...</td>\n",
       "      <td>...</td>\n",
       "      <td>...</td>\n",
       "      <td>...</td>\n",
       "      <td>...</td>\n",
       "      <td>...</td>\n",
       "      <td>...</td>\n",
       "    </tr>\n",
       "    <tr>\n",
       "      <th>89</th>\n",
       "      <td>01.05.2015</td>\n",
       "      <td>52,3212</td>\n",
       "      <td>51,6513</td>\n",
       "      <td>52,1965</td>\n",
       "      <td>50,3630</td>\n",
       "      <td>NaN</td>\n",
       "      <td>1,30%</td>\n",
       "    </tr>\n",
       "    <tr>\n",
       "      <th>90</th>\n",
       "      <td>01.04.2015</td>\n",
       "      <td>51,6513</td>\n",
       "      <td>58,1993</td>\n",
       "      <td>58,4863</td>\n",
       "      <td>49,4550</td>\n",
       "      <td>NaN</td>\n",
       "      <td>-11,25%</td>\n",
       "    </tr>\n",
       "    <tr>\n",
       "      <th>91</th>\n",
       "      <td>01.03.2015</td>\n",
       "      <td>58,1993</td>\n",
       "      <td>61,6207</td>\n",
       "      <td>63,0344</td>\n",
       "      <td>56,2019</td>\n",
       "      <td>NaN</td>\n",
       "      <td>-5,55%</td>\n",
       "    </tr>\n",
       "    <tr>\n",
       "      <th>92</th>\n",
       "      <td>01.02.2015</td>\n",
       "      <td>61,6207</td>\n",
       "      <td>68,8629</td>\n",
       "      <td>70,4525</td>\n",
       "      <td>59,8819</td>\n",
       "      <td>NaN</td>\n",
       "      <td>-10,52%</td>\n",
       "    </tr>\n",
       "    <tr>\n",
       "      <th>93</th>\n",
       "      <td>01.01.2015</td>\n",
       "      <td>68,8629</td>\n",
       "      <td>55,9077</td>\n",
       "      <td>71,7575</td>\n",
       "      <td>55,9077</td>\n",
       "      <td>NaN</td>\n",
       "      <td>23,17%</td>\n",
       "    </tr>\n",
       "  </tbody>\n",
       "</table>\n",
       "<p>94 rows × 7 columns</p>\n",
       "</div>"
      ],
      "text/plain": [
       "          Data   Último Abertura   Máxima   Mínima  Vol.     Var%\n",
       "0   01.10.2022  61,2900  58,4500  64,9150  56,9074   NaN    4,86%\n",
       "1   01.09.2022  58,4500  60,2300  62,5799  53,2875   NaN   -2,96%\n",
       "2   01.08.2022  60,2300  61,6200  62,6401  58,2493   NaN   -2,26%\n",
       "3   01.07.2022  61,6200  51,4500  64,5988  51,3998   NaN   19,77%\n",
       "4   01.06.2022  51,4500  61,5000  62,4923  50,1006   NaN  -16,34%\n",
       "..         ...      ...      ...      ...      ...   ...      ...\n",
       "89  01.05.2015  52,3212  51,6513  52,1965  50,3630   NaN    1,30%\n",
       "90  01.04.2015  51,6513  58,1993  58,4863  49,4550   NaN  -11,25%\n",
       "91  01.03.2015  58,1993  61,6207  63,0344  56,2019   NaN   -5,55%\n",
       "92  01.02.2015  61,6207  68,8629  70,4525  59,8819   NaN  -10,52%\n",
       "93  01.01.2015  68,8629  55,9077  71,7575  55,9077   NaN   23,17%\n",
       "\n",
       "[94 rows x 7 columns]"
      ]
     },
     "execution_count": 3,
     "metadata": {},
     "output_type": "execute_result"
    }
   ],
   "source": [
    "rublo_e_dolar"
   ]
  },
  {
   "cell_type": "code",
   "execution_count": 4,
   "id": "503ec4a9",
   "metadata": {},
   "outputs": [],
   "source": [
    "rublo_e_dolar.rename(columns={'Último': 'Fechamento', 'Date': 'Data','High': 'Máxima',\n",
    "                            'Low': 'Miníma', 'Change%': 'Var%', 'Open': 'Abertura',}, inplace=True)"
   ]
  },
  {
   "cell_type": "code",
   "execution_count": 5,
   "id": "df0ab862",
   "metadata": {},
   "outputs": [
    {
     "data": {
      "text/html": [
       "<div>\n",
       "<style scoped>\n",
       "    .dataframe tbody tr th:only-of-type {\n",
       "        vertical-align: middle;\n",
       "    }\n",
       "\n",
       "    .dataframe tbody tr th {\n",
       "        vertical-align: top;\n",
       "    }\n",
       "\n",
       "    .dataframe thead th {\n",
       "        text-align: right;\n",
       "    }\n",
       "</style>\n",
       "<table border=\"1\" class=\"dataframe\">\n",
       "  <thead>\n",
       "    <tr style=\"text-align: right;\">\n",
       "      <th></th>\n",
       "      <th>Data</th>\n",
       "      <th>Fechamento</th>\n",
       "      <th>Abertura</th>\n",
       "      <th>Máxima</th>\n",
       "      <th>Mínima</th>\n",
       "      <th>Vol.</th>\n",
       "      <th>Var%</th>\n",
       "    </tr>\n",
       "  </thead>\n",
       "  <tbody>\n",
       "    <tr>\n",
       "      <th>0</th>\n",
       "      <td>01.10.2022</td>\n",
       "      <td>61,2900</td>\n",
       "      <td>58,4500</td>\n",
       "      <td>64,9150</td>\n",
       "      <td>56,9074</td>\n",
       "      <td>NaN</td>\n",
       "      <td>4,86%</td>\n",
       "    </tr>\n",
       "    <tr>\n",
       "      <th>1</th>\n",
       "      <td>01.09.2022</td>\n",
       "      <td>58,4500</td>\n",
       "      <td>60,2300</td>\n",
       "      <td>62,5799</td>\n",
       "      <td>53,2875</td>\n",
       "      <td>NaN</td>\n",
       "      <td>-2,96%</td>\n",
       "    </tr>\n",
       "    <tr>\n",
       "      <th>2</th>\n",
       "      <td>01.08.2022</td>\n",
       "      <td>60,2300</td>\n",
       "      <td>61,6200</td>\n",
       "      <td>62,6401</td>\n",
       "      <td>58,2493</td>\n",
       "      <td>NaN</td>\n",
       "      <td>-2,26%</td>\n",
       "    </tr>\n",
       "    <tr>\n",
       "      <th>3</th>\n",
       "      <td>01.07.2022</td>\n",
       "      <td>61,6200</td>\n",
       "      <td>51,4500</td>\n",
       "      <td>64,5988</td>\n",
       "      <td>51,3998</td>\n",
       "      <td>NaN</td>\n",
       "      <td>19,77%</td>\n",
       "    </tr>\n",
       "    <tr>\n",
       "      <th>4</th>\n",
       "      <td>01.06.2022</td>\n",
       "      <td>51,4500</td>\n",
       "      <td>61,5000</td>\n",
       "      <td>62,4923</td>\n",
       "      <td>50,1006</td>\n",
       "      <td>NaN</td>\n",
       "      <td>-16,34%</td>\n",
       "    </tr>\n",
       "    <tr>\n",
       "      <th>...</th>\n",
       "      <td>...</td>\n",
       "      <td>...</td>\n",
       "      <td>...</td>\n",
       "      <td>...</td>\n",
       "      <td>...</td>\n",
       "      <td>...</td>\n",
       "      <td>...</td>\n",
       "    </tr>\n",
       "    <tr>\n",
       "      <th>89</th>\n",
       "      <td>01.05.2015</td>\n",
       "      <td>52,3212</td>\n",
       "      <td>51,6513</td>\n",
       "      <td>52,1965</td>\n",
       "      <td>50,3630</td>\n",
       "      <td>NaN</td>\n",
       "      <td>1,30%</td>\n",
       "    </tr>\n",
       "    <tr>\n",
       "      <th>90</th>\n",
       "      <td>01.04.2015</td>\n",
       "      <td>51,6513</td>\n",
       "      <td>58,1993</td>\n",
       "      <td>58,4863</td>\n",
       "      <td>49,4550</td>\n",
       "      <td>NaN</td>\n",
       "      <td>-11,25%</td>\n",
       "    </tr>\n",
       "    <tr>\n",
       "      <th>91</th>\n",
       "      <td>01.03.2015</td>\n",
       "      <td>58,1993</td>\n",
       "      <td>61,6207</td>\n",
       "      <td>63,0344</td>\n",
       "      <td>56,2019</td>\n",
       "      <td>NaN</td>\n",
       "      <td>-5,55%</td>\n",
       "    </tr>\n",
       "    <tr>\n",
       "      <th>92</th>\n",
       "      <td>01.02.2015</td>\n",
       "      <td>61,6207</td>\n",
       "      <td>68,8629</td>\n",
       "      <td>70,4525</td>\n",
       "      <td>59,8819</td>\n",
       "      <td>NaN</td>\n",
       "      <td>-10,52%</td>\n",
       "    </tr>\n",
       "    <tr>\n",
       "      <th>93</th>\n",
       "      <td>01.01.2015</td>\n",
       "      <td>68,8629</td>\n",
       "      <td>55,9077</td>\n",
       "      <td>71,7575</td>\n",
       "      <td>55,9077</td>\n",
       "      <td>NaN</td>\n",
       "      <td>23,17%</td>\n",
       "    </tr>\n",
       "  </tbody>\n",
       "</table>\n",
       "<p>94 rows × 7 columns</p>\n",
       "</div>"
      ],
      "text/plain": [
       "          Data Fechamento Abertura   Máxima   Mínima  Vol.     Var%\n",
       "0   01.10.2022    61,2900  58,4500  64,9150  56,9074   NaN    4,86%\n",
       "1   01.09.2022    58,4500  60,2300  62,5799  53,2875   NaN   -2,96%\n",
       "2   01.08.2022    60,2300  61,6200  62,6401  58,2493   NaN   -2,26%\n",
       "3   01.07.2022    61,6200  51,4500  64,5988  51,3998   NaN   19,77%\n",
       "4   01.06.2022    51,4500  61,5000  62,4923  50,1006   NaN  -16,34%\n",
       "..         ...        ...      ...      ...      ...   ...      ...\n",
       "89  01.05.2015    52,3212  51,6513  52,1965  50,3630   NaN    1,30%\n",
       "90  01.04.2015    51,6513  58,1993  58,4863  49,4550   NaN  -11,25%\n",
       "91  01.03.2015    58,1993  61,6207  63,0344  56,2019   NaN   -5,55%\n",
       "92  01.02.2015    61,6207  68,8629  70,4525  59,8819   NaN  -10,52%\n",
       "93  01.01.2015    68,8629  55,9077  71,7575  55,9077   NaN   23,17%\n",
       "\n",
       "[94 rows x 7 columns]"
      ]
     },
     "execution_count": 5,
     "metadata": {},
     "output_type": "execute_result"
    }
   ],
   "source": [
    "rublo_e_dolar"
   ]
  },
  {
   "cell_type": "markdown",
   "id": "26f986d4",
   "metadata": {},
   "source": [
    "Para esta análise, só utilizei as variáveis 'Data' e 'Fechamento' (Preço de fechamento), e agora usarei um comando que faça essas variáveis serem lidas, e após isso irei retirar todos os dados em branco que possam existir. "
   ]
  },
  {
   "cell_type": "code",
   "execution_count": 6,
   "id": "d1b53357",
   "metadata": {},
   "outputs": [],
   "source": [
    "rublo_e_dolar = rublo_e_dolar[['Data', 'Fechamento']]"
   ]
  },
  {
   "cell_type": "code",
   "execution_count": 7,
   "id": "bd5438eb",
   "metadata": {},
   "outputs": [],
   "source": [
    "rublo_e_dolar = rublo_e_dolar.dropna()"
   ]
  },
  {
   "cell_type": "markdown",
   "id": "d2220d9c",
   "metadata": {},
   "source": [
    "Agora, irei ajustar a data em ordem crescente pois o arquivo está com as datas ao contrário e também ajustar o índex."
   ]
  },
  {
   "cell_type": "markdown",
   "id": "a1ba0de4",
   "metadata": {},
   "source": [
    "Sugestões de alteração de Thiago - <font color = red>  mudar variável  data_correta para data "
   ]
  },
  {
   "cell_type": "code",
   "execution_count": 8,
   "id": "a86b2705",
   "metadata": {},
   "outputs": [],
   "source": [
    "rublo_e_dolar = rublo_e_dolar.iloc[::-1]"
   ]
  },
  {
   "cell_type": "code",
   "execution_count": 9,
   "id": "c65a958b",
   "metadata": {},
   "outputs": [],
   "source": [
    "rublo_e_dolar.reset_index(drop = True, inplace = True)"
   ]
  },
  {
   "cell_type": "code",
   "execution_count": 10,
   "id": "60f3cbe6",
   "metadata": {},
   "outputs": [
    {
     "data": {
      "text/html": [
       "<div>\n",
       "<style scoped>\n",
       "    .dataframe tbody tr th:only-of-type {\n",
       "        vertical-align: middle;\n",
       "    }\n",
       "\n",
       "    .dataframe tbody tr th {\n",
       "        vertical-align: top;\n",
       "    }\n",
       "\n",
       "    .dataframe thead th {\n",
       "        text-align: right;\n",
       "    }\n",
       "</style>\n",
       "<table border=\"1\" class=\"dataframe\">\n",
       "  <thead>\n",
       "    <tr style=\"text-align: right;\">\n",
       "      <th></th>\n",
       "      <th>Data</th>\n",
       "      <th>Fechamento</th>\n",
       "    </tr>\n",
       "  </thead>\n",
       "  <tbody>\n",
       "    <tr>\n",
       "      <th>0</th>\n",
       "      <td>01.01.2015</td>\n",
       "      <td>68,8629</td>\n",
       "    </tr>\n",
       "    <tr>\n",
       "      <th>1</th>\n",
       "      <td>01.02.2015</td>\n",
       "      <td>61,6207</td>\n",
       "    </tr>\n",
       "    <tr>\n",
       "      <th>2</th>\n",
       "      <td>01.03.2015</td>\n",
       "      <td>58,1993</td>\n",
       "    </tr>\n",
       "    <tr>\n",
       "      <th>3</th>\n",
       "      <td>01.04.2015</td>\n",
       "      <td>51,6513</td>\n",
       "    </tr>\n",
       "    <tr>\n",
       "      <th>4</th>\n",
       "      <td>01.05.2015</td>\n",
       "      <td>52,3212</td>\n",
       "    </tr>\n",
       "    <tr>\n",
       "      <th>...</th>\n",
       "      <td>...</td>\n",
       "      <td>...</td>\n",
       "    </tr>\n",
       "    <tr>\n",
       "      <th>89</th>\n",
       "      <td>01.06.2022</td>\n",
       "      <td>51,4500</td>\n",
       "    </tr>\n",
       "    <tr>\n",
       "      <th>90</th>\n",
       "      <td>01.07.2022</td>\n",
       "      <td>61,6200</td>\n",
       "    </tr>\n",
       "    <tr>\n",
       "      <th>91</th>\n",
       "      <td>01.08.2022</td>\n",
       "      <td>60,2300</td>\n",
       "    </tr>\n",
       "    <tr>\n",
       "      <th>92</th>\n",
       "      <td>01.09.2022</td>\n",
       "      <td>58,4500</td>\n",
       "    </tr>\n",
       "    <tr>\n",
       "      <th>93</th>\n",
       "      <td>01.10.2022</td>\n",
       "      <td>61,2900</td>\n",
       "    </tr>\n",
       "  </tbody>\n",
       "</table>\n",
       "<p>94 rows × 2 columns</p>\n",
       "</div>"
      ],
      "text/plain": [
       "          Data Fechamento\n",
       "0   01.01.2015    68,8629\n",
       "1   01.02.2015    61,6207\n",
       "2   01.03.2015    58,1993\n",
       "3   01.04.2015    51,6513\n",
       "4   01.05.2015    52,3212\n",
       "..         ...        ...\n",
       "89  01.06.2022    51,4500\n",
       "90  01.07.2022    61,6200\n",
       "91  01.08.2022    60,2300\n",
       "92  01.09.2022    58,4500\n",
       "93  01.10.2022    61,2900\n",
       "\n",
       "[94 rows x 2 columns]"
      ]
     },
     "execution_count": 10,
     "metadata": {},
     "output_type": "execute_result"
    }
   ],
   "source": [
    "rublo_e_dolar"
   ]
  },
  {
   "cell_type": "code",
   "execution_count": 11,
   "id": "1002ab8f",
   "metadata": {},
   "outputs": [],
   "source": [
    "rublo_e_dolar['Data']= pd.to_datetime(rublo_e_dolar['Data'])"
   ]
  },
  {
   "cell_type": "markdown",
   "id": "afa5ad8b",
   "metadata": {},
   "source": [
    "Precisarei transformar a variável ''Data'' em datetime, sendo o módulo datetime responsável por fornecer as classes para manipulação de datas e horas. Assim sendo possivél organizar pela data correta. Também irei colocar a data como índice. "
   ]
  },
  {
   "cell_type": "code",
   "execution_count": 12,
   "id": "dd9d2e25",
   "metadata": {
    "scrolled": true
   },
   "outputs": [],
   "source": [
    "inicio_date = datetime.date(2015, 1, 1)\n",
    "fim_date = datetime.date(2022, 11, 10)"
   ]
  },
  {
   "cell_type": "code",
   "execution_count": 13,
   "id": "e95c30b6",
   "metadata": {},
   "outputs": [],
   "source": [
    "delta = relativedelta(months=1)\n",
    "datas = []"
   ]
  },
  {
   "cell_type": "code",
   "execution_count": 14,
   "id": "e3eb1d38",
   "metadata": {},
   "outputs": [],
   "source": [
    "while (inicio_date <= fim_date):\n",
    "    datas.append(inicio_date)\n",
    "    inicio_date += delta\n",
    "    "
   ]
  },
  {
   "cell_type": "code",
   "execution_count": 15,
   "id": "1deba2b6",
   "metadata": {},
   "outputs": [],
   "source": [
    "for registro in range(len(rublo_e_dolar)):\n",
    "    rublo_e_dolar.loc[registro, 'Data'] = datas[registro]"
   ]
  },
  {
   "cell_type": "code",
   "execution_count": 16,
   "id": "83bce1b3",
   "metadata": {},
   "outputs": [
    {
     "name": "stdout",
     "output_type": "stream",
     "text": [
      "<class 'pandas.core.frame.DataFrame'>\n",
      "RangeIndex: 94 entries, 0 to 93\n",
      "Data columns (total 2 columns):\n",
      " #   Column      Non-Null Count  Dtype \n",
      "---  ------      --------------  ----- \n",
      " 0   Data        94 non-null     object\n",
      " 1   Fechamento  94 non-null     object\n",
      "dtypes: object(2)\n",
      "memory usage: 1.6+ KB\n"
     ]
    }
   ],
   "source": [
    "rublo_e_dolar.info()"
   ]
  },
  {
   "cell_type": "code",
   "execution_count": 17,
   "id": "ddaebcc0",
   "metadata": {},
   "outputs": [],
   "source": [
    "resultado = rublo_e_dolar.set_index('Data')"
   ]
  },
  {
   "cell_type": "code",
   "execution_count": 18,
   "id": "708a6f45",
   "metadata": {},
   "outputs": [],
   "source": [
    "resultado['Fechamento'] = resultado['Fechamento'].str.replace(',','.').astype(float)"
   ]
  },
  {
   "cell_type": "code",
   "execution_count": 19,
   "id": "2936309f",
   "metadata": {},
   "outputs": [],
   "source": [
    "plt.style.use('fivethirtyeight')"
   ]
  },
  {
   "cell_type": "markdown",
   "id": "9f9df025",
   "metadata": {},
   "source": [
    "Colocando a Data como índice, assim podemos manipular o preço através dos anos escolhidos."
   ]
  },
  {
   "cell_type": "code",
   "execution_count": 20,
   "id": "91683c26",
   "metadata": {},
   "outputs": [
    {
     "data": {
      "image/png": "[encoded data removed]",
      "text/plain": [
       "<Figure size 1296x576 with 1 Axes>"
      ]
     },
     "metadata": {},
     "output_type": "display_data"
    }
   ],
   "source": [
    "plt.figure(figsize=(18, 8),facecolor='white')\n",
    "  \n",
    "plt.plot(resultado, color = 'Blue', linewidth = 5)\n",
    "\n",
    "\n",
    "plt.title('Quanto 1 Rublo Russo compra 1 Dólar Americano ',loc='left', fontsize=25)\n",
    "plt.ylabel('Preço de fechamento do RUB em USD', fontsize=18)\n",
    "\n",
    "\n",
    "\n",
    "for pos in ['right', 'top', 'bottom', 'left']: \n",
    "    plt.gca().spines[pos].set_visible(False) \n",
    "plt.show()"
   ]
  },
  {
   "cell_type": "markdown",
   "id": "67f006ae",
   "metadata": {},
   "source": [
    "Agora, para uma melhor analise dos dados irei criar uma coluna \"Variação\", Calculada com base nos dados de um mês antes do começo da guerra, sendo dia 25 de janeiro de 2022."
   ]
  },
  {
   "cell_type": "code",
   "execution_count": 21,
   "id": "fdd27204",
   "metadata": {},
   "outputs": [],
   "source": [
    "rublo_e_dolar['Fechamento'] = rublo_e_dolar['Fechamento'].str.replace(',','.').astype(float)"
   ]
  },
  {
   "cell_type": "code",
   "execution_count": 22,
   "id": "dfd828d0",
   "metadata": {},
   "outputs": [],
   "source": [
    "data_base_de_variacao = rublo_e_dolar['Fechamento'].loc[0]"
   ]
  },
  {
   "cell_type": "code",
   "execution_count": 23,
   "id": "e80f61b2",
   "metadata": {},
   "outputs": [],
   "source": [
    "rublo_e_dolar['Variacao %'] =  rublo_e_dolar['Fechamento']/data_base_de_variacao"
   ]
  },
  {
   "cell_type": "code",
   "execution_count": 24,
   "id": "a1ae8954",
   "metadata": {},
   "outputs": [],
   "source": [
    "variacao_rublo = rublo_e_dolar[['Data', 'Variacao %']]"
   ]
  },
  {
   "cell_type": "code",
   "execution_count": 25,
   "id": "4de064d7",
   "metadata": {},
   "outputs": [],
   "source": [
    "variacao_rublo = rublo_e_dolar.dropna()"
   ]
  },
  {
   "cell_type": "code",
   "execution_count": 26,
   "id": "6ec9bed1",
   "metadata": {},
   "outputs": [],
   "source": [
    "rublo_e_dolar.reset_index(drop = True, inplace = True)"
   ]
  },
  {
   "cell_type": "code",
   "execution_count": 27,
   "id": "ae8e1f13",
   "metadata": {},
   "outputs": [],
   "source": [
    "inicio_date = datetime.date(2015, 1, 1)\n",
    "fim_date = datetime.date(2022, 10, 21)"
   ]
  },
  {
   "cell_type": "code",
   "execution_count": 28,
   "id": "b44a5c09",
   "metadata": {},
   "outputs": [],
   "source": [
    "delta = relativedelta(months=1)\n",
    "datas = []"
   ]
  },
  {
   "cell_type": "code",
   "execution_count": 29,
   "id": "fc706b35",
   "metadata": {},
   "outputs": [],
   "source": [
    "while (inicio_date <= fim_date):\n",
    "    datas.append(inicio_date)\n",
    "    inicio_date += delta\n",
    "    "
   ]
  },
  {
   "cell_type": "code",
   "execution_count": 30,
   "id": "a86ec909",
   "metadata": {},
   "outputs": [],
   "source": [
    "for registro in range(len(rublo_e_dolar)):\n",
    "   rublo_e_dolar.loc[registro, 'datetime'] = datas[registro]"
   ]
  },
  {
   "cell_type": "code",
   "execution_count": 31,
   "id": "766d2732",
   "metadata": {},
   "outputs": [],
   "source": [
    "variacao_rublo= rublo_e_dolar.loc[(rublo_e_dolar['datetime'] >= datetime.date(2022, 1, 1))\n",
    "                     & (rublo_e_dolar['datetime'] < datetime.date(2022, 10, 21))]"
   ]
  },
  {
   "cell_type": "markdown",
   "id": "fbe3f422",
   "metadata": {},
   "source": [
    "Novamente, será necessário converter os dados em Datetime, sendo essa conversão essencial para o tratamento dos dados e irei coloca-la em uma variável que eu possa manipular de forma simples."
   ]
  },
  {
   "cell_type": "code",
   "execution_count": 32,
   "id": "ac6c5640",
   "metadata": {},
   "outputs": [],
   "source": [
    "variacao_rublo = variacao_rublo.set_index('datetime')"
   ]
  },
  {
   "cell_type": "code",
   "execution_count": 33,
   "id": "fa7a25dd",
   "metadata": {},
   "outputs": [
    {
     "data": {
      "text/html": [
       "<div>\n",
       "<style scoped>\n",
       "    .dataframe tbody tr th:only-of-type {\n",
       "        vertical-align: middle;\n",
       "    }\n",
       "\n",
       "    .dataframe tbody tr th {\n",
       "        vertical-align: top;\n",
       "    }\n",
       "\n",
       "    .dataframe thead th {\n",
       "        text-align: right;\n",
       "    }\n",
       "</style>\n",
       "<table border=\"1\" class=\"dataframe\">\n",
       "  <thead>\n",
       "    <tr style=\"text-align: right;\">\n",
       "      <th></th>\n",
       "      <th>Data</th>\n",
       "      <th>Fechamento</th>\n",
       "      <th>Variacao %</th>\n",
       "    </tr>\n",
       "    <tr>\n",
       "      <th>datetime</th>\n",
       "      <th></th>\n",
       "      <th></th>\n",
       "      <th></th>\n",
       "    </tr>\n",
       "  </thead>\n",
       "  <tbody>\n",
       "    <tr>\n",
       "      <th>2022-01-01</th>\n",
       "      <td>2022-01-01</td>\n",
       "      <td>77.3792</td>\n",
       "      <td>1.123670</td>\n",
       "    </tr>\n",
       "    <tr>\n",
       "      <th>2022-02-01</th>\n",
       "      <td>2022-02-01</td>\n",
       "      <td>94.6025</td>\n",
       "      <td>1.373780</td>\n",
       "    </tr>\n",
       "    <tr>\n",
       "      <th>2022-03-01</th>\n",
       "      <td>2022-03-01</td>\n",
       "      <td>83.2000</td>\n",
       "      <td>1.208198</td>\n",
       "    </tr>\n",
       "    <tr>\n",
       "      <th>2022-04-01</th>\n",
       "      <td>2022-04-01</td>\n",
       "      <td>70.9600</td>\n",
       "      <td>1.030453</td>\n",
       "    </tr>\n",
       "    <tr>\n",
       "      <th>2022-05-01</th>\n",
       "      <td>2022-05-01</td>\n",
       "      <td>61.5000</td>\n",
       "      <td>0.893079</td>\n",
       "    </tr>\n",
       "    <tr>\n",
       "      <th>2022-06-01</th>\n",
       "      <td>2022-06-01</td>\n",
       "      <td>51.4500</td>\n",
       "      <td>0.747137</td>\n",
       "    </tr>\n",
       "    <tr>\n",
       "      <th>2022-07-01</th>\n",
       "      <td>2022-07-01</td>\n",
       "      <td>61.6200</td>\n",
       "      <td>0.894821</td>\n",
       "    </tr>\n",
       "    <tr>\n",
       "      <th>2022-08-01</th>\n",
       "      <td>2022-08-01</td>\n",
       "      <td>60.2300</td>\n",
       "      <td>0.874636</td>\n",
       "    </tr>\n",
       "    <tr>\n",
       "      <th>2022-09-01</th>\n",
       "      <td>2022-09-01</td>\n",
       "      <td>58.4500</td>\n",
       "      <td>0.848788</td>\n",
       "    </tr>\n",
       "    <tr>\n",
       "      <th>2022-10-01</th>\n",
       "      <td>2022-10-01</td>\n",
       "      <td>61.2900</td>\n",
       "      <td>0.890029</td>\n",
       "    </tr>\n",
       "  </tbody>\n",
       "</table>\n",
       "</div>"
      ],
      "text/plain": [
       "                  Data  Fechamento  Variacao %\n",
       "datetime                                      \n",
       "2022-01-01  2022-01-01     77.3792    1.123670\n",
       "2022-02-01  2022-02-01     94.6025    1.373780\n",
       "2022-03-01  2022-03-01     83.2000    1.208198\n",
       "2022-04-01  2022-04-01     70.9600    1.030453\n",
       "2022-05-01  2022-05-01     61.5000    0.893079\n",
       "2022-06-01  2022-06-01     51.4500    0.747137\n",
       "2022-07-01  2022-07-01     61.6200    0.894821\n",
       "2022-08-01  2022-08-01     60.2300    0.874636\n",
       "2022-09-01  2022-09-01     58.4500    0.848788\n",
       "2022-10-01  2022-10-01     61.2900    0.890029"
      ]
     },
     "execution_count": 33,
     "metadata": {},
     "output_type": "execute_result"
    }
   ],
   "source": [
    "variacao_rublo"
   ]
  },
  {
   "cell_type": "code",
   "execution_count": 34,
   "id": "8c338bae",
   "metadata": {},
   "outputs": [],
   "source": [
    "variacao_rublo.drop(columns=['Data'],inplace=True)"
   ]
  },
  {
   "cell_type": "code",
   "execution_count": 35,
   "id": "8db9d429",
   "metadata": {},
   "outputs": [],
   "source": [
    "variacao_rublo.drop(columns=['Fechamento'],inplace=True)"
   ]
  },
  {
   "cell_type": "code",
   "execution_count": 36,
   "id": "fee0b67c",
   "metadata": {},
   "outputs": [
    {
     "data": {
      "image/png": "[encoded data removed]",
      "text/plain": [
       "<Figure size 1296x576 with 1 Axes>"
      ]
     },
     "metadata": {},
     "output_type": "display_data"
    }
   ],
   "source": [
    "plt.figure(figsize=(18, 8),facecolor='white') \n",
    "  \n",
    "plt.plot(variacao_rublo, color = 'Blue', linewidth = 5)\n",
    "plt.style.use('fivethirtyeight')\n",
    "plt.title('Quanto 1 Rublo Russo compra 1 Dólar Americano', loc='left', fontsize=25)\n",
    "\n",
    "\n",
    "\n",
    "for pos in ['right', 'top', 'bottom', 'left']: \n",
    "    plt.gca().spines[pos].set_visible(False) \n",
    "plt.show()"
   ]
  },
  {
   "cell_type": "markdown",
   "id": "72b73d37",
   "metadata": {},
   "source": [
    "\n",
    "<br>\n",
    "\n",
    "## <span style = \"font-family:Times New Roman\"> <font color = #045cbc> Grynia Ucraniana\n",
    "    \n",
    "<br>"
   ]
  },
  {
   "cell_type": "markdown",
   "id": "5784a4a7",
   "metadata": {},
   "source": [
    "Na analise da ucrânia, irei utilizar os mesmos passos da Rússia, ler os dados e importar as bibliotecas necessárias"
   ]
  },
  {
   "cell_type": "code",
   "execution_count": 37,
   "id": "ea773611",
   "metadata": {},
   "outputs": [],
   "source": [
    "import pandas as pd\n",
    "import seaborn as sb\n",
    "import matplotlib.pyplot as plt\n",
    "from dateutil.relativedelta import relativedelta\n",
    "import datetime"
   ]
  },
  {
   "cell_type": "code",
   "execution_count": 38,
   "id": "29d4732e",
   "metadata": {},
   "outputs": [],
   "source": [
    "grynia_e_dolar = pd.read_csv(r'C:\\Users\\ahcar\\Documents\\conteudo\\analise ucrania\\dados\\Urk.csv')"
   ]
  },
  {
   "cell_type": "markdown",
   "id": "09dd2b95",
   "metadata": {},
   "source": [
    "Neste arquivo também foi preciso traduzir as variáveis e igualmente acima, irei checar os dados como de costume,"
   ]
  },
  {
   "cell_type": "code",
   "execution_count": 39,
   "id": "a96ba58c",
   "metadata": {},
   "outputs": [],
   "source": [
    "grynia_e_dolar.rename(columns={'Último': 'Fechamento', 'Date': 'Data','High': 'Máxima',\n",
    "                            'Low': 'Miníma', 'Change%': 'Var%', 'Open': 'Abertura',}, \n",
    "                    \n",
    "                    inplace=True)"
   ]
  },
  {
   "cell_type": "code",
   "execution_count": 40,
   "id": "7b98a436",
   "metadata": {},
   "outputs": [
    {
     "data": {
      "text/html": [
       "<div>\n",
       "<style scoped>\n",
       "    .dataframe tbody tr th:only-of-type {\n",
       "        vertical-align: middle;\n",
       "    }\n",
       "\n",
       "    .dataframe tbody tr th {\n",
       "        vertical-align: top;\n",
       "    }\n",
       "\n",
       "    .dataframe thead th {\n",
       "        text-align: right;\n",
       "    }\n",
       "</style>\n",
       "<table border=\"1\" class=\"dataframe\">\n",
       "  <thead>\n",
       "    <tr style=\"text-align: right;\">\n",
       "      <th></th>\n",
       "      <th>Data</th>\n",
       "      <th>Fechamento</th>\n",
       "      <th>Abertura</th>\n",
       "      <th>Máxima</th>\n",
       "      <th>Mínima</th>\n",
       "      <th>Vol.</th>\n",
       "      <th>Var%</th>\n",
       "    </tr>\n",
       "  </thead>\n",
       "  <tbody>\n",
       "    <tr>\n",
       "      <th>0</th>\n",
       "      <td>01.10.2022</td>\n",
       "      <td>36,7170</td>\n",
       "      <td>36,7170</td>\n",
       "      <td>36,9347</td>\n",
       "      <td>36,7125</td>\n",
       "      <td>NaN</td>\n",
       "      <td>-0,58%</td>\n",
       "    </tr>\n",
       "    <tr>\n",
       "      <th>1</th>\n",
       "      <td>01.09.2022</td>\n",
       "      <td>36,9300</td>\n",
       "      <td>36,7300</td>\n",
       "      <td>36,9389</td>\n",
       "      <td>36,6250</td>\n",
       "      <td>NaN</td>\n",
       "      <td>1,18%</td>\n",
       "    </tr>\n",
       "    <tr>\n",
       "      <th>2</th>\n",
       "      <td>01.08.2022</td>\n",
       "      <td>36,5000</td>\n",
       "      <td>36,5920</td>\n",
       "      <td>36,9371</td>\n",
       "      <td>36,4251</td>\n",
       "      <td>NaN</td>\n",
       "      <td>-0,25%</td>\n",
       "    </tr>\n",
       "    <tr>\n",
       "      <th>3</th>\n",
       "      <td>01.07.2022</td>\n",
       "      <td>36,5920</td>\n",
       "      <td>29,5437</td>\n",
       "      <td>36,9645</td>\n",
       "      <td>29,3987</td>\n",
       "      <td>NaN</td>\n",
       "      <td>25,10%</td>\n",
       "    </tr>\n",
       "    <tr>\n",
       "      <th>4</th>\n",
       "      <td>01.06.2022</td>\n",
       "      <td>29,2500</td>\n",
       "      <td>29,4000</td>\n",
       "      <td>29,5500</td>\n",
       "      <td>29,3987</td>\n",
       "      <td>NaN</td>\n",
       "      <td>-0,98%</td>\n",
       "    </tr>\n",
       "    <tr>\n",
       "      <th>...</th>\n",
       "      <td>...</td>\n",
       "      <td>...</td>\n",
       "      <td>...</td>\n",
       "      <td>...</td>\n",
       "      <td>...</td>\n",
       "      <td>...</td>\n",
       "      <td>...</td>\n",
       "    </tr>\n",
       "    <tr>\n",
       "      <th>89</th>\n",
       "      <td>01.05.2015</td>\n",
       "      <td>20,9500</td>\n",
       "      <td>20,8000</td>\n",
       "      <td>23,3750</td>\n",
       "      <td>20,0430</td>\n",
       "      <td>NaN</td>\n",
       "      <td>-1,41%</td>\n",
       "    </tr>\n",
       "    <tr>\n",
       "      <th>90</th>\n",
       "      <td>01.04.2015</td>\n",
       "      <td>21,2500</td>\n",
       "      <td>23,4535</td>\n",
       "      <td>24,0438</td>\n",
       "      <td>20,5000</td>\n",
       "      <td>NaN</td>\n",
       "      <td>-9,35%</td>\n",
       "    </tr>\n",
       "    <tr>\n",
       "      <th>91</th>\n",
       "      <td>01.03.2015</td>\n",
       "      <td>23,4429</td>\n",
       "      <td>26,7500</td>\n",
       "      <td>26,7500</td>\n",
       "      <td>21,3272</td>\n",
       "      <td>NaN</td>\n",
       "      <td>-13,97%</td>\n",
       "    </tr>\n",
       "    <tr>\n",
       "      <th>92</th>\n",
       "      <td>01.02.2015</td>\n",
       "      <td>27,2500</td>\n",
       "      <td>16,2075</td>\n",
       "      <td>33,7500</td>\n",
       "      <td>16,0690</td>\n",
       "      <td>NaN</td>\n",
       "      <td>68,65%</td>\n",
       "    </tr>\n",
       "    <tr>\n",
       "      <th>93</th>\n",
       "      <td>01.01.2015</td>\n",
       "      <td>16,1575</td>\n",
       "      <td>15,8185</td>\n",
       "      <td>16,6700</td>\n",
       "      <td>15,6215</td>\n",
       "      <td>NaN</td>\n",
       "      <td>2,47%</td>\n",
       "    </tr>\n",
       "  </tbody>\n",
       "</table>\n",
       "<p>94 rows × 7 columns</p>\n",
       "</div>"
      ],
      "text/plain": [
       "          Data Fechamento Abertura   Máxima   Mínima  Vol.     Var%\n",
       "0   01.10.2022    36,7170  36,7170  36,9347  36,7125   NaN   -0,58%\n",
       "1   01.09.2022    36,9300  36,7300  36,9389  36,6250   NaN    1,18%\n",
       "2   01.08.2022    36,5000  36,5920  36,9371  36,4251   NaN   -0,25%\n",
       "3   01.07.2022    36,5920  29,5437  36,9645  29,3987   NaN   25,10%\n",
       "4   01.06.2022    29,2500  29,4000  29,5500  29,3987   NaN   -0,98%\n",
       "..         ...        ...      ...      ...      ...   ...      ...\n",
       "89  01.05.2015    20,9500  20,8000  23,3750  20,0430   NaN   -1,41%\n",
       "90  01.04.2015    21,2500  23,4535  24,0438  20,5000   NaN   -9,35%\n",
       "91  01.03.2015    23,4429  26,7500  26,7500  21,3272   NaN  -13,97%\n",
       "92  01.02.2015    27,2500  16,2075  33,7500  16,0690   NaN   68,65%\n",
       "93  01.01.2015    16,1575  15,8185  16,6700  15,6215   NaN    2,47%\n",
       "\n",
       "[94 rows x 7 columns]"
      ]
     },
     "execution_count": 40,
     "metadata": {},
     "output_type": "execute_result"
    }
   ],
   "source": [
    "grynia_e_dolar"
   ]
  },
  {
   "cell_type": "markdown",
   "id": "60d87c87",
   "metadata": {},
   "source": [
    "Por fins lógicos, usarei as mesmas váriaveis \"Data\" e \"Fechamento\" para poder fazer a analíse igualmente e retirar todos os dados em branco que o arquivo possa conter."
   ]
  },
  {
   "cell_type": "code",
   "execution_count": 41,
   "id": "8cdce880",
   "metadata": {},
   "outputs": [],
   "source": [
    "grynia_e_dolar = grynia_e_dolar[['Data', 'Fechamento']]"
   ]
  },
  {
   "cell_type": "code",
   "execution_count": 42,
   "id": "0ad2f633",
   "metadata": {},
   "outputs": [],
   "source": [
    "grynia_e_dolar = grynia_e_dolar.dropna()"
   ]
  },
  {
   "cell_type": "markdown",
   "id": "dcd78282",
   "metadata": {},
   "source": [
    "Feito isto, o index será ajustado e a data vai ser colocada em ordem crescente, pois os dois arquivos vieram do mesmo site."
   ]
  },
  {
   "cell_type": "code",
   "execution_count": 43,
   "id": "71159452",
   "metadata": {},
   "outputs": [],
   "source": [
    "grynia_e_dolar = grynia_e_dolar.iloc[::-1]"
   ]
  },
  {
   "cell_type": "code",
   "execution_count": 44,
   "id": "359dbf82",
   "metadata": {},
   "outputs": [],
   "source": [
    "grynia_e_dolar.reset_index(drop = True, inplace = True)"
   ]
  },
  {
   "cell_type": "markdown",
   "id": "016e8ec6",
   "metadata": {},
   "source": [
    "Transformando os dados em Datetime assim possível organizar as datas pela data correta."
   ]
  },
  {
   "cell_type": "code",
   "execution_count": 45,
   "id": "87c1fd3a",
   "metadata": {},
   "outputs": [],
   "source": [
    "grynia_e_dolar['Data']= pd.to_datetime(grynia_e_dolar['Data'])"
   ]
  },
  {
   "cell_type": "code",
   "execution_count": 46,
   "id": "11ac5328",
   "metadata": {},
   "outputs": [],
   "source": [
    "inicio_date = datetime.date(2015, 1, 1)\n",
    "fim_date = datetime.date(2022, 10, 19)"
   ]
  },
  {
   "cell_type": "code",
   "execution_count": 47,
   "id": "c9f1b446",
   "metadata": {},
   "outputs": [],
   "source": [
    "delta = relativedelta(months=1)\n",
    "datas = []"
   ]
  },
  {
   "cell_type": "code",
   "execution_count": 48,
   "id": "4c5765b1",
   "metadata": {},
   "outputs": [],
   "source": [
    "while (inicio_date <= fim_date):\n",
    "    datas.append(inicio_date)\n",
    "    inicio_date += delta"
   ]
  },
  {
   "cell_type": "code",
   "execution_count": 49,
   "id": "e05de1db",
   "metadata": {},
   "outputs": [],
   "source": [
    "for registro in range(len(grynia_e_dolar)):\n",
    "    grynia_e_dolar.loc[registro, 'datetime'] = datas[registro]"
   ]
  },
  {
   "cell_type": "markdown",
   "id": "4ad4c570",
   "metadata": {},
   "source": [
    "Colocarei a Data como índice, assim podemos manipular o preço através dos anos escolhidos e após todo o tratamento, podemos ver\n",
    "o resultado graficamente"
   ]
  },
  {
   "cell_type": "code",
   "execution_count": 50,
   "id": "0ef0de46",
   "metadata": {},
   "outputs": [],
   "source": [
    "resultado_final = grynia_e_dolar.set_index('datetime')"
   ]
  },
  {
   "cell_type": "code",
   "execution_count": 51,
   "id": "bd8b4fd7",
   "metadata": {},
   "outputs": [],
   "source": [
    "resultado_final = grynia_e_dolar.drop(columns=['Data'])"
   ]
  },
  {
   "cell_type": "code",
   "execution_count": 52,
   "id": "a0013599",
   "metadata": {
    "scrolled": false
   },
   "outputs": [],
   "source": [
    "resultado_final.set_index('datetime', inplace=True)"
   ]
  },
  {
   "cell_type": "code",
   "execution_count": 53,
   "id": "25fd6095",
   "metadata": {},
   "outputs": [],
   "source": [
    "resultado_final['Fechamento'] = resultado_final['Fechamento'].str.replace(',','.').astype(float)"
   ]
  },
  {
   "cell_type": "code",
   "execution_count": 54,
   "id": "c6d6dd01",
   "metadata": {},
   "outputs": [
    {
     "data": {
      "image/png": "[encoded data removed]",
      "text/plain": [
       "<Figure size 1296x576 with 1 Axes>"
      ]
     },
     "metadata": {},
     "output_type": "display_data"
    }
   ],
   "source": [
    "plt.figure(figsize=(18, 8),facecolor='white') \n",
    "  \n",
    "plt.plot(resultado_final, color = 'gold', linewidth = 5)\n",
    "\n",
    "\n",
    "plt.title('Quanto 1 Hryvinia Ucraniana compra 1 Dólar Americano ', loc='left', fontsize=25)\n",
    "\n",
    "for eixo in ['right', 'top', 'bottom', 'left']: \n",
    "    plt.gca().spines[eixo].set_visible(False) \n",
    "plt.show()"
   ]
  },
  {
   "cell_type": "markdown",
   "id": "cdb33735",
   "metadata": {},
   "source": [
    "Como feito com o rublo, igualmente a coluna \"Variação\", Calculada com base nos dados de um mês antes do começo da guerra, sendo dia 25 de janeiro de 2022, para poder ser plotado um gráfico comparando a variação dos dois."
   ]
  },
  {
   "cell_type": "code",
   "execution_count": 55,
   "id": "bb5c416f",
   "metadata": {},
   "outputs": [],
   "source": [
    "grynia_e_dolar['Fechamento'] = grynia_e_dolar['Fechamento'].str.replace(',','.').astype(float)"
   ]
  },
  {
   "cell_type": "code",
   "execution_count": 56,
   "id": "038fc5fa",
   "metadata": {},
   "outputs": [],
   "source": [
    "data_base = grynia_e_dolar['Fechamento'].loc[0]"
   ]
  },
  {
   "cell_type": "code",
   "execution_count": 57,
   "id": "aaf8f683",
   "metadata": {},
   "outputs": [],
   "source": [
    "grynia_e_dolar['Variacao %'] =  grynia_e_dolar['Fechamento']/data_base"
   ]
  },
  {
   "cell_type": "code",
   "execution_count": 58,
   "id": "aa10bc66",
   "metadata": {},
   "outputs": [],
   "source": [
    "grynia_rublo = grynia_e_dolar[['Data', 'Variacao %']]"
   ]
  },
  {
   "cell_type": "code",
   "execution_count": 59,
   "id": "a20bbd65",
   "metadata": {},
   "outputs": [],
   "source": [
    "grynia_2022= grynia_e_dolar.loc[(grynia_e_dolar['datetime'] >= datetime.date(2022, 1, 1))\n",
    "                     & (grynia_e_dolar['datetime'] < datetime.date(2022, 10, 10))]"
   ]
  },
  {
   "cell_type": "code",
   "execution_count": 61,
   "id": "20b96a63",
   "metadata": {},
   "outputs": [],
   "source": [
    "grynia_2022.reset_index(drop = True, inplace = True)"
   ]
  },
  {
   "cell_type": "code",
   "execution_count": 62,
   "id": "4bf84d65",
   "metadata": {
    "scrolled": true
   },
   "outputs": [],
   "source": [
    "inicio_date = datetime.date(2022, 1, 1)\n",
    "fim_date = datetime.date(2022, 10, 19)"
   ]
  },
  {
   "cell_type": "code",
   "execution_count": 63,
   "id": "91676675",
   "metadata": {},
   "outputs": [],
   "source": [
    "delta = relativedelta(months=1)\n",
    "datas = []"
   ]
  },
  {
   "cell_type": "code",
   "execution_count": 64,
   "id": "1872911e",
   "metadata": {},
   "outputs": [],
   "source": [
    "while (inicio_date <= fim_date):\n",
    "    datas.append(inicio_date)\n",
    "    inicio_date += delta"
   ]
  },
  {
   "cell_type": "code",
   "execution_count": 65,
   "id": "48fc33cb",
   "metadata": {},
   "outputs": [
    {
     "name": "stderr",
     "output_type": "stream",
     "text": [
      "C:\\ProgramData\\Anaconda3\\lib\\site-packages\\pandas\\core\\indexing.py:1720: SettingWithCopyWarning: \n",
      "A value is trying to be set on a copy of a slice from a DataFrame.\n",
      "Try using .loc[row_indexer,col_indexer] = value instead\n",
      "\n",
      "See the caveats in the documentation: https://pandas.pydata.org/pandas-docs/stable/user_guide/indexing.html#returning-a-view-versus-a-copy\n",
      "  self._setitem_single_column(loc, value, pi)\n"
     ]
    }
   ],
   "source": [
    "for registro in range(len(grynia_2022)):\n",
    "    grynia_2022.loc[registro, 'datetime'] = datas[registro]"
   ]
  },
  {
   "cell_type": "markdown",
   "id": "7f670bb5",
   "metadata": {},
   "source": [
    "Depois da data escolhida, os dados serão novamente convertidos para 'datetime' e irei plotar o gráfico da evolução do ano de 2022"
   ]
  },
  {
   "cell_type": "code",
   "execution_count": 66,
   "id": "6e251875",
   "metadata": {},
   "outputs": [],
   "source": [
    "variacao_hrynia = grynia_2022.set_index('datetime')"
   ]
  },
  {
   "cell_type": "code",
   "execution_count": 67,
   "id": "0ed2185f",
   "metadata": {},
   "outputs": [],
   "source": [
    "variacao_hrynia = grynia_2022.drop(columns=['Data'])"
   ]
  },
  {
   "cell_type": "code",
   "execution_count": 68,
   "id": "f35deba0",
   "metadata": {},
   "outputs": [],
   "source": [
    "variacao_hrynia.set_index('datetime', inplace=True)"
   ]
  },
  {
   "cell_type": "code",
   "execution_count": 69,
   "id": "81aca313",
   "metadata": {},
   "outputs": [],
   "source": [
    "variacao_hrynia = variacao_hrynia.drop(columns=['Fechamento'])"
   ]
  },
  {
   "cell_type": "code",
   "execution_count": 70,
   "id": "75c99eae",
   "metadata": {},
   "outputs": [
    {
     "data": {
      "image/png": "[encoded data removed]",
      "text/plain": [
       "<Figure size 1296x576 with 1 Axes>"
      ]
     },
     "metadata": {},
     "output_type": "display_data"
    }
   ],
   "source": [
    "plt.figure(figsize=(18, 8),facecolor='white') \n",
    "  \n",
    "plt.plot(variacao_hrynia, color = 'gold', linewidth = 5)\n",
    "\n",
    "plt.title('Quanto 1 Hryvinia Ucraniana compra 1 Dólar Americano ', loc='left', fontsize=25)\n",
    "plt.legend(['Hryvinia Ucraniana'])\n",
    "\n",
    "\n",
    "for eixo in ['right', 'top', 'bottom', 'left']: \n",
    "    plt.gca().spines[eixo].set_visible(False) \n",
    "plt.show()"
   ]
  },
  {
   "cell_type": "markdown",
   "id": "9b3b3801",
   "metadata": {},
   "source": [
    "Agora, irei dar 'merge'em nos dois dataframes filtrados para observar o comportamento dos dois países em 2022."
   ]
  },
  {
   "cell_type": "code",
   "execution_count": 71,
   "id": "3bbe9d5d",
   "metadata": {},
   "outputs": [],
   "source": [
    "comparacao_de_ambas= pd.merge(variacao_hrynia,variacao_rublo, on='datetime')"
   ]
  },
  {
   "cell_type": "code",
   "execution_count": 72,
   "id": "5f20a3e7",
   "metadata": {},
   "outputs": [
    {
     "data": {
      "text/html": [
       "<div>\n",
       "<style scoped>\n",
       "    .dataframe tbody tr th:only-of-type {\n",
       "        vertical-align: middle;\n",
       "    }\n",
       "\n",
       "    .dataframe tbody tr th {\n",
       "        vertical-align: top;\n",
       "    }\n",
       "\n",
       "    .dataframe thead th {\n",
       "        text-align: right;\n",
       "    }\n",
       "</style>\n",
       "<table border=\"1\" class=\"dataframe\">\n",
       "  <thead>\n",
       "    <tr style=\"text-align: right;\">\n",
       "      <th></th>\n",
       "      <th>Variacao %_x</th>\n",
       "      <th>Variacao %_y</th>\n",
       "    </tr>\n",
       "    <tr>\n",
       "      <th>datetime</th>\n",
       "      <th></th>\n",
       "      <th></th>\n",
       "    </tr>\n",
       "  </thead>\n",
       "  <tbody>\n",
       "    <tr>\n",
       "      <th>2022-01-01</th>\n",
       "      <td>1.753644</td>\n",
       "      <td>1.123670</td>\n",
       "    </tr>\n",
       "    <tr>\n",
       "      <th>2022-02-01</th>\n",
       "      <td>1.859817</td>\n",
       "      <td>1.373780</td>\n",
       "    </tr>\n",
       "    <tr>\n",
       "      <th>2022-03-01</th>\n",
       "      <td>1.825778</td>\n",
       "      <td>1.208198</td>\n",
       "    </tr>\n",
       "    <tr>\n",
       "      <th>2022-04-01</th>\n",
       "      <td>1.872196</td>\n",
       "      <td>1.030453</td>\n",
       "    </tr>\n",
       "    <tr>\n",
       "      <th>2022-05-01</th>\n",
       "      <td>1.828253</td>\n",
       "      <td>0.893079</td>\n",
       "    </tr>\n",
       "    <tr>\n",
       "      <th>2022-06-01</th>\n",
       "      <td>1.810305</td>\n",
       "      <td>0.747137</td>\n",
       "    </tr>\n",
       "    <tr>\n",
       "      <th>2022-07-01</th>\n",
       "      <td>2.264707</td>\n",
       "      <td>0.894821</td>\n",
       "    </tr>\n",
       "    <tr>\n",
       "      <th>2022-08-01</th>\n",
       "      <td>2.259013</td>\n",
       "      <td>0.874636</td>\n",
       "    </tr>\n",
       "    <tr>\n",
       "      <th>2022-09-01</th>\n",
       "      <td>2.285626</td>\n",
       "      <td>0.848788</td>\n",
       "    </tr>\n",
       "    <tr>\n",
       "      <th>2022-10-01</th>\n",
       "      <td>2.272443</td>\n",
       "      <td>0.890029</td>\n",
       "    </tr>\n",
       "  </tbody>\n",
       "</table>\n",
       "</div>"
      ],
      "text/plain": [
       "            Variacao %_x  Variacao %_y\n",
       "datetime                              \n",
       "2022-01-01      1.753644      1.123670\n",
       "2022-02-01      1.859817      1.373780\n",
       "2022-03-01      1.825778      1.208198\n",
       "2022-04-01      1.872196      1.030453\n",
       "2022-05-01      1.828253      0.893079\n",
       "2022-06-01      1.810305      0.747137\n",
       "2022-07-01      2.264707      0.894821\n",
       "2022-08-01      2.259013      0.874636\n",
       "2022-09-01      2.285626      0.848788\n",
       "2022-10-01      2.272443      0.890029"
      ]
     },
     "execution_count": 72,
     "metadata": {},
     "output_type": "execute_result"
    }
   ],
   "source": [
    "comparacao_de_ambas"
   ]
  },
  {
   "cell_type": "code",
   "execution_count": 74,
   "id": "a835f2ec",
   "metadata": {},
   "outputs": [
    {
     "data": {
      "image/png": "[encoded data removed]",
      "text/plain": [
       "<Figure size 1296x576 with 1 Axes>"
      ]
     },
     "metadata": {},
     "output_type": "display_data"
    }
   ],
   "source": [
    "plt.figure(figsize=(18, 8),facecolor='white')\n",
    "plt.plot(comparacao_de_ambas, linewidth = 5)\n",
    "plt.title('Variação Comparada Dos Câmbios', fontsize=23, loc='left')\n",
    "\n",
    "for ax in plt.gcf().axes:\n",
    "    ax.get_lines()[0].set_color('blue')\n",
    "    \n",
    "for ax in plt.gcf().axes:\n",
    "    ax.get_lines()[1].set_color('gold')\n",
    "    \n",
    "for eixo in ['right', 'top', 'bottom', 'left']: \n",
    "    plt.gca().spines[eixo].set_visible(False)\n",
    "plt.legend(['Rublo Russo', 'Hryvinia Ucraniana']);\n",
    "plt.show()"
   ]
  },
  {
   "cell_type": "markdown",
   "id": "a71629c1",
   "metadata": {},
   "source": [
    "\n",
    "<br>\n",
    "\n",
    "## <span style = \"font-family:Times New Roman\"> <font color = #045cbc> Processo Seletivo \n",
    "    \n",
    "<br>\n"
   ]
  },
  {
   "cell_type": "code",
   "execution_count": null,
   "id": "c24cebb6",
   "metadata": {},
   "outputs": [],
   "source": []
  },
  {
   "cell_type": "code",
   "execution_count": null,
   "id": "f698ba43",
   "metadata": {},
   "outputs": [],
   "source": []
  },
  {
   "cell_type": "code",
   "execution_count": null,
   "id": "5e6e5577",
   "metadata": {},
   "outputs": [],
   "source": []
  },
  {
   "cell_type": "code",
   "execution_count": null,
   "id": "dfccfd3c",
   "metadata": {},
   "outputs": [],
   "source": []
  },
  {
   "cell_type": "code",
   "execution_count": null,
   "id": "f130f576",
   "metadata": {},
   "outputs": [],
   "source": []
  },
  {
   "cell_type": "code",
   "execution_count": null,
   "id": "aedd7c6e",
   "metadata": {},
   "outputs": [],
   "source": []
  },
  {
   "cell_type": "markdown",
   "id": "eee96d57",
   "metadata": {},
   "source": [
    "\n",
    "<br>\n",
    "\n",
    "## <span style = \"font-family:Times New Roman\"> <font color = #045cbc> Referências \n",
    "    \n",
    "<br>\n",
    "    \n",
    "    "
   ]
  },
  {
   "cell_type": "code",
   "execution_count": null,
   "id": "fe51aa39",
   "metadata": {},
   "outputs": [],
   "source": []
  },
  {
   "cell_type": "markdown",
   "id": "bdfeaff4",
   "metadata": {},
   "source": [
    "\n",
    "<br>\n",
    "\n",
    "## <span style = \"font-family:Times New Roman\"> <font color = #045cbc> Desenvolvedores do Projeto \n",
    "    \n",
    "<br>"
   ]
  },
  {
   "cell_type": "code",
   "execution_count": null,
   "id": "2a8bbb50",
   "metadata": {},
   "outputs": [],
   "source": []
  }
 ],
 "metadata": {
  "celltoolbar": "Slideshow",
  "kernelspec": {
   "display_name": "Python 3 (ipykernel)",
   "language": "python",
   "name": "python3"
  },
  "language_info": {
   "codemirror_mode": {
    "name": "ipython",
    "version": 3
   },
   "file_extension": ".py",
   "mimetype": "text/x-python",
   "name": "python",
   "nbconvert_exporter": "python",
   "pygments_lexer": "ipython3",
   "version": "3.9.12"
  }
 },
 "nbformat": 4,
 "nbformat_minor": 5
}
