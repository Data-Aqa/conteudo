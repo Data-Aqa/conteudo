{
 "cells": [
  {
   "cell_type": "markdown",
   "id": "9e2ff8dc",
   "metadata": {},
   "source": [
    "\n",
    "<br>\n",
    "\n",
    "## <span style = \"font-family:Times New Roman\"> <font color = #045cbc> Análise Câmbio Grynia \n",
    "    \n",
    "<br>"
   ]
  },
  {
   "cell_type": "code",
   "execution_count": null,
   "id": "ea773611",
   "metadata": {},
   "outputs": [],
   "source": [
    "#Importando as bibliotecas necessárias para a visualização# \n",
    "import pandas as pd\n",
    "import seaborn as sb\n",
    "import matplotlib.pyplot as plt\n",
    "from dateutil.relativedelta import relativedelta\n",
    "import datetime"
   ]
  },
  {
   "cell_type": "code",
<<<<<<< HEAD
   "execution_count": 2,
=======
   "execution_count": null,
>>>>>>> a52b341fdc8322bc63b727af7c7486699e511d39
   "id": "bfc5ab32",
   "metadata": {},
   "outputs": [],
   "source": [
    "# lendo os dados##\n",
    "gryniaxdolar = pd.read_csv(r'C:\\Users\\ahcar\\Downloads\\ukr.csv')\n",
    "gryniaxdolar.rename(columns={'Último': 'Price', 'Data': 'Date','Máxima': 'High','Mínima': 'Low', 'Var%': 'Change%', 'Abertura': 'Open',}, inplace=True)"
   ]
  },
  {
   "cell_type": "code",
<<<<<<< HEAD
   "execution_count": 3,
   "id": "7b98a436",
   "metadata": {},
   "outputs": [
    {
     "data": {
      "text/html": [
       "<div>\n",
       "<style scoped>\n",
       "    .dataframe tbody tr th:only-of-type {\n",
       "        vertical-align: middle;\n",
       "    }\n",
       "\n",
       "    .dataframe tbody tr th {\n",
       "        vertical-align: top;\n",
       "    }\n",
       "\n",
       "    .dataframe thead th {\n",
       "        text-align: right;\n",
       "    }\n",
       "</style>\n",
       "<table border=\"1\" class=\"dataframe\">\n",
       "  <thead>\n",
       "    <tr style=\"text-align: right;\">\n",
       "      <th></th>\n",
       "      <th>Date</th>\n",
       "      <th>Price</th>\n",
       "      <th>Open</th>\n",
       "      <th>High</th>\n",
       "      <th>Low</th>\n",
       "      <th>Change%</th>\n",
       "    </tr>\n",
       "  </thead>\n",
       "  <tbody>\n",
       "    <tr>\n",
       "      <th>0</th>\n",
       "      <td>7.2022</td>\n",
       "      <td>29,4025</td>\n",
       "      <td>29,5437</td>\n",
       "      <td>29,5485</td>\n",
       "      <td>29,4000</td>\n",
       "      <td>0,52</td>\n",
       "    </tr>\n",
       "    <tr>\n",
       "      <th>1</th>\n",
       "      <td>6.2022</td>\n",
       "      <td>29,2500</td>\n",
       "      <td>29,4000</td>\n",
       "      <td>29,5500</td>\n",
       "      <td>29,3987</td>\n",
       "      <td>-0,98</td>\n",
       "    </tr>\n",
       "    <tr>\n",
       "      <th>2</th>\n",
       "      <td>5.2022</td>\n",
       "      <td>29,5400</td>\n",
       "      <td>29,4000</td>\n",
       "      <td>30,2710</td>\n",
       "      <td>29,3987</td>\n",
       "      <td>-2,35</td>\n",
       "    </tr>\n",
       "    <tr>\n",
       "      <th>3</th>\n",
       "      <td>4.2022</td>\n",
       "      <td>30,2500</td>\n",
       "      <td>29,4000</td>\n",
       "      <td>30,3995</td>\n",
       "      <td>29,4000</td>\n",
       "      <td>2,54</td>\n",
       "    </tr>\n",
       "    <tr>\n",
       "      <th>4</th>\n",
       "      <td>3.2022</td>\n",
       "      <td>29,5000</td>\n",
       "      <td>29,4000</td>\n",
       "      <td>30,0500</td>\n",
       "      <td>29,3900</td>\n",
       "      <td>-1,83</td>\n",
       "    </tr>\n",
       "    <tr>\n",
       "      <th>...</th>\n",
       "      <td>...</td>\n",
       "      <td>...</td>\n",
       "      <td>...</td>\n",
       "      <td>...</td>\n",
       "      <td>...</td>\n",
       "      <td>...</td>\n",
       "    </tr>\n",
       "    <tr>\n",
       "      <th>88</th>\n",
       "      <td>3.2015</td>\n",
       "      <td>23,4429</td>\n",
       "      <td>26,7500</td>\n",
       "      <td>26,7500</td>\n",
       "      <td>21,3272</td>\n",
       "      <td>-13,97</td>\n",
       "    </tr>\n",
       "    <tr>\n",
       "      <th>89</th>\n",
       "      <td>2.2015</td>\n",
       "      <td>27,2500</td>\n",
       "      <td>16,2075</td>\n",
       "      <td>33,7500</td>\n",
       "      <td>16,0690</td>\n",
       "      <td>68,65</td>\n",
       "    </tr>\n",
       "    <tr>\n",
       "      <th>90</th>\n",
       "      <td>1.2015</td>\n",
       "      <td>16,1575</td>\n",
       "      <td>15,8185</td>\n",
       "      <td>16,6700</td>\n",
       "      <td>15,6215</td>\n",
       "      <td>2,47</td>\n",
       "    </tr>\n",
       "    <tr>\n",
       "      <th>91</th>\n",
       "      <td>NaN</td>\n",
       "      <td>NaN</td>\n",
       "      <td>NaN</td>\n",
       "      <td>NaN</td>\n",
       "      <td>NaN</td>\n",
       "      <td>NaN</td>\n",
       "    </tr>\n",
       "    <tr>\n",
       "      <th>92</th>\n",
       "      <td>NaN</td>\n",
       "      <td>Alta:33,7500</td>\n",
       "      <td>Baixa:15,6215</td>\n",
       "      <td>Diferença:18,1285</td>\n",
       "      <td>Média:26,2584</td>\n",
       "      <td>Var%:86,4635</td>\n",
       "    </tr>\n",
       "  </tbody>\n",
       "</table>\n",
       "<p>93 rows × 6 columns</p>\n",
       "</div>"
      ],
      "text/plain": [
       "      Date         Price           Open               High            Low  \\\n",
       "0   7.2022       29,4025        29,5437            29,5485        29,4000   \n",
       "1   6.2022       29,2500        29,4000            29,5500        29,3987   \n",
       "2   5.2022       29,5400        29,4000            30,2710        29,3987   \n",
       "3   4.2022       30,2500        29,4000            30,3995        29,4000   \n",
       "4   3.2022       29,5000        29,4000            30,0500        29,3900   \n",
       "..     ...           ...            ...                ...            ...   \n",
       "88  3.2015       23,4429        26,7500            26,7500        21,3272   \n",
       "89  2.2015       27,2500        16,2075            33,7500        16,0690   \n",
       "90  1.2015       16,1575        15,8185            16,6700        15,6215   \n",
       "91     NaN           NaN            NaN                NaN            NaN   \n",
       "92     NaN  Alta:33,7500  Baixa:15,6215  Diferença:18,1285  Média:26,2584   \n",
       "\n",
       "         Change%  \n",
       "0           0,52  \n",
       "1          -0,98  \n",
       "2          -2,35  \n",
       "3           2,54  \n",
       "4          -1,83  \n",
       "..           ...  \n",
       "88        -13,97  \n",
       "89         68,65  \n",
       "90          2,47  \n",
       "91           NaN  \n",
       "92  Var%:86,4635  \n",
       "\n",
       "[93 rows x 6 columns]"
      ]
     },
     "execution_count": 3,
     "metadata": {},
     "output_type": "execute_result"
    }
   ],
=======
   "execution_count": null,
   "id": "7b98a436",
   "metadata": {},
   "outputs": [],
>>>>>>> a52b341fdc8322bc63b727af7c7486699e511d39
   "source": [
    "gryniaxdolar"
   ]
  },
  {
   "cell_type": "code",
<<<<<<< HEAD
   "execution_count": 4,
=======
   "execution_count": null,
>>>>>>> a52b341fdc8322bc63b727af7c7486699e511d39
   "id": "8cdce880",
   "metadata": {},
   "outputs": [],
   "source": [
    "gryniaxdolar = gryniaxdolar[['Date', 'Price']]"
   ]
  },
  {
   "cell_type": "code",
<<<<<<< HEAD
   "execution_count": 5,
=======
   "execution_count": null,
>>>>>>> a52b341fdc8322bc63b727af7c7486699e511d39
   "id": "0ad2f633",
   "metadata": {},
   "outputs": [],
   "source": [
    "gryniaxdolar = gryniaxdolar.dropna()"
   ]
  },
  {
   "cell_type": "code",
<<<<<<< HEAD
   "execution_count": 6,
=======
   "execution_count": null,
>>>>>>> a52b341fdc8322bc63b727af7c7486699e511d39
   "id": "ee0de259",
   "metadata": {
    "scrolled": false
   },
   "outputs": [],
   "source": [
    "gryniaxdolar.info()"
   ]
  },
  {
   "cell_type": "code",
<<<<<<< HEAD
   "execution_count": 7,
=======
   "execution_count": null,
>>>>>>> a52b341fdc8322bc63b727af7c7486699e511d39
   "id": "71159452",
   "metadata": {},
   "outputs": [],
   "source": [
    "reversed_df = gryniaxdolar.iloc[::-1]"
   ]
  },
  {
   "cell_type": "code",
<<<<<<< HEAD
   "execution_count": 8,
   "id": "359dbf82",
   "metadata": {},
   "outputs": [
    {
     "data": {
      "text/html": [
       "<div>\n",
       "<style scoped>\n",
       "    .dataframe tbody tr th:only-of-type {\n",
       "        vertical-align: middle;\n",
       "    }\n",
       "\n",
       "    .dataframe tbody tr th {\n",
       "        vertical-align: top;\n",
       "    }\n",
       "\n",
       "    .dataframe thead th {\n",
       "        text-align: right;\n",
       "    }\n",
       "</style>\n",
       "<table border=\"1\" class=\"dataframe\">\n",
       "  <thead>\n",
       "    <tr style=\"text-align: right;\">\n",
       "      <th></th>\n",
       "      <th>Date</th>\n",
       "      <th>Price</th>\n",
       "    </tr>\n",
       "  </thead>\n",
       "  <tbody>\n",
       "    <tr>\n",
       "      <th>90</th>\n",
       "      <td>1.2015</td>\n",
       "      <td>16,1575</td>\n",
       "    </tr>\n",
       "    <tr>\n",
       "      <th>89</th>\n",
       "      <td>2.2015</td>\n",
       "      <td>27,2500</td>\n",
       "    </tr>\n",
       "    <tr>\n",
       "      <th>88</th>\n",
       "      <td>3.2015</td>\n",
       "      <td>23,4429</td>\n",
       "    </tr>\n",
       "    <tr>\n",
       "      <th>87</th>\n",
       "      <td>4.2015</td>\n",
       "      <td>21,2500</td>\n",
       "    </tr>\n",
       "    <tr>\n",
       "      <th>86</th>\n",
       "      <td>5.2015</td>\n",
       "      <td>20,9500</td>\n",
       "    </tr>\n",
       "    <tr>\n",
       "      <th>...</th>\n",
       "      <td>...</td>\n",
       "      <td>...</td>\n",
       "    </tr>\n",
       "    <tr>\n",
       "      <th>4</th>\n",
       "      <td>3.2022</td>\n",
       "      <td>29,5000</td>\n",
       "    </tr>\n",
       "    <tr>\n",
       "      <th>3</th>\n",
       "      <td>4.2022</td>\n",
       "      <td>30,2500</td>\n",
       "    </tr>\n",
       "    <tr>\n",
       "      <th>2</th>\n",
       "      <td>5.2022</td>\n",
       "      <td>29,5400</td>\n",
       "    </tr>\n",
       "    <tr>\n",
       "      <th>1</th>\n",
       "      <td>6.2022</td>\n",
       "      <td>29,2500</td>\n",
       "    </tr>\n",
       "    <tr>\n",
       "      <th>0</th>\n",
       "      <td>7.2022</td>\n",
       "      <td>29,4025</td>\n",
       "    </tr>\n",
       "  </tbody>\n",
       "</table>\n",
       "<p>91 rows × 2 columns</p>\n",
       "</div>"
      ],
      "text/plain": [
       "      Date    Price\n",
       "90  1.2015  16,1575\n",
       "89  2.2015  27,2500\n",
       "88  3.2015  23,4429\n",
       "87  4.2015  21,2500\n",
       "86  5.2015  20,9500\n",
       "..     ...      ...\n",
       "4   3.2022  29,5000\n",
       "3   4.2022  30,2500\n",
       "2   5.2022  29,5400\n",
       "1   6.2022  29,2500\n",
       "0   7.2022  29,4025\n",
       "\n",
       "[91 rows x 2 columns]"
      ]
     },
     "execution_count": 8,
     "metadata": {},
     "output_type": "execute_result"
    }
   ],
=======
   "execution_count": null,
   "id": "359dbf82",
   "metadata": {},
   "outputs": [],
>>>>>>> a52b341fdc8322bc63b727af7c7486699e511d39
   "source": [
    "reversed_df"
   ]
  },
  {
   "cell_type": "code",
<<<<<<< HEAD
   "execution_count": 9,
=======
   "execution_count": null,
>>>>>>> a52b341fdc8322bc63b727af7c7486699e511d39
   "id": "6f1ac1fd",
   "metadata": {},
   "outputs": [],
   "source": [
    "## transformando a variavel ''Date'' em datetime (explicar o que é datetime) #\n",
    "inicio_date = datetime.date(2015, 1, 1)\n",
    "fim_date = datetime.date(2022, 7, 1)\n",
    "delta = relativedelta(months=1)\n",
    "datas = []\n",
    "while (inicio_date <= fim_date):\n",
    "    datas.append(inicio_date)\n",
    "    inicio_date += delta\n",
    "for registro in range(len(reversed_df)):\n",
    "    reversed_df.loc[registro, 'datetime'] = datas[registro]\n",
    "\n"
   ]
  },
  {
   "cell_type": "code",
<<<<<<< HEAD
   "execution_count": 10,
=======
   "execution_count": null,
>>>>>>> a52b341fdc8322bc63b727af7c7486699e511d39
   "id": "0ef0de46",
   "metadata": {},
   "outputs": [],
   "source": [
    "# colocando a Data como índice\n",
    "grynia3 = reversed_df.set_index('datetime')\n"
   ]
  },
  {
   "cell_type": "code",
<<<<<<< HEAD
   "execution_count": 11,
=======
   "execution_count": null,
>>>>>>> a52b341fdc8322bc63b727af7c7486699e511d39
   "id": "f27cf9e2",
   "metadata": {},
   "outputs": [],
   "source": [
    "grynia3 = reversed_df.drop(columns=['Date'])"
   ]
  },
  {
   "cell_type": "code",
<<<<<<< HEAD
   "execution_count": 12,
   "id": "073bc2cc",
   "metadata": {},
   "outputs": [
    {
     "data": {
      "text/html": [
       "<div>\n",
       "<style scoped>\n",
       "    .dataframe tbody tr th:only-of-type {\n",
       "        vertical-align: middle;\n",
       "    }\n",
       "\n",
       "    .dataframe tbody tr th {\n",
       "        vertical-align: top;\n",
       "    }\n",
       "\n",
       "    .dataframe thead th {\n",
       "        text-align: right;\n",
       "    }\n",
       "</style>\n",
       "<table border=\"1\" class=\"dataframe\">\n",
       "  <thead>\n",
       "    <tr style=\"text-align: right;\">\n",
       "      <th></th>\n",
       "      <th>Date</th>\n",
       "      <th>Price</th>\n",
       "      <th>datetime</th>\n",
       "    </tr>\n",
       "  </thead>\n",
       "  <tbody>\n",
       "    <tr>\n",
       "      <th>90</th>\n",
       "      <td>1.2015</td>\n",
       "      <td>16,1575</td>\n",
       "      <td>2022-07-01</td>\n",
       "    </tr>\n",
       "    <tr>\n",
       "      <th>89</th>\n",
       "      <td>2.2015</td>\n",
       "      <td>27,2500</td>\n",
       "      <td>2022-06-01</td>\n",
       "    </tr>\n",
       "    <tr>\n",
       "      <th>88</th>\n",
       "      <td>3.2015</td>\n",
       "      <td>23,4429</td>\n",
       "      <td>2022-05-01</td>\n",
       "    </tr>\n",
       "    <tr>\n",
       "      <th>87</th>\n",
       "      <td>4.2015</td>\n",
       "      <td>21,2500</td>\n",
       "      <td>2022-04-01</td>\n",
       "    </tr>\n",
       "    <tr>\n",
       "      <th>86</th>\n",
       "      <td>5.2015</td>\n",
       "      <td>20,9500</td>\n",
       "      <td>2022-03-01</td>\n",
       "    </tr>\n",
       "    <tr>\n",
       "      <th>...</th>\n",
       "      <td>...</td>\n",
       "      <td>...</td>\n",
       "      <td>...</td>\n",
       "    </tr>\n",
       "    <tr>\n",
       "      <th>4</th>\n",
       "      <td>3.2022</td>\n",
       "      <td>29,5000</td>\n",
       "      <td>2015-05-01</td>\n",
       "    </tr>\n",
       "    <tr>\n",
       "      <th>3</th>\n",
       "      <td>4.2022</td>\n",
       "      <td>30,2500</td>\n",
       "      <td>2015-04-01</td>\n",
       "    </tr>\n",
       "    <tr>\n",
       "      <th>2</th>\n",
       "      <td>5.2022</td>\n",
       "      <td>29,5400</td>\n",
       "      <td>2015-03-01</td>\n",
       "    </tr>\n",
       "    <tr>\n",
       "      <th>1</th>\n",
       "      <td>6.2022</td>\n",
       "      <td>29,2500</td>\n",
       "      <td>2015-02-01</td>\n",
       "    </tr>\n",
       "    <tr>\n",
       "      <th>0</th>\n",
       "      <td>7.2022</td>\n",
       "      <td>29,4025</td>\n",
       "      <td>2015-01-01</td>\n",
       "    </tr>\n",
       "  </tbody>\n",
       "</table>\n",
       "<p>91 rows × 3 columns</p>\n",
       "</div>"
      ],
      "text/plain": [
       "      Date    Price    datetime\n",
       "90  1.2015  16,1575  2022-07-01\n",
       "89  2.2015  27,2500  2022-06-01\n",
       "88  3.2015  23,4429  2022-05-01\n",
       "87  4.2015  21,2500  2022-04-01\n",
       "86  5.2015  20,9500  2022-03-01\n",
       "..     ...      ...         ...\n",
       "4   3.2022  29,5000  2015-05-01\n",
       "3   4.2022  30,2500  2015-04-01\n",
       "2   5.2022  29,5400  2015-03-01\n",
       "1   6.2022  29,2500  2015-02-01\n",
       "0   7.2022  29,4025  2015-01-01\n",
       "\n",
       "[91 rows x 3 columns]"
      ]
     },
     "execution_count": 12,
     "metadata": {},
     "output_type": "execute_result"
    }
   ],
=======
   "execution_count": null,
   "id": "073bc2cc",
   "metadata": {},
   "outputs": [],
>>>>>>> a52b341fdc8322bc63b727af7c7486699e511d39
   "source": [
    "reversed_df"
   ]
  },
  {
   "cell_type": "code",
<<<<<<< HEAD
   "execution_count": 13,
=======
   "execution_count": null,
>>>>>>> a52b341fdc8322bc63b727af7c7486699e511d39
   "id": "a0013599",
   "metadata": {
    "scrolled": true
   },
   "outputs": [],
   "source": [
    "grynia3.set_index('datetime', inplace=True)"
   ]
  },
  {
   "cell_type": "code",
<<<<<<< HEAD
   "execution_count": 14,
=======
   "execution_count": null,
>>>>>>> a52b341fdc8322bc63b727af7c7486699e511d39
   "id": "25fd6095",
   "metadata": {},
   "outputs": [],
   "source": [
    "grynia3['Price'] = grynia3['Price'].str.replace(',','.').astype(float)"
   ]
  },
  {
   "cell_type": "code",
<<<<<<< HEAD
   "execution_count": 36,
   "id": "c6d6dd01",
   "metadata": {},
   "outputs": [
    {
     "data": {
      "image/png": "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\n",
      "text/plain": [
       "<Figure size 1296x576 with 1 Axes>"
      ]
     },
     "metadata": {
      "needs_background": "light"
     },
     "output_type": "display_data"
    }
   ],
=======
   "execution_count": null,
   "id": "c6d6dd01",
   "metadata": {},
   "outputs": [],
>>>>>>> a52b341fdc8322bc63b727af7c7486699e511d39
   "source": [
    "plt.figure(figsize=(18, 8)) \n",
    "  \n",
    "plt.plot(grynia3) \n",
    "\n",
<<<<<<< HEAD
    "\n",
    "plt.title('Grynia Ukraniana Em Relação ao Dólar', fontsize=25)\n",
    "plt.ylabel('Preço de fechamento do UAH em USD', fontsize=18)\n",
    "\n",
    "\n",
=======
    "plt.tick_params(axis='y', which='both', right=False, \n",
    "                left=False, labelleft=False) \n",
    "plt.title('Grynia Ukraniana Em Relação ao Dólar', fontsize=25)\n",
>>>>>>> a52b341fdc8322bc63b727af7c7486699e511d39
    "\n",
    "for pos in ['right', 'top', 'bottom', 'left']: \n",
    "    plt.gca().spines[pos].set_visible(False) \n",
    "plt.show()"
   ]
  },
  {
   "cell_type": "code",
   "execution_count": null,
   "id": "76fab001",
   "metadata": {},
   "outputs": [],
   "source": []
  },
  {
   "cell_type": "code",
   "execution_count": null,
   "id": "95857dfe",
   "metadata": {},
   "outputs": [],
   "source": []
  }
 ],
 "metadata": {
  "kernelspec": {
   "display_name": "Python 3 (ipykernel)",
   "language": "python",
   "name": "python3"
  },
  "language_info": {
   "codemirror_mode": {
    "name": "ipython",
    "version": 3
   },
   "file_extension": ".py",
   "mimetype": "text/x-python",
   "name": "python",
   "nbconvert_exporter": "python",
   "pygments_lexer": "ipython3",
   "version": "3.9.5"
  }
 },
 "nbformat": 4,
 "nbformat_minor": 5
}
