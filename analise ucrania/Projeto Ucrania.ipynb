{
 "cells": [
  {
   "cell_type": "markdown",
   "id": "950f9c56",
   "metadata": {
    "slideshow": {
     "slide_type": "slide"
    }
   },
   "source": [
    "<img src = 'imagens/Logo do Projeto 3 .png' >"
   ]
  },
  {
   "cell_type": "markdown",
   "id": "0c864d9b",
   "metadata": {
    "slideshow": {
     "slide_type": "slide"
    }
   },
   "source": [
    "#  <span style = \"font-family:Times New Roman\"> <font color = #045cbc> Objetivo \n",
    "    \n",
    "<br>\n",
    "    \n",
    "- Apresentar algumas informações referentes à Data Science e Análise de Dados\n",
    "<br>\n",
    "    \n",
    "- Comentários algumas ferramentas como Excel, R, Power BI     \n",
    "<br>\n",
    "    \n",
    "- Quais são as possibilidades da ferramenta \n",
    "   <br>\n",
    "    \n",
    "- Fazer uma análise do câmbio do Rublo e Grívnia e da pauta de exportações da Ucrânia\n",
    "   <br>\n",
    "- Fazer Processo Seletivo     "
   ]
  },
  {
   "cell_type": "markdown",
   "id": "e815a05b",
   "metadata": {
    "slideshow": {
     "slide_type": "slide"
    }
   },
   "source": [
    "## <span style = \"font-family:Times New Roman\"> <font color = #045cbc> Análise de Dados "
   ]
  },
  {
   "cell_type": "markdown",
   "id": "4f2c9e5e",
   "metadata": {
    "slideshow": {
     "slide_type": "fragment"
    }
   },
   "source": [
    "De acordo com o [**Wikipedia**](https://pt.wikipedia.org/wiki/An%C3%A1lise_de_dados) a análise de dados \"é um processo de inspeção, limpeza, transformação e modelagem de dados **com o objetivo de descobrir informações úteis**, informar conclusões e apoiar a tomada de decisões\".\n",
    "\n",
    "Este processo de analise de dados é bastante comum em diversas áreas dentre elas temos a área da saúde, mercado financeiro, empresas de consultoria, a própria academia  entre várias outras.\n",
    "\n",
    "Mas o que é um <font color = #045cbc>**\"dado\"** <font color = black>?\n",
    "    \n",
    "De acordo com [Valdemar Setzer](https://www.ime.usp.br/~vwsetzer/datagrama.html#Autor), professor do departamento de ciência da computação da USP, dado é <i>**\"uma seqüência de símbolos quantificados ou quantificáveis\"**</i>. Isso pode incluir uma vasta gama de conteúdos, que podem ser de ordem geográfica, temporal, sonora, tabular, textual, visual etc. "
   ]
  },
  {
   "cell_type": "markdown",
   "id": "fbdf51ec",
   "metadata": {
    "slideshow": {
     "slide_type": "subslide"
    }
   },
   "source": [
    "<img src = 'imagens/tipos de dados/geograficos.png' > <br> Fonte : [**Geopandas**](https://geopandas.org/en/stable/docs/user_guide/data_structures.html)"
   ]
  },
  {
   "cell_type": "markdown",
   "id": "d8a20f3a",
   "metadata": {
    "slideshow": {
     "slide_type": "subslide"
    }
   },
   "source": [
    "<img src = 'imagens/tipos de dados/série de tempo.png' >"
   ]
  },
  {
   "cell_type": "markdown",
   "id": "3f27c2fe",
   "metadata": {
    "slideshow": {
     "slide_type": "slide"
    }
   },
   "source": [
    "### <span style = \"font-family:Times New Roman\"> <font color = #045cbc> Algumas Ferramentas Disponíveis "
   ]
  },
  {
   "cell_type": "markdown",
   "id": "bac9fd9b",
   "metadata": {
    "slideshow": {
     "slide_type": "fragment"
    }
   },
   "source": [
    "<img src = 'imagens/Algumas Ferramentas para Análise.png' width = 720 >"
   ]
  },
  {
   "cell_type": "markdown",
   "id": "a2ca9287",
   "metadata": {
    "slideshow": {
     "slide_type": "fragment"
    }
   },
   "source": [
    "Existem uma série de ferramentas disponíveis para análise de dados. Nesta apresentação vamos comentar algumas famosas. "
   ]
  },
  {
   "cell_type": "markdown",
   "id": "6f504e8f",
   "metadata": {
    "slideshow": {
     "slide_type": "subslide"
    }
   },
   "source": [
    "<img src = 'imagens/ferramentas/2.png' >"
   ]
  },
  {
   "cell_type": "markdown",
   "id": "a36bdadc",
   "metadata": {
    "slideshow": {
     "slide_type": "subslide"
    }
   },
   "source": [
    "<img src = 'imagens/ferramentas/3.png' >\n",
    "\n",
    "Fonte: [**Microsoft**](https://docs.microsoft.com/pt-br/power-bi/admin/service-admin-manage-your-data-storage-in-power-bi)"
   ]
  },
  {
   "cell_type": "markdown",
   "id": "229135fc",
   "metadata": {
    "slideshow": {
     "slide_type": "subslide"
    }
   },
   "source": [
    "<img src = 'imagens/ferramentas/4.png' >"
   ]
  },
  {
   "cell_type": "markdown",
   "id": "54c02610",
   "metadata": {
    "slideshow": {
     "slide_type": "subslide"
    }
   },
   "source": [
    "<img src = 'imagens/ferramentas/5.png' >"
   ]
  },
  {
   "cell_type": "markdown",
   "id": "053d7208",
   "metadata": {},
   "source": [
    "<br>\n",
    "\n",
    "# <span style = \"font-family:Times New Roman\"> <font color = #045cbc> Guerra da Ucrânia \n",
    "    \n",
    "<br>"
   ]
  },
  {
   "cell_type": "markdown",
   "id": "dbcbee67",
   "metadata": {},
   "source": [
    "- Contextualizar o que é, como começou, impactos sociais e econômicos "
   ]
  },
  {
   "cell_type": "markdown",
   "id": "1da260d3",
   "metadata": {},
   "source": [
    "<br>\n",
    "\n",
    "# <span style = \"font-family:Times New Roman\"> <font color = #045cbc> Análise Cambial\n",
    "    \n",
    "<br>"
   ]
  },
  {
   "cell_type": "markdown",
   "id": "55f3caa4",
   "metadata": {},
   "source": [
    "\n",
    "\n",
    "<br>\n",
    "\n",
    "- Buscar referências de autores/artigos que escreveram sobre este tema ; \n",
    "- Tratar uma análise breve do câmbio \n"
   ]
  },
  {
   "cell_type": "markdown",
   "id": "05227f71",
   "metadata": {},
   "source": [
    "\n",
    "<br>\n",
    "\n",
    "## <span style = \"font-family:Times New Roman\"> <font color = #045cbc>Rublo Russo \n",
    "    \n",
    "<br>\n"
   ]
  },
  {
   "cell_type": "markdown",
   "id": "04745ae0",
   "metadata": {},
   "source": [
    "Para começarmos, irei importar as bibliotecas necessárias para a analise lê-las"
   ]
  },
  {
   "cell_type": "code",
   "execution_count": 1,
   "id": "3ab6539e",
   "metadata": {},
   "outputs": [],
   "source": [
    "import pandas as pd\n",
    "import seaborn as sb\n",
    "import matplotlib.pyplot as plt\n",
    "from dateutil.relativedelta import relativedelta\n",
    "import datetime\n",
    "import plotly.express as px"
   ]
  },
  {
   "cell_type": "code",
   "execution_count": 2,
   "id": "5678538f",
   "metadata": {},
   "outputs": [],
   "source": [
    "rublo_e_dolar = pd.read_csv('./dados/USD_RUB.csv') "
   ]
  },
  {
   "cell_type": "markdown",
   "id": "6046d34a",
   "metadata": {},
   "source": [
    "Agora, para mais fácil entendimento alterei os nomes das variáveis para que o código rode, e verificar se estão corretos\n",
    "e traduzir as variáveis para português."
   ]
  },
  {
   "cell_type": "code",
   "execution_count": 3,
   "id": "503ec4a9",
   "metadata": {},
   "outputs": [],
   "source": [
    "rublo_e_dolar.rename(columns={'Price': 'Último', 'Date': 'Data','High': 'Máxima',\n",
    "                            'Low': 'Miníma', 'Change%': 'Var%', 'Open': 'Abertura',}, inplace=True)"
   ]
  },
  {
   "cell_type": "code",
   "execution_count": 4,
   "id": "56d7c30d",
   "metadata": {},
   "outputs": [
    {
     "data": {
      "text/html": [
       "<div>\n",
       "<style scoped>\n",
       "    .dataframe tbody tr th:only-of-type {\n",
       "        vertical-align: middle;\n",
       "    }\n",
       "\n",
       "    .dataframe tbody tr th {\n",
       "        vertical-align: top;\n",
       "    }\n",
       "\n",
       "    .dataframe thead th {\n",
       "        text-align: right;\n",
       "    }\n",
       "</style>\n",
       "<table border=\"1\" class=\"dataframe\">\n",
       "  <thead>\n",
       "    <tr style=\"text-align: right;\">\n",
       "      <th></th>\n",
       "      <th>Data</th>\n",
       "      <th>Último</th>\n",
       "      <th>Abertura</th>\n",
       "      <th>Máxima</th>\n",
       "      <th>Mínima</th>\n",
       "      <th>Var%</th>\n",
       "    </tr>\n",
       "  </thead>\n",
       "  <tbody>\n",
       "    <tr>\n",
       "      <th>0</th>\n",
       "      <td>Jul 22</td>\n",
       "      <td>55,0200</td>\n",
       "      <td>51,4500</td>\n",
       "      <td>64,5988</td>\n",
       "      <td>51,3998</td>\n",
       "      <td>6,94%</td>\n",
       "    </tr>\n",
       "    <tr>\n",
       "      <th>1</th>\n",
       "      <td>Jun 22</td>\n",
       "      <td>51,4500</td>\n",
       "      <td>61,5000</td>\n",
       "      <td>62,4923</td>\n",
       "      <td>50,1006</td>\n",
       "      <td>-16,34%</td>\n",
       "    </tr>\n",
       "    <tr>\n",
       "      <th>2</th>\n",
       "      <td>Mai 22</td>\n",
       "      <td>61,5000</td>\n",
       "      <td>70,9600</td>\n",
       "      <td>70,9600</td>\n",
       "      <td>55,8383</td>\n",
       "      <td>-13,33%</td>\n",
       "    </tr>\n",
       "    <tr>\n",
       "      <th>3</th>\n",
       "      <td>Abr 22</td>\n",
       "      <td>70,9600</td>\n",
       "      <td>83,2000</td>\n",
       "      <td>84,9917</td>\n",
       "      <td>70,3221</td>\n",
       "      <td>-14,71%</td>\n",
       "    </tr>\n",
       "    <tr>\n",
       "      <th>4</th>\n",
       "      <td>Mar 22</td>\n",
       "      <td>83,2000</td>\n",
       "      <td>94,6025</td>\n",
       "      <td>121,2100</td>\n",
       "      <td>82,9525</td>\n",
       "      <td>-12,05%</td>\n",
       "    </tr>\n",
       "    <tr>\n",
       "      <th>...</th>\n",
       "      <td>...</td>\n",
       "      <td>...</td>\n",
       "      <td>...</td>\n",
       "      <td>...</td>\n",
       "      <td>...</td>\n",
       "      <td>...</td>\n",
       "    </tr>\n",
       "    <tr>\n",
       "      <th>86</th>\n",
       "      <td>Mai 15</td>\n",
       "      <td>52,3212</td>\n",
       "      <td>51,6513</td>\n",
       "      <td>52,1965</td>\n",
       "      <td>50,3630</td>\n",
       "      <td>1,30%</td>\n",
       "    </tr>\n",
       "    <tr>\n",
       "      <th>87</th>\n",
       "      <td>Abr 15</td>\n",
       "      <td>51,6513</td>\n",
       "      <td>58,1993</td>\n",
       "      <td>58,4863</td>\n",
       "      <td>49,4550</td>\n",
       "      <td>-11,25%</td>\n",
       "    </tr>\n",
       "    <tr>\n",
       "      <th>88</th>\n",
       "      <td>Mar 15</td>\n",
       "      <td>58,1993</td>\n",
       "      <td>61,6207</td>\n",
       "      <td>63,0344</td>\n",
       "      <td>56,2019</td>\n",
       "      <td>-5,55%</td>\n",
       "    </tr>\n",
       "    <tr>\n",
       "      <th>89</th>\n",
       "      <td>Fev 15</td>\n",
       "      <td>61,6207</td>\n",
       "      <td>68,8629</td>\n",
       "      <td>70,4525</td>\n",
       "      <td>59,8819</td>\n",
       "      <td>-10,52%</td>\n",
       "    </tr>\n",
       "    <tr>\n",
       "      <th>90</th>\n",
       "      <td>Jan 15</td>\n",
       "      <td>68,8629</td>\n",
       "      <td>55,9077</td>\n",
       "      <td>71,7575</td>\n",
       "      <td>55,9077</td>\n",
       "      <td>23,17%</td>\n",
       "    </tr>\n",
       "  </tbody>\n",
       "</table>\n",
       "<p>91 rows × 6 columns</p>\n",
       "</div>"
      ],
      "text/plain": [
       "      Data   Último Abertura    Máxima   Mínima     Var%\n",
       "0   Jul 22  55,0200  51,4500   64,5988  51,3998    6,94%\n",
       "1   Jun 22  51,4500  61,5000   62,4923  50,1006  -16,34%\n",
       "2   Mai 22  61,5000  70,9600   70,9600  55,8383  -13,33%\n",
       "3   Abr 22  70,9600  83,2000   84,9917  70,3221  -14,71%\n",
       "4   Mar 22  83,2000  94,6025  121,2100  82,9525  -12,05%\n",
       "..     ...      ...      ...       ...      ...      ...\n",
       "86  Mai 15  52,3212  51,6513   52,1965  50,3630    1,30%\n",
       "87  Abr 15  51,6513  58,1993   58,4863  49,4550  -11,25%\n",
       "88  Mar 15  58,1993  61,6207   63,0344  56,2019   -5,55%\n",
       "89  Fev 15  61,6207  68,8629   70,4525  59,8819  -10,52%\n",
       "90  Jan 15  68,8629  55,9077   71,7575  55,9077   23,17%\n",
       "\n",
       "[91 rows x 6 columns]"
      ]
     },
     "execution_count": 4,
     "metadata": {},
     "output_type": "execute_result"
    }
   ],
   "source": [
    "rublo_e_dolar"
   ]
  },
  {
   "cell_type": "markdown",
   "id": "26f986d4",
   "metadata": {},
   "source": [
    "Para esta análise, só utilizei as variáveis 'Data' e 'Último' (Preço de fechamento), e agora usarei um comando que faça essas variáveis serem lidas, e após isso irei retirar todos os dados em branco que possam existir. "
   ]
  },
  {
   "cell_type": "code",
   "execution_count": 5,
   "id": "d1b53357",
   "metadata": {},
   "outputs": [],
   "source": [
    "rublo_e_dolar = rublo_e_dolar[['Data', 'Último']]"
   ]
  },
  {
   "cell_type": "code",
   "execution_count": 6,
   "id": "bd5438eb",
   "metadata": {},
   "outputs": [],
   "source": [
    "rublo_e_dolar = rublo_e_dolar.dropna()"
   ]
  },
  {
   "cell_type": "markdown",
   "id": "d2220d9c",
   "metadata": {},
   "source": [
    "Agora, irei ajustar a data em ordem crescente pois o arquivo está com as datas ao contrário e também ajustar o índex."
   ]
  },
  {
   "cell_type": "code",
   "execution_count": 7,
   "id": "a86b2705",
   "metadata": {},
   "outputs": [],
   "source": [
    "data_correta = rublo_e_dolar.iloc[::-1]"
   ]
  },
  {
   "cell_type": "code",
   "execution_count": 8,
   "id": "c65a958b",
   "metadata": {},
   "outputs": [],
   "source": [
    "data_correta.reset_index(drop = True, inplace = True)"
   ]
  },
  {
   "cell_type": "code",
   "execution_count": 9,
   "id": "60f3cbe6",
   "metadata": {},
   "outputs": [
    {
     "data": {
      "text/html": [
       "<div>\n",
       "<style scoped>\n",
       "    .dataframe tbody tr th:only-of-type {\n",
       "        vertical-align: middle;\n",
       "    }\n",
       "\n",
       "    .dataframe tbody tr th {\n",
       "        vertical-align: top;\n",
       "    }\n",
       "\n",
       "    .dataframe thead th {\n",
       "        text-align: right;\n",
       "    }\n",
       "</style>\n",
       "<table border=\"1\" class=\"dataframe\">\n",
       "  <thead>\n",
       "    <tr style=\"text-align: right;\">\n",
       "      <th></th>\n",
       "      <th>Data</th>\n",
       "      <th>Último</th>\n",
       "    </tr>\n",
       "  </thead>\n",
       "  <tbody>\n",
       "    <tr>\n",
       "      <th>0</th>\n",
       "      <td>Jan 15</td>\n",
       "      <td>68,8629</td>\n",
       "    </tr>\n",
       "    <tr>\n",
       "      <th>1</th>\n",
       "      <td>Fev 15</td>\n",
       "      <td>61,6207</td>\n",
       "    </tr>\n",
       "    <tr>\n",
       "      <th>2</th>\n",
       "      <td>Mar 15</td>\n",
       "      <td>58,1993</td>\n",
       "    </tr>\n",
       "    <tr>\n",
       "      <th>3</th>\n",
       "      <td>Abr 15</td>\n",
       "      <td>51,6513</td>\n",
       "    </tr>\n",
       "    <tr>\n",
       "      <th>4</th>\n",
       "      <td>Mai 15</td>\n",
       "      <td>52,3212</td>\n",
       "    </tr>\n",
       "    <tr>\n",
       "      <th>...</th>\n",
       "      <td>...</td>\n",
       "      <td>...</td>\n",
       "    </tr>\n",
       "    <tr>\n",
       "      <th>86</th>\n",
       "      <td>Mar 22</td>\n",
       "      <td>83,2000</td>\n",
       "    </tr>\n",
       "    <tr>\n",
       "      <th>87</th>\n",
       "      <td>Abr 22</td>\n",
       "      <td>70,9600</td>\n",
       "    </tr>\n",
       "    <tr>\n",
       "      <th>88</th>\n",
       "      <td>Mai 22</td>\n",
       "      <td>61,5000</td>\n",
       "    </tr>\n",
       "    <tr>\n",
       "      <th>89</th>\n",
       "      <td>Jun 22</td>\n",
       "      <td>51,4500</td>\n",
       "    </tr>\n",
       "    <tr>\n",
       "      <th>90</th>\n",
       "      <td>Jul 22</td>\n",
       "      <td>55,0200</td>\n",
       "    </tr>\n",
       "  </tbody>\n",
       "</table>\n",
       "<p>91 rows × 2 columns</p>\n",
       "</div>"
      ],
      "text/plain": [
       "      Data   Último\n",
       "0   Jan 15  68,8629\n",
       "1   Fev 15  61,6207\n",
       "2   Mar 15  58,1993\n",
       "3   Abr 15  51,6513\n",
       "4   Mai 15  52,3212\n",
       "..     ...      ...\n",
       "86  Mar 22  83,2000\n",
       "87  Abr 22  70,9600\n",
       "88  Mai 22  61,5000\n",
       "89  Jun 22  51,4500\n",
       "90  Jul 22  55,0200\n",
       "\n",
       "[91 rows x 2 columns]"
      ]
     },
     "execution_count": 9,
     "metadata": {},
     "output_type": "execute_result"
    }
   ],
   "source": [
    "data_correta"
   ]
  },
  {
   "cell_type": "markdown",
   "id": "afa5ad8b",
   "metadata": {},
   "source": [
    "Precisarei transformar a variável ''Data'' em datetime, sendo o módulo datetime responsável por fornecer as classes para manipulação de datas e horas. Assim sendo possivél organizar pela data correta. Também irei colocar a data como índice. "
   ]
  },
  {
   "cell_type": "code",
   "execution_count": 10,
   "id": "dd9d2e25",
   "metadata": {},
   "outputs": [
    {
     "name": "stderr",
     "output_type": "stream",
     "text": [
      "C:\\ProgramData\\Anaconda3\\lib\\site-packages\\pandas\\core\\indexing.py:1599: SettingWithCopyWarning: \n",
      "A value is trying to be set on a copy of a slice from a DataFrame.\n",
      "Try using .loc[row_indexer,col_indexer] = value instead\n",
      "\n",
      "See the caveats in the documentation: https://pandas.pydata.org/pandas-docs/stable/user_guide/indexing.html#returning-a-view-versus-a-copy\n",
      "  self.obj[key] = infer_fill_value(value)\n",
      "C:\\ProgramData\\Anaconda3\\lib\\site-packages\\pandas\\core\\indexing.py:1720: SettingWithCopyWarning: \n",
      "A value is trying to be set on a copy of a slice from a DataFrame.\n",
      "Try using .loc[row_indexer,col_indexer] = value instead\n",
      "\n",
      "See the caveats in the documentation: https://pandas.pydata.org/pandas-docs/stable/user_guide/indexing.html#returning-a-view-versus-a-copy\n",
      "  self._setitem_single_column(loc, value, pi)\n"
     ]
    }
   ],
   "source": [
    "inicio_date = datetime.date(2015, 1, 1)\n",
    "fim_date = datetime.date(2022, 7, 1)\n",
    "delta = relativedelta(months=1)\n",
    "datas = []\n",
    "while (inicio_date <= fim_date):\n",
    "    datas.append(inicio_date)\n",
    "    inicio_date += delta\n",
    "for registro in range(len(data_correta)):\n",
    "    data_correta.loc[registro, 'datetime'] = datas[registro]"
   ]
  },
  {
   "cell_type": "code",
   "execution_count": 11,
   "id": "ddaebcc0",
   "metadata": {},
   "outputs": [],
   "source": [
    "rublo3 = data_correta.set_index('datetime')"
   ]
  },
  {
   "cell_type": "code",
   "execution_count": 12,
   "id": "52988271",
   "metadata": {},
   "outputs": [],
   "source": [
    "rublo3 = data_correta.drop(columns=['Data'])"
   ]
  },
  {
   "cell_type": "code",
   "execution_count": 13,
   "id": "3c9edeee",
   "metadata": {},
   "outputs": [],
   "source": [
    "rublo3.set_index('datetime', inplace=True)"
   ]
  },
  {
   "cell_type": "code",
   "execution_count": 14,
   "id": "70d3c027",
   "metadata": {},
   "outputs": [],
   "source": [
    "rublo3['Último'] = rublo3['Último'].str.replace(',','.').astype(float)"
   ]
  },
  {
   "cell_type": "markdown",
   "id": "9f9df025",
   "metadata": {},
   "source": [
    "Colocando a Data como índice, assim podemos manipular o preço através dos anos escolhidos."
   ]
  },
  {
   "cell_type": "code",
   "execution_count": 15,
   "id": "91683c26",
   "metadata": {},
   "outputs": [
    {
     "data": {
      "image/png": "[encoded data removed]",
      "text/plain": [
       "<Figure size 1296x576 with 1 Axes>"
      ]
     },
     "metadata": {
      "needs_background": "light"
     },
     "output_type": "display_data"
    }
   ],
   "source": [
    "plt.figure(figsize=(18, 8)) \n",
    "  \n",
    "plt.plot(rublo3) \n",
    "\n",
    "\n",
    "plt.title('Quanto 1 Rublo Russo compra 1 Dólar Americano ', fontsize=25)\n",
    "plt.ylabel('Preço de fechamento do RUB em USD', fontsize=18)\n",
    "\n",
    "\n",
    "\n",
    "for pos in ['right', 'top', 'bottom', 'left']: \n",
    "    plt.gca().spines[pos].set_visible(False) \n",
    "plt.show()"
   ]
  },
  {
   "cell_type": "markdown",
   "id": "72b73d37",
   "metadata": {},
   "source": [
    "\n",
    "<br>\n",
    "\n",
    "## <span style = \"font-family:Times New Roman\"> <font color = #045cbc> Grynia Ucraniana\n",
    "    \n",
    "<br>"
   ]
  },
  {
   "cell_type": "markdown",
   "id": "5784a4a7",
   "metadata": {},
   "source": [
    "Na analise da ucrânia, irei utilizar os mesmos passos da Rússia, ler os dados e importar as bibliotecas necessárias"
   ]
  },
  {
   "cell_type": "code",
   "execution_count": 16,
   "id": "ea773611",
   "metadata": {},
   "outputs": [],
   "source": [
    "import pandas as pd\n",
    "import seaborn as sb\n",
    "import matplotlib.pyplot as plt\n",
    "from dateutil.relativedelta import relativedelta\n",
    "import datetime"
   ]
  },
  {
   "cell_type": "code",
   "execution_count": 17,
   "id": "29d4732e",
   "metadata": {},
   "outputs": [],
   "source": [
    "grynia_e_dolar = pd.read_csv(r'dados/ukr.csv')"
   ]
  },
  {
   "cell_type": "markdown",
   "id": "09dd2b95",
   "metadata": {},
   "source": [
    "Neste arquivo também foi preciso traduzir as variáveis e igualmente acima, irei checar os dados como de costume,"
   ]
  },
  {
   "cell_type": "code",
   "execution_count": 18,
   "id": "a96ba58c",
   "metadata": {},
   "outputs": [],
   "source": [
    "grynia_e_dolar.rename(columns={'Price': 'Último', 'Date': 'Data','High': 'Máxima',\n",
    "                            'Low': 'Miníma', 'Change%': 'Var%', 'Open': 'Abertura',}, \n",
    "                    \n",
    "                    inplace=True)"
   ]
  },
  {
   "cell_type": "code",
   "execution_count": 19,
   "id": "7b98a436",
   "metadata": {},
   "outputs": [
    {
     "data": {
      "text/html": [
       "<div>\n",
       "<style scoped>\n",
       "    .dataframe tbody tr th:only-of-type {\n",
       "        vertical-align: middle;\n",
       "    }\n",
       "\n",
       "    .dataframe tbody tr th {\n",
       "        vertical-align: top;\n",
       "    }\n",
       "\n",
       "    .dataframe thead th {\n",
       "        text-align: right;\n",
       "    }\n",
       "</style>\n",
       "<table border=\"1\" class=\"dataframe\">\n",
       "  <thead>\n",
       "    <tr style=\"text-align: right;\">\n",
       "      <th></th>\n",
       "      <th>Data</th>\n",
       "      <th>Último</th>\n",
       "      <th>Abertura</th>\n",
       "      <th>Máxima</th>\n",
       "      <th>Mínima</th>\n",
       "      <th>Var%</th>\n",
       "    </tr>\n",
       "  </thead>\n",
       "  <tbody>\n",
       "    <tr>\n",
       "      <th>0</th>\n",
       "      <td>7.2022</td>\n",
       "      <td>29,4025</td>\n",
       "      <td>29,5437</td>\n",
       "      <td>29,5485</td>\n",
       "      <td>29,4000</td>\n",
       "      <td>0,52</td>\n",
       "    </tr>\n",
       "    <tr>\n",
       "      <th>1</th>\n",
       "      <td>6.2022</td>\n",
       "      <td>29,2500</td>\n",
       "      <td>29,4000</td>\n",
       "      <td>29,5500</td>\n",
       "      <td>29,3987</td>\n",
       "      <td>-0,98</td>\n",
       "    </tr>\n",
       "    <tr>\n",
       "      <th>2</th>\n",
       "      <td>5.2022</td>\n",
       "      <td>29,5400</td>\n",
       "      <td>29,4000</td>\n",
       "      <td>30,2710</td>\n",
       "      <td>29,3987</td>\n",
       "      <td>-2,35</td>\n",
       "    </tr>\n",
       "    <tr>\n",
       "      <th>3</th>\n",
       "      <td>4.2022</td>\n",
       "      <td>30,2500</td>\n",
       "      <td>29,4000</td>\n",
       "      <td>30,3995</td>\n",
       "      <td>29,4000</td>\n",
       "      <td>2,54</td>\n",
       "    </tr>\n",
       "    <tr>\n",
       "      <th>4</th>\n",
       "      <td>3.2022</td>\n",
       "      <td>29,5000</td>\n",
       "      <td>29,4000</td>\n",
       "      <td>30,0500</td>\n",
       "      <td>29,3900</td>\n",
       "      <td>-1,83</td>\n",
       "    </tr>\n",
       "    <tr>\n",
       "      <th>...</th>\n",
       "      <td>...</td>\n",
       "      <td>...</td>\n",
       "      <td>...</td>\n",
       "      <td>...</td>\n",
       "      <td>...</td>\n",
       "      <td>...</td>\n",
       "    </tr>\n",
       "    <tr>\n",
       "      <th>88</th>\n",
       "      <td>3.2015</td>\n",
       "      <td>23,4429</td>\n",
       "      <td>26,7500</td>\n",
       "      <td>26,7500</td>\n",
       "      <td>21,3272</td>\n",
       "      <td>-13,97</td>\n",
       "    </tr>\n",
       "    <tr>\n",
       "      <th>89</th>\n",
       "      <td>2.2015</td>\n",
       "      <td>27,2500</td>\n",
       "      <td>16,2075</td>\n",
       "      <td>33,7500</td>\n",
       "      <td>16,0690</td>\n",
       "      <td>68,65</td>\n",
       "    </tr>\n",
       "    <tr>\n",
       "      <th>90</th>\n",
       "      <td>1.2015</td>\n",
       "      <td>16,1575</td>\n",
       "      <td>15,8185</td>\n",
       "      <td>16,6700</td>\n",
       "      <td>15,6215</td>\n",
       "      <td>2,47</td>\n",
       "    </tr>\n",
       "    <tr>\n",
       "      <th>91</th>\n",
       "      <td>NaN</td>\n",
       "      <td>NaN</td>\n",
       "      <td>NaN</td>\n",
       "      <td>NaN</td>\n",
       "      <td>NaN</td>\n",
       "      <td>NaN</td>\n",
       "    </tr>\n",
       "    <tr>\n",
       "      <th>92</th>\n",
       "      <td>NaN</td>\n",
       "      <td>Alta:33,7500</td>\n",
       "      <td>Baixa:15,6215</td>\n",
       "      <td>Diferença:18,1285</td>\n",
       "      <td>Média:26,2584</td>\n",
       "      <td>Var%:86,4635</td>\n",
       "    </tr>\n",
       "  </tbody>\n",
       "</table>\n",
       "<p>93 rows × 6 columns</p>\n",
       "</div>"
      ],
      "text/plain": [
       "      Data        Último       Abertura             Máxima         Mínima  \\\n",
       "0   7.2022       29,4025        29,5437            29,5485        29,4000   \n",
       "1   6.2022       29,2500        29,4000            29,5500        29,3987   \n",
       "2   5.2022       29,5400        29,4000            30,2710        29,3987   \n",
       "3   4.2022       30,2500        29,4000            30,3995        29,4000   \n",
       "4   3.2022       29,5000        29,4000            30,0500        29,3900   \n",
       "..     ...           ...            ...                ...            ...   \n",
       "88  3.2015       23,4429        26,7500            26,7500        21,3272   \n",
       "89  2.2015       27,2500        16,2075            33,7500        16,0690   \n",
       "90  1.2015       16,1575        15,8185            16,6700        15,6215   \n",
       "91     NaN           NaN            NaN                NaN            NaN   \n",
       "92     NaN  Alta:33,7500  Baixa:15,6215  Diferença:18,1285  Média:26,2584   \n",
       "\n",
       "            Var%  \n",
       "0           0,52  \n",
       "1          -0,98  \n",
       "2          -2,35  \n",
       "3           2,54  \n",
       "4          -1,83  \n",
       "..           ...  \n",
       "88        -13,97  \n",
       "89         68,65  \n",
       "90          2,47  \n",
       "91           NaN  \n",
       "92  Var%:86,4635  \n",
       "\n",
       "[93 rows x 6 columns]"
      ]
     },
     "execution_count": 19,
     "metadata": {},
     "output_type": "execute_result"
    }
   ],
   "source": [
    "grynia_e_dolar"
   ]
  },
  {
   "cell_type": "markdown",
   "id": "60d87c87",
   "metadata": {},
   "source": [
    "Por fins lógicos, usarei as mesmas váriaveis \"Data\" e \"Ùltimo\" para poder fazer a analíse igualmente e retirar todos os dados em branco que o arquivo possa conter."
   ]
  },
  {
   "cell_type": "code",
   "execution_count": 20,
   "id": "8cdce880",
   "metadata": {},
   "outputs": [],
   "source": [
    "grynia_e_dolar = grynia_e_dolar[['Data', 'Último']]"
   ]
  },
  {
   "cell_type": "code",
   "execution_count": 21,
   "id": "0ad2f633",
   "metadata": {},
   "outputs": [],
   "source": [
    "grynia_e_dolar = grynia_e_dolar.dropna()"
   ]
  },
  {
   "cell_type": "markdown",
   "id": "dcd78282",
   "metadata": {},
   "source": [
    "Feito isto, o index será ajustado e a data vai ser colocada em ordem crescente, pois os dois arquivos vieram do mesmo site."
   ]
  },
  {
   "cell_type": "code",
   "execution_count": 22,
   "id": "71159452",
   "metadata": {},
   "outputs": [],
   "source": [
    "analise_correta_df = grynia_e_dolar.iloc[::-1]"
   ]
  },
  {
   "cell_type": "code",
   "execution_count": 23,
   "id": "359dbf82",
   "metadata": {},
   "outputs": [],
   "source": [
    "analise_correta_df.reset_index(drop = True, inplace = True)"
   ]
  },
  {
   "cell_type": "markdown",
   "id": "016e8ec6",
   "metadata": {},
   "source": [
    "Transformando os dados em Datetime assim possível organizar as datas pela data correta."
   ]
  },
  {
   "cell_type": "code",
   "execution_count": 24,
   "id": "6f1ac1fd",
   "metadata": {},
   "outputs": [],
   "source": [
    "inicio_date = datetime.date(2015, 1, 1)\n",
    "fim_date = datetime.date(2022, 7, 1)\n",
    "\n",
    "delta = relativedelta(months=1)\n",
    "datas = []\n",
    "\n",
    "while (inicio_date <= fim_date):\n",
    "    datas.append(inicio_date)\n",
    "    inicio_date += delta"
   ]
  },
  {
   "cell_type": "code",
   "execution_count": 25,
   "id": "e05de1db",
   "metadata": {},
   "outputs": [
    {
     "name": "stderr",
     "output_type": "stream",
     "text": [
      "C:\\ProgramData\\Anaconda3\\lib\\site-packages\\pandas\\core\\indexing.py:1599: SettingWithCopyWarning: \n",
      "A value is trying to be set on a copy of a slice from a DataFrame.\n",
      "Try using .loc[row_indexer,col_indexer] = value instead\n",
      "\n",
      "See the caveats in the documentation: https://pandas.pydata.org/pandas-docs/stable/user_guide/indexing.html#returning-a-view-versus-a-copy\n",
      "  self.obj[key] = infer_fill_value(value)\n",
      "C:\\ProgramData\\Anaconda3\\lib\\site-packages\\pandas\\core\\indexing.py:1720: SettingWithCopyWarning: \n",
      "A value is trying to be set on a copy of a slice from a DataFrame.\n",
      "Try using .loc[row_indexer,col_indexer] = value instead\n",
      "\n",
      "See the caveats in the documentation: https://pandas.pydata.org/pandas-docs/stable/user_guide/indexing.html#returning-a-view-versus-a-copy\n",
      "  self._setitem_single_column(loc, value, pi)\n"
     ]
    }
   ],
   "source": [
    "for registro in range(len(analise_correta_df)):\n",
    "    analise_correta_df.loc[registro, 'datetime'] = datas[registro]"
   ]
  },
  {
   "cell_type": "markdown",
   "id": "4ad4c570",
   "metadata": {},
   "source": [
    "Colocarei a Data como índice, assim podemos manipular o preço através dos anos escolhidos e após todo o tratamento, podemos ver\n",
    "o resultado graficamente"
   ]
  },
  {
   "cell_type": "code",
   "execution_count": 26,
   "id": "0ef0de46",
   "metadata": {},
   "outputs": [],
   "source": [
    "grynia3 = analise_correta_df.set_index('datetime')\n"
   ]
  },
  {
   "cell_type": "code",
   "execution_count": 27,
   "id": "bd8b4fd7",
   "metadata": {},
   "outputs": [],
   "source": [
    "grynia3 = analise_correta_df.drop(columns=['Data'])"
   ]
  },
  {
   "cell_type": "code",
   "execution_count": 28,
   "id": "a0013599",
   "metadata": {
    "scrolled": false
   },
   "outputs": [],
   "source": [
    "grynia3.set_index('datetime', inplace=True)"
   ]
  },
  {
   "cell_type": "code",
   "execution_count": 29,
   "id": "25fd6095",
   "metadata": {},
   "outputs": [],
   "source": [
    "grynia3['Último'] = grynia3['Último'].str.replace(',','.').astype(float)"
   ]
  },
  {
   "cell_type": "code",
   "execution_count": 39,
   "id": "c6d6dd01",
   "metadata": {},
   "outputs": [
    {
     "data": {
      "image/png": "[encoded data removed]",
      "text/plain": [
       "<Figure size 1296x576 with 1 Axes>"
      ]
     },
     "metadata": {
      "needs_background": "light"
     },
     "output_type": "display_data"
    }
   ],
   "source": [
    "plt.figure(figsize=(18, 8)) \n",
    "  \n",
    "plt.plot(grynia3) \n",
    "\n",
    "plt.title('Quanto 1 Hryvinia Ucraniana compra 1 Dólar Americano ', fontsize=25)\n",
    "\n",
    "for eixo in ['right', 'top', 'bottom', 'left']: \n",
    "    plt.gca().spines[eixo].set_visible(False) \n",
    "plt.show()"
   ]
  },
  {
   "cell_type": "markdown",
   "id": "34efbffa",
   "metadata": {},
   "source": [
    "\n",
    "<br>\n",
    "\n",
    "<br>\n",
    "\n",
    "# <span style = \"font-family:Times New Roman\"> <font color = #045cbc> Análise de Exportações \n",
    "    \n",
    "<br>\n",
    " \n",
    "<br>\n",
    "    "
   ]
  },
  {
   "cell_type": "markdown",
   "id": "4ea74d4a",
   "metadata": {},
   "source": [
    "<br>\n",
    "\n",
    "- Buscar referências de autores/artigos que escreveram sobre este tema ; \n",
    "- Tratar uma análise breve das exportações ; \n",
    "- Perguntar para o Fernando sobre a biblioteca que realiza animação de mudança de variáveis ao longo do tempo. \n",
    "\n",
    "<br>\n"
   ]
  },
  {
   "cell_type": "markdown",
   "id": "7499fe12",
   "metadata": {},
   "source": [
    "O projeto procura comparar a correlação de Taxa de Câmbio com as Exportações da Russia no seu período de Guerra (Janeiro de 2022) e também olhar esse comportamento durante o tempo. "
   ]
  },
  {
   "cell_type": "markdown",
   "id": "dd251e3a",
   "metadata": {},
   "source": [
    "<br>\n",
    "\n",
    "### <span style = \"font-family:Times New Roman\"> <font color = #045cbc> Fonte dos Dados\n",
    "    \n",
    "<br>\n",
    "\n",
    "The [**Observatory of Economic Complexity**](<https://oec.world/en/profile/country/rus#:~:text=Yearly%20Exports,-%23permalink%20to%20section&text=In%202020%2C%20Russia%20exported%20a,to%20%24330B%20in%202020>) (OEC) - Plataforma Especializada em dados de trocas comerciais (importações, exportações e taxas de câmbio).  Também possuem blogs e pesquisas todas voltadas para a área da Economia.\n",
    "\n",
    "<br>\n",
    "    \n",
    "    "
   ]
  },
  {
   "cell_type": "code",
   "execution_count": 31,
   "id": "f576617e",
   "metadata": {},
   "outputs": [],
   "source": [
    "import pandas as pd"
   ]
  },
  {
   "cell_type": "code",
   "execution_count": 32,
   "id": "466757b7",
   "metadata": {},
   "outputs": [],
   "source": [
    "export = pd.read_csv('dados/Products-Exports-Jan-2022----Click-to-Select-a-Product.csv')"
   ]
  },
  {
   "cell_type": "code",
   "execution_count": 33,
   "id": "a28de6a5",
   "metadata": {},
   "outputs": [
    {
     "data": {
      "text/plain": [
       "Index(['Section ID', 'Section', 'HS2 ID', 'HS2', 'HS4 ID', 'HS4', 'Year',\n",
       "       'Quarter ID', 'Quarter', 'Month ID', 'Month', 'Time', 'Trade Value'],\n",
       "      dtype='object')"
      ]
     },
     "execution_count": 33,
     "metadata": {},
     "output_type": "execute_result"
    }
   ],
   "source": [
    "export.columns"
   ]
  },
  {
   "cell_type": "code",
   "execution_count": 34,
   "id": "63fcd6f9",
   "metadata": {},
   "outputs": [
    {
     "data": {
      "text/html": [
       "<div>\n",
       "<style scoped>\n",
       "    .dataframe tbody tr th:only-of-type {\n",
       "        vertical-align: middle;\n",
       "    }\n",
       "\n",
       "    .dataframe tbody tr th {\n",
       "        vertical-align: top;\n",
       "    }\n",
       "\n",
       "    .dataframe thead th {\n",
       "        text-align: right;\n",
       "    }\n",
       "</style>\n",
       "<table border=\"1\" class=\"dataframe\">\n",
       "  <thead>\n",
       "    <tr style=\"text-align: right;\">\n",
       "      <th></th>\n",
       "      <th>Section ID</th>\n",
       "      <th>Section</th>\n",
       "      <th>HS2 ID</th>\n",
       "      <th>HS2</th>\n",
       "      <th>HS4 ID</th>\n",
       "      <th>HS4</th>\n",
       "      <th>Year</th>\n",
       "      <th>Quarter ID</th>\n",
       "      <th>Quarter</th>\n",
       "      <th>Month ID</th>\n",
       "      <th>Month</th>\n",
       "      <th>Time</th>\n",
       "      <th>Trade Value</th>\n",
       "    </tr>\n",
       "  </thead>\n",
       "  <tbody>\n",
       "    <tr>\n",
       "      <th>0</th>\n",
       "      <td>1</td>\n",
       "      <td>Animal Products</td>\n",
       "      <td>101</td>\n",
       "      <td>Live animals</td>\n",
       "      <td>10101</td>\n",
       "      <td>Horses</td>\n",
       "      <td>2022</td>\n",
       "      <td>1</td>\n",
       "      <td>Q1</td>\n",
       "      <td>1</td>\n",
       "      <td>January</td>\n",
       "      <td>202201</td>\n",
       "      <td>140448.01</td>\n",
       "    </tr>\n",
       "    <tr>\n",
       "      <th>1</th>\n",
       "      <td>1</td>\n",
       "      <td>Animal Products</td>\n",
       "      <td>101</td>\n",
       "      <td>Live animals</td>\n",
       "      <td>10102</td>\n",
       "      <td>Bovine</td>\n",
       "      <td>2022</td>\n",
       "      <td>1</td>\n",
       "      <td>Q1</td>\n",
       "      <td>1</td>\n",
       "      <td>January</td>\n",
       "      <td>202201</td>\n",
       "      <td>162982.54</td>\n",
       "    </tr>\n",
       "    <tr>\n",
       "      <th>2</th>\n",
       "      <td>1</td>\n",
       "      <td>Animal Products</td>\n",
       "      <td>101</td>\n",
       "      <td>Live animals</td>\n",
       "      <td>10103</td>\n",
       "      <td>Pigs</td>\n",
       "      <td>2022</td>\n",
       "      <td>1</td>\n",
       "      <td>Q1</td>\n",
       "      <td>1</td>\n",
       "      <td>January</td>\n",
       "      <td>202201</td>\n",
       "      <td>1143667.23</td>\n",
       "    </tr>\n",
       "    <tr>\n",
       "      <th>3</th>\n",
       "      <td>1</td>\n",
       "      <td>Animal Products</td>\n",
       "      <td>101</td>\n",
       "      <td>Live animals</td>\n",
       "      <td>10104</td>\n",
       "      <td>Sheep and Goats</td>\n",
       "      <td>2022</td>\n",
       "      <td>1</td>\n",
       "      <td>Q1</td>\n",
       "      <td>1</td>\n",
       "      <td>January</td>\n",
       "      <td>202201</td>\n",
       "      <td>42038.64</td>\n",
       "    </tr>\n",
       "    <tr>\n",
       "      <th>4</th>\n",
       "      <td>1</td>\n",
       "      <td>Animal Products</td>\n",
       "      <td>101</td>\n",
       "      <td>Live animals</td>\n",
       "      <td>10105</td>\n",
       "      <td>Poultry</td>\n",
       "      <td>2022</td>\n",
       "      <td>1</td>\n",
       "      <td>Q1</td>\n",
       "      <td>1</td>\n",
       "      <td>January</td>\n",
       "      <td>202201</td>\n",
       "      <td>614400.94</td>\n",
       "    </tr>\n",
       "  </tbody>\n",
       "</table>\n",
       "</div>"
      ],
      "text/plain": [
       "   Section ID          Section  HS2 ID           HS2  HS4 ID              HS4  \\\n",
       "0           1  Animal Products     101  Live animals   10101           Horses   \n",
       "1           1  Animal Products     101  Live animals   10102           Bovine   \n",
       "2           1  Animal Products     101  Live animals   10103             Pigs   \n",
       "3           1  Animal Products     101  Live animals   10104  Sheep and Goats   \n",
       "4           1  Animal Products     101  Live animals   10105          Poultry   \n",
       "\n",
       "   Year  Quarter ID Quarter  Month ID    Month    Time  Trade Value  \n",
       "0  2022           1      Q1         1  January  202201    140448.01  \n",
       "1  2022           1      Q1         1  January  202201    162982.54  \n",
       "2  2022           1      Q1         1  January  202201   1143667.23  \n",
       "3  2022           1      Q1         1  January  202201     42038.64  \n",
       "4  2022           1      Q1         1  January  202201    614400.94  "
      ]
     },
     "execution_count": 34,
     "metadata": {},
     "output_type": "execute_result"
    }
   ],
   "source": [
    "export.head()"
   ]
  },
  {
   "cell_type": "markdown",
   "id": "9684e2ff",
   "metadata": {},
   "source": [
    "\n",
    "<br>\n",
    "\n",
    "Harmonized Sistem (HS) - são códigos de produtos os quais podem ser lidos em qualquer parte do mundo, para identificação de produtos.\n",
    "\n",
    "<br>\n"
   ]
  },
  {
   "cell_type": "code",
   "execution_count": 35,
   "id": "58316c83",
   "metadata": {},
   "outputs": [
    {
     "data": {
      "text/html": [
       "<div>\n",
       "<style scoped>\n",
       "    .dataframe tbody tr th:only-of-type {\n",
       "        vertical-align: middle;\n",
       "    }\n",
       "\n",
       "    .dataframe tbody tr th {\n",
       "        vertical-align: top;\n",
       "    }\n",
       "\n",
       "    .dataframe thead th {\n",
       "        text-align: right;\n",
       "    }\n",
       "</style>\n",
       "<table border=\"1\" class=\"dataframe\">\n",
       "  <thead>\n",
       "    <tr style=\"text-align: right;\">\n",
       "      <th></th>\n",
       "      <th>Trade Value</th>\n",
       "    </tr>\n",
       "    <tr>\n",
       "      <th>Section</th>\n",
       "      <th></th>\n",
       "    </tr>\n",
       "  </thead>\n",
       "  <tbody>\n",
       "    <tr>\n",
       "      <th>Mineral Products</th>\n",
       "      <td>2.004158e+10</td>\n",
       "    </tr>\n",
       "    <tr>\n",
       "      <th>Unspecified</th>\n",
       "      <td>1.031496e+10</td>\n",
       "    </tr>\n",
       "    <tr>\n",
       "      <th>Metals</th>\n",
       "      <td>5.495889e+09</td>\n",
       "    </tr>\n",
       "    <tr>\n",
       "      <th>Chemical Products</th>\n",
       "      <td>2.473089e+09</td>\n",
       "    </tr>\n",
       "    <tr>\n",
       "      <th>Precious Metals</th>\n",
       "      <td>1.542263e+09</td>\n",
       "    </tr>\n",
       "    <tr>\n",
       "      <th>Machines</th>\n",
       "      <td>8.997067e+08</td>\n",
       "    </tr>\n",
       "    <tr>\n",
       "      <th>Vegetable Products</th>\n",
       "      <td>8.384156e+08</td>\n",
       "    </tr>\n",
       "    <tr>\n",
       "      <th>Wood Products</th>\n",
       "      <td>7.762252e+08</td>\n",
       "    </tr>\n",
       "    <tr>\n",
       "      <th>Plastics and Rubbers</th>\n",
       "      <td>7.158085e+08</td>\n",
       "    </tr>\n",
       "    <tr>\n",
       "      <th>Foodstuffs</th>\n",
       "      <td>5.269305e+08</td>\n",
       "    </tr>\n",
       "    <tr>\n",
       "      <th>Paper Goods</th>\n",
       "      <td>4.191792e+08</td>\n",
       "    </tr>\n",
       "    <tr>\n",
       "      <th>Animal Products</th>\n",
       "      <td>4.144378e+08</td>\n",
       "    </tr>\n",
       "    <tr>\n",
       "      <th>Animal and Vegetable Bi-Products</th>\n",
       "      <td>4.108023e+08</td>\n",
       "    </tr>\n",
       "    <tr>\n",
       "      <th>Transportation</th>\n",
       "      <td>3.789569e+08</td>\n",
       "    </tr>\n",
       "    <tr>\n",
       "      <th>Stone And Glass</th>\n",
       "      <td>1.124329e+08</td>\n",
       "    </tr>\n",
       "    <tr>\n",
       "      <th>Textiles</th>\n",
       "      <td>9.232416e+07</td>\n",
       "    </tr>\n",
       "    <tr>\n",
       "      <th>Instruments</th>\n",
       "      <td>8.994873e+07</td>\n",
       "    </tr>\n",
       "    <tr>\n",
       "      <th>Miscellaneous</th>\n",
       "      <td>7.771348e+07</td>\n",
       "    </tr>\n",
       "    <tr>\n",
       "      <th>Footwear and Headwear</th>\n",
       "      <td>1.629997e+07</td>\n",
       "    </tr>\n",
       "    <tr>\n",
       "      <th>Animal Hides</th>\n",
       "      <td>1.223073e+07</td>\n",
       "    </tr>\n",
       "  </tbody>\n",
       "</table>\n",
       "</div>"
      ],
      "text/plain": [
       "                                   Trade Value\n",
       "Section                                       \n",
       "Mineral Products                  2.004158e+10\n",
       "Unspecified                       1.031496e+10\n",
       "Metals                            5.495889e+09\n",
       "Chemical Products                 2.473089e+09\n",
       "Precious Metals                   1.542263e+09\n",
       "Machines                          8.997067e+08\n",
       "Vegetable Products                8.384156e+08\n",
       "Wood Products                     7.762252e+08\n",
       "Plastics and Rubbers              7.158085e+08\n",
       "Foodstuffs                        5.269305e+08\n",
       "Paper Goods                       4.191792e+08\n",
       "Animal Products                   4.144378e+08\n",
       "Animal and Vegetable Bi-Products  4.108023e+08\n",
       "Transportation                    3.789569e+08\n",
       "Stone And Glass                   1.124329e+08\n",
       "Textiles                          9.232416e+07\n",
       "Instruments                       8.994873e+07\n",
       "Miscellaneous                     7.771348e+07\n",
       "Footwear and Headwear             1.629997e+07\n",
       "Animal Hides                      1.223073e+07"
      ]
     },
     "execution_count": 35,
     "metadata": {},
     "output_type": "execute_result"
    }
   ],
   "source": [
    "# Calculando o valor negociado total das seções\n",
    "\n",
    "sections_tv = export.groupby('Section')[['Trade Value']].sum()\n",
    "sections_tv.sort_values(by = 'Trade Value' , ascending = False)"
   ]
  },
  {
   "cell_type": "markdown",
   "id": "2a175132",
   "metadata": {},
   "source": [
    "## <font color = red > Fazer Bar Plot com as Exportações por Seção"
   ]
  },
  {
   "cell_type": "code",
   "execution_count": 36,
   "id": "da6ee010",
   "metadata": {
    "scrolled": false
   },
   "outputs": [
    {
     "data": {
      "text/plain": [
       "[0       False\n",
       " 1       False\n",
       " 2       False\n",
       " 3       False\n",
       " 4       False\n",
       "         ...  \n",
       " 1117    False\n",
       " 1118    False\n",
       " 1119    False\n",
       " 1120    False\n",
       " 1121    False\n",
       " Name: Section, Length: 1122, dtype: bool]"
      ]
     },
     "execution_count": 36,
     "metadata": {},
     "output_type": "execute_result"
    }
   ],
   "source": [
    "[export['Section'] == \"Mineral Products\" ] "
   ]
  },
  {
   "cell_type": "code",
   "execution_count": 37,
   "id": "28ecb55f",
   "metadata": {
    "scrolled": false
   },
   "outputs": [],
   "source": [
    "# Verificando o produto com a maior taxa de exportação na seção de Produtos Minerais \n",
    "\n",
    "mineral_products_filter = export['Section'] == \"Mineral Products\" \n",
    "mineral_products = export[mineral_products_filter]"
   ]
  },
  {
   "cell_type": "code",
   "execution_count": 38,
   "id": "dd2b82cd",
   "metadata": {
    "scrolled": false
   },
   "outputs": [
    {
     "data": {
      "text/plain": [
       "'Crude Petroleum'"
      ]
     },
     "execution_count": 38,
     "metadata": {},
     "output_type": "execute_result"
    }
   ],
   "source": [
    "# Selecionando o produto com maior valor de troca da seção \n",
    "\n",
    "product = mineral_products[mineral_products['Trade Value'] == mineral_products['Trade Value'].max()]['HS4']\n",
    "product.values[0]"
   ]
  },
  {
   "cell_type": "markdown",
   "id": "a71629c1",
   "metadata": {},
   "source": [
    "\n",
    "<br>\n",
    "\n",
    "## <span style = \"font-family:Times New Roman\"> <font color = #045cbc> Processo Seletivo \n",
    "    \n",
    "<br>\n"
   ]
  },
  {
   "cell_type": "code",
   "execution_count": null,
   "id": "f698ba43",
   "metadata": {},
   "outputs": [],
   "source": []
  },
  {
   "cell_type": "code",
   "execution_count": null,
   "id": "5e6e5577",
   "metadata": {},
   "outputs": [],
   "source": []
  },
  {
   "cell_type": "code",
   "execution_count": null,
   "id": "dfccfd3c",
   "metadata": {},
   "outputs": [],
   "source": []
  },
  {
   "cell_type": "code",
   "execution_count": null,
   "id": "f130f576",
   "metadata": {},
   "outputs": [],
   "source": []
  },
  {
   "cell_type": "code",
   "execution_count": null,
   "id": "aedd7c6e",
   "metadata": {},
   "outputs": [],
   "source": []
  },
  {
   "cell_type": "markdown",
   "id": "eee96d57",
   "metadata": {},
   "source": [
    "\n",
    "<br>\n",
    "\n",
    "## <span style = \"font-family:Times New Roman\"> <font color = #045cbc> Referências \n",
    "    \n",
    "<br>\n",
    "    \n",
    "    "
   ]
  },
  {
   "cell_type": "code",
   "execution_count": null,
   "id": "fe51aa39",
   "metadata": {},
   "outputs": [],
   "source": []
  },
  {
   "cell_type": "markdown",
   "id": "bdfeaff4",
   "metadata": {},
   "source": [
    "\n",
    "<br>\n",
    "\n",
    "## <span style = \"font-family:Times New Roman\"> <font color = #045cbc> Desenvolvedores do Projeto \n",
    "    \n",
    "<br>"
   ]
  },
  {
   "cell_type": "code",
   "execution_count": null,
   "id": "2a8bbb50",
   "metadata": {},
   "outputs": [],
   "source": []
  }
 ],
 "metadata": {
  "celltoolbar": "Slideshow",
  "kernelspec": {
   "display_name": "Python 3",
   "language": "python",
   "name": "python3"
  },
  "language_info": {
   "codemirror_mode": {
    "name": "ipython",
    "version": 3
   },
   "file_extension": ".py",
   "mimetype": "text/x-python",
   "name": "python",
   "nbconvert_exporter": "python",
   "pygments_lexer": "ipython3",
   "version": "3.8.8"
  }
 },
 "nbformat": 4,
 "nbformat_minor": 5
}
