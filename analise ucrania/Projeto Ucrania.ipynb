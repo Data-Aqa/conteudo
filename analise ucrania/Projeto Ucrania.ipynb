{
 "cells": [
  {
   "cell_type": "markdown",
   "id": "950f9c56",
   "metadata": {
    "slideshow": {
     "slide_type": "slide"
    }
   },
   "source": [
    "<img src = 'imagens/Logo do Projeto 3 .png' >"
   ]
  },
  {
   "cell_type": "markdown",
   "id": "0c864d9b",
   "metadata": {
    "slideshow": {
     "slide_type": "slide"
    }
   },
   "source": [
    "#  <span style = \"font-family:Times New Roman\"> <font color = #045cbc> Objetivo \n",
    "    \n",
    "<br>\n",
    "    \n",
    "- Apresentar algumas informações referentes à Data Science e Análise de Dados\n",
    "<br>\n",
    "    \n",
    "- Comparar brevemente o Python com algumas ferramentas como Excel, R, Power BI     \n",
    "<br>\n",
    "    \n",
    "- Quais são as possibilidades da ferramenta \n",
    "   <br>\n",
    "    \n",
    "- Fazer uma análise do câmbio do rubro e Grívnia e da pauta de exportações da Ucrânia"
   ]
  },
  {
   "cell_type": "markdown",
   "id": "e815a05b",
   "metadata": {
    "slideshow": {
     "slide_type": "slide"
    }
   },
   "source": [
    "## <span style = \"font-family:Times New Roman\"> <font color = #045cbc> Análise de Dados "
   ]
  },
  {
   "cell_type": "markdown",
   "id": "4f2c9e5e",
   "metadata": {
    "slideshow": {
     "slide_type": "fragment"
    }
   },
   "source": [
    "De acordo com o [**Wikipedia**](https://pt.wikipedia.org/wiki/An%C3%A1lise_de_dados) a análise de dados \"é um processo de inspeção, limpeza, transformação e modelagem de dados com o objetivo de descobrir informações úteis, informar conclusões e apoiar a tomada de decisões\".\n",
    "\n",
    "Este processo de analise de dados é bastante comum em diversas áreas dentre elas temos a área da saúde, mercado financeiro, empresas de consultoria, a própria academia  entre várias outras.\n",
    "\n",
    "Mas o que é um <font color = #045cbc>**\"dado\"** <font color = black>?\n",
    "    \n",
    "De acordo com [Valdemar Setzer](https://www.ime.usp.br/~vwsetzer/datagrama.html#Autor), professor do departamento de ciência da computação da USP, dado é <i>**\"uma seqüência de símbolos quantificados ou quantificáveis\"**</i>. Isso pode incluir uma vasta gama de conteúdos, que podem ser de ordem geográfica, temporal, sonora, tabular, textual, visual etc. "
   ]
  },
  {
   "cell_type": "markdown",
   "id": "fbdf51ec",
   "metadata": {
    "slideshow": {
     "slide_type": "subslide"
    }
   },
   "source": [
    "<img src = 'imagens/tipos de dados/geograficos.png' > <br> Fonte : [**Geopandas**](https://geopandas.org/en/stable/docs/user_guide/data_structures.html)"
   ]
  },
  {
   "cell_type": "markdown",
   "id": "d8a20f3a",
   "metadata": {
    "slideshow": {
     "slide_type": "subslide"
    }
   },
   "source": [
    "<img src = 'imagens/tipos de dados/série de tempo.png' >"
   ]
  },
  {
   "cell_type": "markdown",
   "id": "3f27c2fe",
   "metadata": {
    "slideshow": {
     "slide_type": "slide"
    }
   },
   "source": [
    "### <span style = \"font-family:Times New Roman\"> <font color = #045cbc> Algumas Ferramentas Disponíveis "
   ]
  },
  {
   "cell_type": "markdown",
   "id": "bac9fd9b",
   "metadata": {
    "slideshow": {
     "slide_type": "fragment"
    }
   },
   "source": [
    "<img src = 'imagens/Algumas Ferramentas para Análise.png' width = 720 >"
   ]
  },
  {
   "cell_type": "markdown",
   "id": "a2ca9287",
   "metadata": {
    "slideshow": {
     "slide_type": "fragment"
    }
   },
   "source": [
    "Existem uma série de ferramentas disponíveis para análise de dados. Nesta apresentação vamos comentar algumas famosas. "
   ]
  },
  {
   "cell_type": "markdown",
   "id": "6f504e8f",
   "metadata": {
    "slideshow": {
     "slide_type": "subslide"
    }
   },
   "source": [
    "<img src = 'imagens/ferramentas/2.png' >"
   ]
  },
  {
   "cell_type": "markdown",
   "id": "a36bdadc",
   "metadata": {
    "slideshow": {
     "slide_type": "subslide"
    }
   },
   "source": [
    "<img src = 'imagens/ferramentas/3.png' >\n",
    "\n",
    "Fonte: [**Microsoft**](https://docs.microsoft.com/pt-br/power-bi/admin/service-admin-manage-your-data-storage-in-power-bi)"
   ]
  },
  {
   "cell_type": "markdown",
   "id": "229135fc",
   "metadata": {
    "slideshow": {
     "slide_type": "subslide"
    }
   },
   "source": [
    "<img src = 'imagens/ferramentas/4.png' >"
   ]
  },
  {
   "cell_type": "markdown",
   "id": "54c02610",
   "metadata": {
    "slideshow": {
     "slide_type": "subslide"
    }
   },
   "source": [
    "<img src = 'imagens/ferramentas/5.png' >"
   ]
  },
  {
   "cell_type": "code",
   "execution_count": null,
   "id": "131a9cb8",
   "metadata": {
    "slideshow": {
     "slide_type": "fragment"
    }
   },
   "outputs": [],
   "source": []
  },
  {
   "cell_type": "code",
   "execution_count": null,
   "id": "a3a01cab",
   "metadata": {},
   "outputs": [],
   "source": []
  },
  {
   "cell_type": "code",
   "execution_count": null,
   "id": "6c6c3836",
   "metadata": {},
   "outputs": [],
   "source": []
  },
  {
   "cell_type": "code",
   "execution_count": null,
   "id": "230169bd",
   "metadata": {},
   "outputs": [],
   "source": []
  },
  {
   "cell_type": "code",
   "execution_count": null,
   "id": "e2561d87",
   "metadata": {},
   "outputs": [],
   "source": []
  },
  {
   "cell_type": "code",
   "execution_count": null,
   "id": "65160cf1",
   "metadata": {},
   "outputs": [],
   "source": []
  },
  {
   "cell_type": "code",
   "execution_count": null,
   "id": "f698ba43",
   "metadata": {},
   "outputs": [],
   "source": []
  },
  {
   "cell_type": "code",
   "execution_count": null,
   "id": "13e083ad",
   "metadata": {},
   "outputs": [],
   "source": []
  }
 ],
 "metadata": {
  "celltoolbar": "Slideshow",
  "kernelspec": {
   "display_name": "Python 3 (ipykernel)",
   "language": "python",
   "name": "python3"
  },
  "language_info": {
   "codemirror_mode": {
    "name": "ipython",
    "version": 3
   },
   "file_extension": ".py",
   "mimetype": "text/x-python",
   "name": "python",
   "nbconvert_exporter": "python",
   "pygments_lexer": "ipython3",
   "version": "3.9.5"
  }
 },
 "nbformat": 4,
 "nbformat_minor": 5
}
