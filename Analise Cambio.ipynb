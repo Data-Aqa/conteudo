{
 "cells": [
  {
   "cell_type": "markdown",
   "id": "34efbffa",
   "metadata": {},
   "source": [
    "## Objetivo"
   ]
  },
  {
   "cell_type": "markdown",
   "id": "7499fe12",
   "metadata": {},
   "source": [
    "#### O projeto procura comparar a correlação de Taxa de Câmbio com as Exportações da Russia no seu período de Guerra (Janeiro de 2022) e também olhar esse comportamento durante o tempo. "
   ]
  },
  {
   "cell_type": "markdown",
   "id": "4ae7ca1e",
   "metadata": {},
   "source": [
    "### DataFrame - Taxa de Câmbio"
   ]
  },
  {
   "cell_type": "markdown",
   "id": "0797ece3",
   "metadata": {},
   "source": [
    "fedesoriano. (April 2022). USD / RUB - Historical Data. Retrieved [Date Retrieved] from <https://www.kaggle.com/datasets/fedesoriano/usd-rub-historical-data>"
   ]
  },
  {
   "cell_type": "code",
   "execution_count": null,
   "id": "c6ac1fe8",
   "metadata": {},
   "outputs": [],
   "source": [
    "cambio = pd.read_csv('USD_RUB.csv')"
   ]
  },
  {
   "cell_type": "code",
   "execution_count": null,
   "id": "14c59bc7",
   "metadata": {},
   "outputs": [],
   "source": [
    "cambio.axes"
   ]
  },
  {
   "cell_type": "code",
   "execution_count": null,
   "id": "ea393b2d",
   "metadata": {},
   "outputs": [],
   "source": [
    "cambio"
   ]
  },
  {
   "cell_type": "code",
   "execution_count": null,
   "id": "611b4193",
   "metadata": {},
   "outputs": [],
   "source": [
    "cambio['Date'] = pd.to_datetime(cambio['Date'])\n",
    "cambio.set_index('Date', inplace=True)"
   ]
  },
  {
   "cell_type": "code",
   "execution_count": null,
   "id": "de2dac4e",
   "metadata": {},
   "outputs": [],
   "source": [
    "cambio"
   ]
  },
  {
   "cell_type": "code",
   "execution_count": null,
   "id": "4ded6585",
   "metadata": {},
   "outputs": [],
   "source": [
    "cambio['2022-01']"
   ]
  },
  {
   "cell_type": "code",
   "execution_count": null,
   "id": "370699dd",
   "metadata": {},
   "outputs": [],
   "source": [
    "# Calculo da média \n",
    "\n",
    "media_cambio_jan = cambio.loc['2022-01']['Price'].mean()\n",
    "media_cambio_fev = cambio.loc['2022-02']['Price'].mean()\n",
    "media_cambio_mar = cambio.loc['2022-03']['Price'].mean()\n",
    "\n",
    "# Calculo da mediana\n",
    "\n",
    "median_cambio_jan = cambio.loc['2022-01']['Price'].median()\n",
    "median_cambio_fev = cambio.loc['2022-02']['Price'].median()\n",
    "median_cambio_mar = cambio.loc['2022-03']['Price'].median()"
   ]
  },
  {
   "cell_type": "code",
   "execution_count": null,
   "id": "06e90e55",
   "metadata": {},
   "outputs": [],
   "source": [
    "pd.DataFrame()"
   ]
  },
  {
   "cell_type": "markdown",
   "id": "a65f722f",
   "metadata": {},
   "source": [
    "### DICA : CRIAR UM DATAFRAME (pd.DataFrame) COM AS VARIÁVEIS DE CÂMBIO DE MÉDIA E MEDIANA "
   ]
  }
 ],
 "metadata": {
  "kernelspec": {
   "display_name": "Python 3 (ipykernel)",
   "language": "python",
   "name": "python3"
  },
  "language_info": {
   "codemirror_mode": {
    "name": "ipython",
    "version": 3
   },
   "file_extension": ".py",
   "mimetype": "text/x-python",
   "name": "python",
   "nbconvert_exporter": "python",
   "pygments_lexer": "ipython3",
   "version": "3.9.5"
  }
 },
 "nbformat": 4,
 "nbformat_minor": 5
}
